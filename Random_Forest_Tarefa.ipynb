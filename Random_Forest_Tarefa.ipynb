{
  "nbformat": 4,
  "nbformat_minor": 0,
  "metadata": {
    "kernelspec": {
      "display_name": "Python 3",
      "language": "python",
      "name": "python3"
    },
    "language_info": {
      "codemirror_mode": {
        "name": "ipython",
        "version": 3
      },
      "file_extension": ".py",
      "mimetype": "text/x-python",
      "name": "python",
      "nbconvert_exporter": "python",
      "pygments_lexer": "ipython3",
      "version": "3.7.6"
    },
    "colab": {
      "name": "Random_Forest_Tarefa.ipynb",
      "provenance": [],
      "collapsed_sections": []
    }
  },
  "cells": [
    {
      "cell_type": "markdown",
      "metadata": {
        "id": "P-pgposOfHKv"
      },
      "source": [
        "Classificador de flores Íris<br/>\n",
        "Trilha 5: Tarefa"
      ]
    },
    {
      "cell_type": "code",
      "metadata": {
        "id": "_fO1ithhfHK0"
      },
      "source": [
        "import numpy as np\n",
        "from sklearn.datasets import load_iris\n",
        "from sklearn.ensemble import RandomForestClassifier\n",
        "from sklearn import tree\n",
        "import matplotlib.pyplot as plt\n",
        "from sklearn.metrics import accuracy_score\n"
      ],
      "execution_count": null,
      "outputs": []
    },
    {
      "cell_type": "code",
      "metadata": {
        "id": "VuDB9fSOfHK1"
      },
      "source": [
        "#Obtendo o Dataset\n",
        "data = load_iris()\n",
        "X=data['data']\n",
        "y=data['target']"
      ],
      "execution_count": null,
      "outputs": []
    },
    {
      "cell_type": "code",
      "metadata": {
        "colab": {
          "base_uri": "https://localhost:8080/"
        },
        "id": "ymIXEokFfHK2",
        "outputId": "7efdc873-42ed-49ef-fce5-e458fc9165bd"
      },
      "source": [
        "X[:3],y[:3]# 3 primeiras linhas do dataset e do target"
      ],
      "execution_count": null,
      "outputs": [
        {
          "output_type": "execute_result",
          "data": {
            "text/plain": [
              "(array([[5.1, 3.5, 1.4, 0.2],\n",
              "        [4.9, 3. , 1.4, 0.2],\n",
              "        [4.7, 3.2, 1.3, 0.2]]), array([0, 0, 0]))"
            ]
          },
          "metadata": {
            "tags": []
          },
          "execution_count": 4
        }
      ]
    },
    {
      "cell_type": "code",
      "metadata": {
        "colab": {
          "base_uri": "https://localhost:8080/"
        },
        "id": "KeBIdFQ2fHK2",
        "outputId": "ef0a1220-3bdf-4eb2-e2e6-0e8afe1bb14f"
      },
      "source": [
        "#Nomes das Features\n",
        "data['feature_names']"
      ],
      "execution_count": null,
      "outputs": [
        {
          "output_type": "execute_result",
          "data": {
            "text/plain": [
              "['sepal length (cm)',\n",
              " 'sepal width (cm)',\n",
              " 'petal length (cm)',\n",
              " 'petal width (cm)']"
            ]
          },
          "metadata": {
            "tags": []
          },
          "execution_count": 5
        }
      ]
    },
    {
      "cell_type": "code",
      "metadata": {
        "colab": {
          "base_uri": "https://localhost:8080/"
        },
        "id": "biOpZghOfHK3",
        "outputId": "ab5114d9-2597-4448-e174-f2d39cc8cb65"
      },
      "source": [
        "data['target_names']"
      ],
      "execution_count": null,
      "outputs": [
        {
          "output_type": "execute_result",
          "data": {
            "text/plain": [
              "array(['setosa', 'versicolor', 'virginica'], dtype='<U10')"
            ]
          },
          "metadata": {
            "tags": []
          },
          "execution_count": 6
        }
      ]
    },
    {
      "cell_type": "markdown",
      "metadata": {
        "id": "sIW6cgn_fHK3"
      },
      "source": [
        "##### Verificar a acurácia para 2,4, 8 e 50 árvores de decisão"
      ]
    },
    {
      "cell_type": "code",
      "metadata": {
        "colab": {
          "base_uri": "https://localhost:8080/"
        },
        "id": "grgz6V_1fHK3",
        "outputId": "91d77222-291e-41f1-8df7-d1679319c8d8"
      },
      "source": [
        "#criação do modelo 2 arvores, treinando e exibindo a accurary score\n",
        "rf2=RandomForestClassifier(n_estimators=2, max_depth=4,max_features=2,random_state=51)\n",
        "rf2.fit(X,y)\n",
        "predicted = rf2.predict(X)\n",
        "accuracy = accuracy_score(y, predicted)\n",
        "print(f'Accuracy score: {accuracy:.3}')"
      ],
      "execution_count": null,
      "outputs": [
        {
          "output_type": "stream",
          "text": [
            "Accuracy score: 0.96\n"
          ],
          "name": "stdout"
        }
      ]
    },
    {
      "cell_type": "code",
      "metadata": {
        "colab": {
          "base_uri": "https://localhost:8080/"
        },
        "id": "8k8wtxJejtPU",
        "outputId": "c24eb7e8-ecd2-4bf0-c8ad-b2184991abfd"
      },
      "source": [
        "#criação do modelo 2 arvores, treinando e exibindo a accurary score\n",
        "rf4=RandomForestClassifier(n_estimators=4, max_depth=4,max_features=2,random_state=51)\n",
        "rf4.fit(X,y)\n",
        "predicted = rf4.predict(X)\n",
        "accuracy = accuracy_score(y, predicted)\n",
        "print(f'Accuracy score: {accuracy:.3}')"
      ],
      "execution_count": null,
      "outputs": [
        {
          "output_type": "stream",
          "text": [
            "Accuracy score: 0.98\n"
          ],
          "name": "stdout"
        }
      ]
    },
    {
      "cell_type": "code",
      "metadata": {
        "colab": {
          "base_uri": "https://localhost:8080/"
        },
        "id": "J7gAgUWEjvQJ",
        "outputId": "ba26ed8c-f442-4f1c-e79d-89c6c44e11dc"
      },
      "source": [
        "#criação do modelo 2 arvores, treinando e exibindo a accurary score\n",
        "rf8=RandomForestClassifier(n_estimators=8, max_depth=4,max_features=2,random_state=51)\n",
        "rf8.fit(X,y)\n",
        "predicted = rf8.predict(X)\n",
        "accuracy = accuracy_score(y, predicted)\n",
        "print(f'Accuracy score: {accuracy:.3}')"
      ],
      "execution_count": null,
      "outputs": [
        {
          "output_type": "stream",
          "text": [
            "Accuracy score: 0.973\n"
          ],
          "name": "stdout"
        }
      ]
    },
    {
      "cell_type": "code",
      "metadata": {
        "colab": {
          "base_uri": "https://localhost:8080/"
        },
        "id": "HKUgBG1cjxHi",
        "outputId": "556fc0d0-2578-430d-f384-491a94376ddd"
      },
      "source": [
        "#criação do modelo 2 arvores, treinando e exibindo a accurary score\n",
        "rf50=RandomForestClassifier(n_estimators=50, max_depth=4,max_features=2,random_state=51)\n",
        "rf50.fit(X,y)\n",
        "predicted = rf50.predict(X)\n",
        "accuracy = accuracy_score(y, predicted)\n",
        "print(f'Accuracy score: {accuracy:.3}')"
      ],
      "execution_count": null,
      "outputs": [
        {
          "output_type": "stream",
          "text": [
            "Accuracy score: 0.987\n"
          ],
          "name": "stdout"
        }
      ]
    },
    {
      "cell_type": "code",
      "metadata": {
        "colab": {
          "base_uri": "https://localhost:8080/"
        },
        "id": "l1_2RR2RgtY_",
        "outputId": "51b9b4fa-56f2-40aa-974d-8c0305ea03b6"
      },
      "source": [
        "#Arvore 1\n",
        "rf50.estimators_[0].predict([[5.8,3.2,5.0,1.98]])"
      ],
      "execution_count": null,
      "outputs": [
        {
          "output_type": "execute_result",
          "data": {
            "text/plain": [
              "array([2.])"
            ]
          },
          "metadata": {
            "tags": []
          },
          "execution_count": 59
        }
      ]
    },
    {
      "cell_type": "code",
      "metadata": {
        "colab": {
          "base_uri": "https://localhost:8080/"
        },
        "id": "P3o-oO2wgzqo",
        "outputId": "97cf7f3c-bc89-45c8-8234-3ecb50c69fae"
      },
      "source": [
        "#Arvore 1\n",
        "rf50.estimators_[0].predict_proba([[5.8,3.2,5.0,1.98]])"
      ],
      "execution_count": null,
      "outputs": [
        {
          "output_type": "execute_result",
          "data": {
            "text/plain": [
              "array([[0., 0., 1.]])"
            ]
          },
          "metadata": {
            "tags": []
          },
          "execution_count": 60
        }
      ]
    },
    {
      "cell_type": "code",
      "metadata": {
        "colab": {
          "base_uri": "https://localhost:8080/"
        },
        "id": "qFpqRhB7g0hI",
        "outputId": "974ba9c0-2c1e-46c8-d2a5-982fe72f0340"
      },
      "source": [
        "#Arvore 2\n",
        "rf50.estimators_[1].predict([[5.8,3.2,5.0,1.98]])"
      ],
      "execution_count": null,
      "outputs": [
        {
          "output_type": "execute_result",
          "data": {
            "text/plain": [
              "array([2.])"
            ]
          },
          "metadata": {
            "tags": []
          },
          "execution_count": 61
        }
      ]
    },
    {
      "cell_type": "code",
      "metadata": {
        "colab": {
          "base_uri": "https://localhost:8080/"
        },
        "id": "Dj5FfLkBg2FC",
        "outputId": "1e9075dd-22c6-47f4-b396-08d65055e6e7"
      },
      "source": [
        "#Arvore 2\n",
        "rf50.estimators_[1].predict_proba([[5.8,3.2,5.0,1.98]])"
      ],
      "execution_count": null,
      "outputs": [
        {
          "output_type": "execute_result",
          "data": {
            "text/plain": [
              "array([[0., 0., 1.]])"
            ]
          },
          "metadata": {
            "tags": []
          },
          "execution_count": 62
        }
      ]
    },
    {
      "cell_type": "code",
      "metadata": {
        "colab": {
          "base_uri": "https://localhost:8080/",
          "height": 466
        },
        "id": "ncL8ZQNwhNs9",
        "outputId": "0fad1b87-0f67-4ddf-ddc9-8bf86d7d7ffe"
      },
      "source": [
        "#mostrando a primeira arvore na floresta\n",
        "plt.figure(figsize=(8,8))\n",
        "tree.plot_tree(rf50.estimators_[0], feature_names=['sep comp', 'sep larg', 'pet comp', 'pet larg'], class_names=['setosa', 'virginica', 'versicolor'],\n",
        "               fontsize=10)\n",
        "plt.show()"
      ],
      "execution_count": null,
      "outputs": [
        {
          "output_type": "display_data",
          "data": {
            "image/png": "[encoded data removed]",
            "text/plain": [
              "<Figure size 576x576 with 1 Axes>"
            ]
          },
          "metadata": {
            "tags": [],
            "needs_background": "light"
          }
        }
      ]
    }
  ]
}