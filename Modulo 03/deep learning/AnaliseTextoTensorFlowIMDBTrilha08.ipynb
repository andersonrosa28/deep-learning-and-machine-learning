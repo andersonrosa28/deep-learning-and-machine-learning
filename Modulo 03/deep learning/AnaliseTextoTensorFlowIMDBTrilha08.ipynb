{
  "nbformat": 4,
  "nbformat_minor": 0,
  "metadata": {
    "colab": {
      "name": "AnaliseTextoTensorFlowIMDBTrilha08.ipynb",
      "provenance": [],
      "collapsed_sections": []
    },
    "kernelspec": {
      "name": "python3",
      "display_name": "Python 3"
    },
    "language_info": {
      "name": "python"
    }
  },
  "cells": [
    {
      "cell_type": "markdown",
      "metadata": {
        "id": "IU6NgIfaGys4"
      },
      "source": [
        "## Analise de texto IMDB utilizando o TensorFlow para atividade de aprofundamento da trilha 04 de DeepLearning.\n",
        "\n",
        "Anderson rosa cascalho"
      ]
    },
    {
      "cell_type": "code",
      "metadata": {
        "id": "_kZvE8AC_t31"
      },
      "source": [
        "import tensorflow as tf\n",
        "from tensorflow import keras\n",
        "\n",
        "import numpy as np\n"
      ],
      "execution_count": null,
      "outputs": []
    },
    {
      "cell_type": "code",
      "metadata": {
        "id": "PISGzPzk_-lH"
      },
      "source": [
        "imdb = keras.datasets.imdb\n",
        "(train_data, train_labels), (test_data, test_labels) = imdb.load_data(num_words=10000)"
      ],
      "execution_count": null,
      "outputs": []
    },
    {
      "cell_type": "markdown",
      "metadata": {
        "id": "XbmN2Ro4A4js"
      },
      "source": [
        "## Tratamento dos dados"
      ]
    },
    {
      "cell_type": "code",
      "metadata": {
        "colab": {
          "base_uri": "https://localhost:8080/"
        },
        "id": "WdGBASpRAVGW",
        "outputId": "fcbfbb96-1027-4e0d-f3f9-0a798db5df6e"
      },
      "source": [
        "print(\"Training entries: {}, labels: {}\".format(len(train_data), len(train_labels)))"
      ],
      "execution_count": null,
      "outputs": [
        {
          "output_type": "stream",
          "name": "stdout",
          "text": [
            "Training entries: 25000, labels: 25000\n"
          ]
        }
      ]
    },
    {
      "cell_type": "code",
      "metadata": {
        "colab": {
          "base_uri": "https://localhost:8080/"
        },
        "id": "r2u6e03gAgPU",
        "outputId": "7b7f05fd-44d3-4388-c490-8adebcb4ab53"
      },
      "source": [
        "print(train_data[0])"
      ],
      "execution_count": null,
      "outputs": [
        {
          "output_type": "stream",
          "name": "stdout",
          "text": [
            "[1, 14, 22, 16, 43, 530, 973, 1622, 1385, 65, 458, 4468, 66, 3941, 4, 173, 36, 256, 5, 25, 100, 43, 838, 112, 50, 670, 2, 9, 35, 480, 284, 5, 150, 4, 172, 112, 167, 2, 336, 385, 39, 4, 172, 4536, 1111, 17, 546, 38, 13, 447, 4, 192, 50, 16, 6, 147, 2025, 19, 14, 22, 4, 1920, 4613, 469, 4, 22, 71, 87, 12, 16, 43, 530, 38, 76, 15, 13, 1247, 4, 22, 17, 515, 17, 12, 16, 626, 18, 2, 5, 62, 386, 12, 8, 316, 8, 106, 5, 4, 2223, 5244, 16, 480, 66, 3785, 33, 4, 130, 12, 16, 38, 619, 5, 25, 124, 51, 36, 135, 48, 25, 1415, 33, 6, 22, 12, 215, 28, 77, 52, 5, 14, 407, 16, 82, 2, 8, 4, 107, 117, 5952, 15, 256, 4, 2, 7, 3766, 5, 723, 36, 71, 43, 530, 476, 26, 400, 317, 46, 7, 4, 2, 1029, 13, 104, 88, 4, 381, 15, 297, 98, 32, 2071, 56, 26, 141, 6, 194, 7486, 18, 4, 226, 22, 21, 134, 476, 26, 480, 5, 144, 30, 5535, 18, 51, 36, 28, 224, 92, 25, 104, 4, 226, 65, 16, 38, 1334, 88, 12, 16, 283, 5, 16, 4472, 113, 103, 32, 15, 16, 5345, 19, 178, 32]\n"
          ]
        }
      ]
    },
    {
      "cell_type": "code",
      "metadata": {
        "colab": {
          "base_uri": "https://localhost:8080/"
        },
        "id": "ZDKfBrgPBZud",
        "outputId": "66091418-00d4-4137-908a-4ebee6d2e7b3"
      },
      "source": [
        "len(train_data[0]), len(train_data[1])"
      ],
      "execution_count": null,
      "outputs": [
        {
          "output_type": "execute_result",
          "data": {
            "text/plain": [
              "(218, 189)"
            ]
          },
          "metadata": {},
          "execution_count": 127
        }
      ]
    },
    {
      "cell_type": "code",
      "metadata": {
        "id": "bY942ytNYVeu"
      },
      "source": [
        "word_index = imdb.get_word_index()\n",
        "# The first indices are reserved\n",
        "word_index = {k:(v+3) for k,v in word_index.items()} \n",
        "word_index[\"<PAD>\"] = 0\n",
        "word_index[\"<START>\"] = 1\n",
        "word_index[\"<UNK>\"] = 2  # unknown\n",
        "word_index[\"<UNUSED>\"] = 3\n",
        "\n",
        "reverse_word_index = dict([(value, key) for (key, value) in word_index.items()])\n",
        "\n",
        "def decode_review(text):\n",
        "    return ' '.join([reverse_word_index.get(i, '?') for i in text])"
      ],
      "execution_count": null,
      "outputs": []
    },
    {
      "cell_type": "code",
      "metadata": {
        "id": "mMshaD0SA83N"
      },
      "source": [
        "#Aqui estamos deixando os dados com o mesmo tamanho, para não dar diferença no tamanho na entrada aos tensores.\n",
        "train_data = keras.preprocessing.sequence.pad_sequences(train_data,\n",
        "                                                        value=word_index[\"<PAD>\"],\n",
        "                                                        padding='post',\n",
        "                                                        maxlen=256)\n",
        "\n",
        "test_data = keras.preprocessing.sequence.pad_sequences(test_data,\n",
        "                                                       value=word_index[\"<PAD>\"],\n",
        "                                                       padding='post',\n",
        "                                                       maxlen=256)"
      ],
      "execution_count": null,
      "outputs": []
    },
    {
      "cell_type": "code",
      "metadata": {
        "colab": {
          "base_uri": "https://localhost:8080/"
        },
        "id": "y-RLhE0JBh53",
        "outputId": "82f815a1-1fa3-4042-8365-d366bc61980d"
      },
      "source": [
        "len(train_data[0]), len(train_data[1])"
      ],
      "execution_count": null,
      "outputs": [
        {
          "output_type": "execute_result",
          "data": {
            "text/plain": [
              "(256, 256)"
            ]
          },
          "metadata": {},
          "execution_count": 130
        }
      ]
    },
    {
      "cell_type": "code",
      "metadata": {
        "colab": {
          "base_uri": "https://localhost:8080/"
        },
        "id": "VlviZajeBzQv",
        "outputId": "3d3b3ec3-7b26-48f4-8998-e71cd622998e"
      },
      "source": [
        "train_data[0]"
      ],
      "execution_count": null,
      "outputs": [
        {
          "output_type": "execute_result",
          "data": {
            "text/plain": [
              "array([   1,   14,   22,   16,   43,  530,  973, 1622, 1385,   65,  458,\n",
              "       4468,   66, 3941,    4,  173,   36,  256,    5,   25,  100,   43,\n",
              "        838,  112,   50,  670,    2,    9,   35,  480,  284,    5,  150,\n",
              "          4,  172,  112,  167,    2,  336,  385,   39,    4,  172, 4536,\n",
              "       1111,   17,  546,   38,   13,  447,    4,  192,   50,   16,    6,\n",
              "        147, 2025,   19,   14,   22,    4, 1920, 4613,  469,    4,   22,\n",
              "         71,   87,   12,   16,   43,  530,   38,   76,   15,   13, 1247,\n",
              "          4,   22,   17,  515,   17,   12,   16,  626,   18,    2,    5,\n",
              "         62,  386,   12,    8,  316,    8,  106,    5,    4, 2223, 5244,\n",
              "         16,  480,   66, 3785,   33,    4,  130,   12,   16,   38,  619,\n",
              "          5,   25,  124,   51,   36,  135,   48,   25, 1415,   33,    6,\n",
              "         22,   12,  215,   28,   77,   52,    5,   14,  407,   16,   82,\n",
              "          2,    8,    4,  107,  117, 5952,   15,  256,    4,    2,    7,\n",
              "       3766,    5,  723,   36,   71,   43,  530,  476,   26,  400,  317,\n",
              "         46,    7,    4,    2, 1029,   13,  104,   88,    4,  381,   15,\n",
              "        297,   98,   32, 2071,   56,   26,  141,    6,  194, 7486,   18,\n",
              "          4,  226,   22,   21,  134,  476,   26,  480,    5,  144,   30,\n",
              "       5535,   18,   51,   36,   28,  224,   92,   25,  104,    4,  226,\n",
              "         65,   16,   38, 1334,   88,   12,   16,  283,    5,   16, 4472,\n",
              "        113,  103,   32,   15,   16, 5345,   19,  178,   32,    0,    0,\n",
              "          0,    0,    0,    0,    0,    0,    0,    0,    0,    0,    0,\n",
              "          0,    0,    0,    0,    0,    0,    0,    0,    0,    0,    0,\n",
              "          0,    0,    0,    0,    0,    0,    0,    0,    0,    0,    0,\n",
              "          0,    0,    0], dtype=int32)"
            ]
          },
          "metadata": {},
          "execution_count": 131
        }
      ]
    },
    {
      "cell_type": "markdown",
      "metadata": {
        "id": "YqmXXhVUCSRg"
      },
      "source": [
        "## Modelo"
      ]
    },
    {
      "cell_type": "code",
      "metadata": {
        "id": "dN33qpY5WSr_"
      },
      "source": [
        "!pip install -q -U keras-tuner"
      ],
      "execution_count": null,
      "outputs": []
    },
    {
      "cell_type": "code",
      "metadata": {
        "id": "HBu2yiO2Wcc-"
      },
      "source": [
        "import kerastuner as kt"
      ],
      "execution_count": null,
      "outputs": []
    },
    {
      "cell_type": "code",
      "metadata": {
        "id": "qcdttslAWedn"
      },
      "source": [
        "def model_builder(hp):\n",
        " \n",
        "  model = keras.Sequential()\n",
        "  model.add(keras.layers.Embedding(10000, 16))\n",
        "  model.add(keras.layers.GlobalAveragePooling1D())\n",
        "\n",
        "  # Tune the number of units in the first Dense layer\n",
        "  # Choose an optimal value between 8-128\n",
        "  hp_units_1 = hp.Int('hp_units_1', min_value=32, max_value=512, step=32)\n",
        "  model.add(keras.layers.Dense(units=hp_units_1, activation='relu'))\n",
        "  \n",
        "  # Tune the number of hidden layers 2-10 and units per layer\n",
        "  for i in range(hp.Int('num_layers', 2, 6)):\n",
        "    model.add(keras.layers.Dense(units=hp.Int('hp_units_' + str(i),\n",
        "                                            min_value=16,\n",
        "                                            max_value=256,\n",
        "                                            step=4),\n",
        "                               activation='relu'))\n",
        "\n",
        "  model.add(keras.layers.Dense(16, activation=tf.nn.relu))\n",
        "  model.add(keras.layers.Dense(1, activation='sigmoid'))\n",
        "\n",
        "  model.compile(optimizer=tf.optimizers.Adam(), \n",
        "                loss='binary_crossentropy', \n",
        "                metrics=['accuracy'])\n",
        "  return model"
      ],
      "execution_count": null,
      "outputs": []
    },
    {
      "cell_type": "code",
      "metadata": {
        "id": "Y7otM-BnW4p_"
      },
      "source": [
        "tuner = kt.Hyperband(model_builder,\n",
        "                     objective='val_accuracy',\n",
        "                     max_epochs=50,\n",
        "                     factor=3,\n",
        "                     directory='mydir',\n",
        "                     project_name='teste25_dl_course')"
      ],
      "execution_count": null,
      "outputs": []
    },
    {
      "cell_type": "code",
      "metadata": {
        "id": "_MzbYubuXEMx"
      },
      "source": [
        "stop_early = tf.keras.callbacks.EarlyStopping(monitor='val_loss', patience=5)"
      ],
      "execution_count": null,
      "outputs": []
    },
    {
      "cell_type": "code",
      "metadata": {
        "colab": {
          "base_uri": "https://localhost:8080/"
        },
        "id": "6ueBChEnXGN4",
        "outputId": "7447a243-92f6-47aa-c044-a2d2119b4807"
      },
      "source": [
        "x_val = train_data[:10000]\n",
        "partial_x_train = train_data[10000:]\n",
        "\n",
        "y_val = train_labels[:10000]\n",
        "partial_y_train = train_labels[10000:]\n",
        "\n",
        "tuner.search(partial_x_train, partial_y_train, \n",
        "             batch_size=512,\n",
        "             epochs=40, \n",
        "             validation_data=(x_val, y_val),\n",
        "             verbose=1,\n",
        "             callbacks=[stop_early])\n",
        "\n"
      ],
      "execution_count": null,
      "outputs": [
        {
          "output_type": "stream",
          "name": "stdout",
          "text": [
            "Trial 90 Complete [00h 00m 22s]\n",
            "val_accuracy: 0.8822000026702881\n",
            "\n",
            "Best val_accuracy So Far: 0.8863999843597412\n",
            "Total elapsed time: 00h 14m 00s\n",
            "INFO:tensorflow:Oracle triggered exit\n"
          ]
        }
      ]
    },
    {
      "cell_type": "code",
      "metadata": {
        "id": "oAbp4QPopvyu"
      },
      "source": [
        "# Get the optimal hyperparameters\n",
        "best_hps=tuner.get_best_hyperparameters(num_trials=1)[0]"
      ],
      "execution_count": null,
      "outputs": []
    },
    {
      "cell_type": "code",
      "metadata": {
        "colab": {
          "base_uri": "https://localhost:8080/"
        },
        "id": "zyjxnX1uXW5Z",
        "outputId": "a5ada0b9-f08f-4108-ba2f-2a92d979113e"
      },
      "source": [
        "print(f\"\"\"\n",
        "The hyperparameter search is complete.\n",
        "\n",
        "The optimal learning rate for the optimizer is {best_hps.get('learning_rate')}.\n",
        "\"\"\")\n",
        "\n",
        "\n",
        "print('Best layers units: \\n')\n",
        "for i in range(2,6):\n",
        "  print('Layer: ', i-1, ' , ', best_hps.get('hp_units_' + str(i)), ' units')"
      ],
      "execution_count": null,
      "outputs": [
        {
          "output_type": "stream",
          "name": "stdout",
          "text": [
            "\n",
            "The hyperparameter search is complete.\n",
            "\n",
            "The optimal learning rate for the optimizer is 0.0001.\n",
            "\n",
            "Best layers units: \n",
            "\n",
            "Layer:  1  ,  244  units\n",
            "Layer:  2  ,  224  units\n",
            "Layer:  3  ,  212  units\n",
            "Layer:  4  ,  52  units\n"
          ]
        }
      ]
    },
    {
      "cell_type": "code",
      "metadata": {
        "colab": {
          "base_uri": "https://localhost:8080/"
        },
        "id": "h2UUh54-CRu_",
        "outputId": "9d3577b4-97a1-4b81-bc19-8b5316e86514"
      },
      "source": [
        "# Build the model with the optimal hyperparameters and train it on the data for 50 epochs\n",
        "model = tuner.hypermodel.build(best_hps)\n",
        "\n",
        "history = model.fit(partial_x_train, partial_y_train, \n",
        "                    batch_size=512,\n",
        "                    epochs=40, \n",
        "                    validation_split=0.2,\n",
        "                    verbose=1)\n",
        "\n",
        "val_acc_per_epoch = history.history['val_accuracy']\n",
        "best_epoch = val_acc_per_epoch.index(max(val_acc_per_epoch)) + 1\n",
        "print('Best epoch: %d' % (best_epoch,))\n"
      ],
      "execution_count": null,
      "outputs": [
        {
          "output_type": "stream",
          "name": "stdout",
          "text": [
            "Epoch 1/40\n",
            "24/24 [==============================] - 2s 46ms/step - loss: 0.6932 - accuracy: 0.4996 - val_loss: 0.6931 - val_accuracy: 0.5053\n",
            "Epoch 2/40\n",
            "24/24 [==============================] - 1s 37ms/step - loss: 0.6931 - accuracy: 0.5031 - val_loss: 0.6931 - val_accuracy: 0.5053\n",
            "Epoch 3/40\n",
            "24/24 [==============================] - 1s 36ms/step - loss: 0.6931 - accuracy: 0.5031 - val_loss: 0.6931 - val_accuracy: 0.5053\n",
            "Epoch 4/40\n",
            "24/24 [==============================] - 1s 36ms/step - loss: 0.6931 - accuracy: 0.5031 - val_loss: 0.6931 - val_accuracy: 0.5053\n",
            "Epoch 5/40\n",
            "24/24 [==============================] - 1s 37ms/step - loss: 0.6931 - accuracy: 0.5031 - val_loss: 0.6931 - val_accuracy: 0.5053\n",
            "Epoch 6/40\n",
            "24/24 [==============================] - 1s 35ms/step - loss: 0.6931 - accuracy: 0.5031 - val_loss: 0.6931 - val_accuracy: 0.5053\n",
            "Epoch 7/40\n",
            "24/24 [==============================] - 1s 35ms/step - loss: 0.6931 - accuracy: 0.5031 - val_loss: 0.6931 - val_accuracy: 0.5053\n",
            "Epoch 8/40\n",
            "24/24 [==============================] - 1s 36ms/step - loss: 0.6931 - accuracy: 0.5031 - val_loss: 0.6931 - val_accuracy: 0.5053\n",
            "Epoch 9/40\n",
            "24/24 [==============================] - 1s 36ms/step - loss: 0.6931 - accuracy: 0.5031 - val_loss: 0.6931 - val_accuracy: 0.5053\n",
            "Epoch 10/40\n",
            "24/24 [==============================] - 1s 35ms/step - loss: 0.6931 - accuracy: 0.5031 - val_loss: 0.6931 - val_accuracy: 0.5053\n",
            "Epoch 11/40\n",
            "24/24 [==============================] - 1s 36ms/step - loss: 0.6931 - accuracy: 0.5031 - val_loss: 0.6931 - val_accuracy: 0.5053\n",
            "Epoch 12/40\n",
            "24/24 [==============================] - 1s 36ms/step - loss: 0.6931 - accuracy: 0.5031 - val_loss: 0.6931 - val_accuracy: 0.5053\n",
            "Epoch 13/40\n",
            "24/24 [==============================] - 1s 36ms/step - loss: 0.6931 - accuracy: 0.5031 - val_loss: 0.6931 - val_accuracy: 0.5053\n",
            "Epoch 14/40\n",
            "24/24 [==============================] - 1s 36ms/step - loss: 0.6931 - accuracy: 0.5031 - val_loss: 0.6931 - val_accuracy: 0.5053\n",
            "Epoch 15/40\n",
            "24/24 [==============================] - 1s 36ms/step - loss: 0.6931 - accuracy: 0.5031 - val_loss: 0.6931 - val_accuracy: 0.5053\n",
            "Epoch 16/40\n",
            "24/24 [==============================] - 1s 35ms/step - loss: 0.6931 - accuracy: 0.5031 - val_loss: 0.6931 - val_accuracy: 0.5053\n",
            "Epoch 17/40\n",
            "24/24 [==============================] - 1s 37ms/step - loss: 0.6931 - accuracy: 0.5031 - val_loss: 0.6931 - val_accuracy: 0.5053\n",
            "Epoch 18/40\n",
            "24/24 [==============================] - 1s 35ms/step - loss: 0.6931 - accuracy: 0.5031 - val_loss: 0.6931 - val_accuracy: 0.5053\n",
            "Epoch 19/40\n",
            "24/24 [==============================] - 1s 36ms/step - loss: 0.6931 - accuracy: 0.5031 - val_loss: 0.6931 - val_accuracy: 0.5053\n",
            "Epoch 20/40\n",
            "24/24 [==============================] - 1s 36ms/step - loss: 0.6931 - accuracy: 0.5031 - val_loss: 0.6931 - val_accuracy: 0.5053\n",
            "Epoch 21/40\n",
            "24/24 [==============================] - 1s 35ms/step - loss: 0.6931 - accuracy: 0.5031 - val_loss: 0.6931 - val_accuracy: 0.5053\n",
            "Epoch 22/40\n",
            "24/24 [==============================] - 1s 35ms/step - loss: 0.6931 - accuracy: 0.5031 - val_loss: 0.6931 - val_accuracy: 0.5053\n",
            "Epoch 23/40\n",
            "24/24 [==============================] - 1s 35ms/step - loss: 0.6931 - accuracy: 0.5031 - val_loss: 0.6931 - val_accuracy: 0.5053\n",
            "Epoch 24/40\n",
            "24/24 [==============================] - 1s 36ms/step - loss: 0.6931 - accuracy: 0.5031 - val_loss: 0.6931 - val_accuracy: 0.5053\n",
            "Epoch 25/40\n",
            "24/24 [==============================] - 1s 35ms/step - loss: 0.6931 - accuracy: 0.5031 - val_loss: 0.6931 - val_accuracy: 0.5053\n",
            "Epoch 26/40\n",
            "24/24 [==============================] - 1s 36ms/step - loss: 0.6931 - accuracy: 0.5031 - val_loss: 0.6931 - val_accuracy: 0.5053\n",
            "Epoch 27/40\n",
            "24/24 [==============================] - 1s 37ms/step - loss: 0.6931 - accuracy: 0.5031 - val_loss: 0.6931 - val_accuracy: 0.5053\n",
            "Epoch 28/40\n",
            "24/24 [==============================] - 1s 37ms/step - loss: 0.6931 - accuracy: 0.5031 - val_loss: 0.6931 - val_accuracy: 0.5053\n",
            "Epoch 29/40\n",
            "24/24 [==============================] - 1s 36ms/step - loss: 0.6931 - accuracy: 0.5031 - val_loss: 0.6931 - val_accuracy: 0.5053\n",
            "Epoch 30/40\n",
            "24/24 [==============================] - 1s 36ms/step - loss: 0.6931 - accuracy: 0.5031 - val_loss: 0.6931 - val_accuracy: 0.5053\n",
            "Epoch 31/40\n",
            "24/24 [==============================] - 1s 36ms/step - loss: 0.6931 - accuracy: 0.5031 - val_loss: 0.6931 - val_accuracy: 0.5053\n",
            "Epoch 32/40\n",
            "24/24 [==============================] - 1s 37ms/step - loss: 0.6931 - accuracy: 0.5031 - val_loss: 0.6931 - val_accuracy: 0.5053\n",
            "Epoch 33/40\n",
            "24/24 [==============================] - 1s 36ms/step - loss: 0.6931 - accuracy: 0.5031 - val_loss: 0.6931 - val_accuracy: 0.5053\n",
            "Epoch 34/40\n",
            "24/24 [==============================] - 1s 35ms/step - loss: 0.6931 - accuracy: 0.5031 - val_loss: 0.6931 - val_accuracy: 0.5053\n",
            "Epoch 35/40\n",
            "24/24 [==============================] - 1s 36ms/step - loss: 0.6931 - accuracy: 0.5031 - val_loss: 0.6931 - val_accuracy: 0.5053\n",
            "Epoch 36/40\n",
            "24/24 [==============================] - 1s 35ms/step - loss: 0.6931 - accuracy: 0.5031 - val_loss: 0.6931 - val_accuracy: 0.5053\n",
            "Epoch 37/40\n",
            "24/24 [==============================] - 1s 35ms/step - loss: 0.6931 - accuracy: 0.5031 - val_loss: 0.6931 - val_accuracy: 0.5053\n",
            "Epoch 38/40\n",
            "24/24 [==============================] - 1s 36ms/step - loss: 0.6931 - accuracy: 0.5031 - val_loss: 0.6931 - val_accuracy: 0.5053\n",
            "Epoch 39/40\n",
            "24/24 [==============================] - 1s 36ms/step - loss: 0.6931 - accuracy: 0.5031 - val_loss: 0.6931 - val_accuracy: 0.5053\n",
            "Epoch 40/40\n",
            "24/24 [==============================] - 1s 36ms/step - loss: 0.6931 - accuracy: 0.5031 - val_loss: 0.6931 - val_accuracy: 0.5053\n",
            "Best epoch: 1\n"
          ]
        }
      ]
    },
    {
      "cell_type": "code",
      "metadata": {
        "id": "7cvzkRifDTfq",
        "colab": {
          "base_uri": "https://localhost:8080/"
        },
        "outputId": "10233869-4151-41ee-b2ea-87fc60fe1a19"
      },
      "source": [
        "hypermodel = tuner.hypermodel.build(best_hps)\n",
        "\n",
        "# Retrain the model\n",
        "hypermodel.fit(partial_x_train, partial_y_train, \n",
        "               batch_size=64,\n",
        "               epochs=best_epoch,\n",
        "               validation_split=0.2)"
      ],
      "execution_count": null,
      "outputs": [
        {
          "output_type": "stream",
          "name": "stdout",
          "text": [
            "188/188 [==============================] - 3s 12ms/step - loss: 0.6932 - accuracy: 0.4939 - val_loss: 0.6931 - val_accuracy: 0.5053\n"
          ]
        },
        {
          "output_type": "execute_result",
          "data": {
            "text/plain": [
              "<keras.callbacks.History at 0x7f963f847310>"
            ]
          },
          "metadata": {},
          "execution_count": 195
        }
      ]
    },
    {
      "cell_type": "code",
      "metadata": {
        "colab": {
          "base_uri": "https://localhost:8080/"
        },
        "id": "AgMzqwiNjSc0",
        "outputId": "0327a165-2d6d-47e7-8c78-2dafc3e2b481"
      },
      "source": [
        "eval_result = hypermodel.evaluate(test_data, test_labels)\n",
        "print(\"[test loss, test accuracy]:\", eval_result)"
      ],
      "execution_count": null,
      "outputs": [
        {
          "output_type": "stream",
          "name": "stdout",
          "text": [
            "782/782 [==============================] - 2s 2ms/step - loss: 0.3507 - accuracy: 0.8504\n",
            "[test loss, test accuracy]: [0.35073956847190857, 0.8503599762916565]\n"
          ]
        }
      ]
    }
  ]
}