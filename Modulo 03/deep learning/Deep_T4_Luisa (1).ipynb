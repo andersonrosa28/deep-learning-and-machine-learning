{
  "nbformat": 4,
  "nbformat_minor": 0,
  "metadata": {
    "colab": {
      "name": "Deep.T4.Luisa",
      "provenance": [],
      "collapsed_sections": []
    },
    "kernelspec": {
      "name": "python3",
      "display_name": "Python 3"
    },
    "language_info": {
      "name": "python"
    }
  },
  "cells": [
    {
      "cell_type": "markdown",
      "metadata": {
        "id": "1_nAvNQ7mUDv"
      },
      "source": [
        "\n",
        "#Tarefa de aprofundamento - trilha 4 - Luisa Centofanti - 92101399"
      ]
    },
    {
      "cell_type": "code",
      "metadata": {
        "id": "RmqqN2UFmM7R"
      },
      "source": [
        "#importando bibliotecas\n",
        "import numpy as np \n",
        "import pandas as pd \n",
        "import matplotlib.pyplot as plt \n",
        "import seaborn as sns \n",
        "%matplotlib inline\n",
        "\n",
        "from sklearn.preprocessing import scale\n",
        "from sklearn.model_selection import train_test_split\n",
        "from sklearn.metrics import confusion_matrix, classification_report, accuracy_score\n",
        "\n",
        "from tensorflow import keras\n",
        "from tensorflow.keras import layers\n",
        "import tensorflow as tf"
      ],
      "execution_count": null,
      "outputs": []
    },
    {
      "cell_type": "code",
      "metadata": {
        "id": "B-Yoau3YmoJA"
      },
      "source": [
        "#acurácia\n",
        "def display_acc_hist(history):\n",
        "  history_df = pd.DataFrame(history.history)\n",
        "  display(history_df.head())\n",
        "  # Start the plot at epoch 0\n",
        "  history_df.loc[0:, ['loss', 'val_loss']].plot()\n",
        "  history_df.loc[0:, ['accuracy', 'val_accuracy']].plot()\n",
        "\n",
        "  print((\"Best Validation Loss: {:0.4f}\" +\\\n",
        "      \"\\nBest Validation Accuracy: {:0.4f}\")\\\n",
        "      .format(history_df['val_loss'].min(), \n",
        "              history_df['val_accuracy'].max()))\n",
        "  return\n",
        "\n",
        "def display_binary_acc_hist(history):\n",
        "  history_df = pd.DataFrame(history.history)\n",
        "  display(history_df.head())\n",
        "  # Start the plot at epoch 0\n",
        "  history_df.loc[0:, ['loss', 'val_loss']].plot()\n",
        "  history_df.loc[0:, ['binary_accuracy', 'val_binary_accuracy']].plot()\n",
        "\n",
        "  print((\"Best Validation Loss: {:0.4f}\" +\\\n",
        "      \"\\nBest Validation Accuracy: {:0.4f}\")\\\n",
        "      .format(history_df['val_loss'].min(), \n",
        "              history_df['val_binary_accuracy'].max()))\n",
        "  return\n",
        "\n",
        "\n",
        "\n",
        "def print_results(y_test, y_pred):\n",
        "  print('Matriz de Confusão: \\n' , confusion_matrix(y_test, y_pred))\n",
        "  print(classification_report(y_test, y_pred))\n",
        "  print('Acuracidade: ' , accuracy_score(y_test, y_pred))\n",
        "  return"
      ],
      "execution_count": null,
      "outputs": []
    },
    {
      "cell_type": "markdown",
      "metadata": {
        "id": "Yg8GsO72m8wX"
      },
      "source": [
        "A base de dados escolhida foi sobre a potabilidade da água\n"
      ]
    },
    {
      "cell_type": "code",
      "metadata": {
        "colab": {
          "resources": {
            "http://localhost:8080/nbextensions/google.colab/files.js": {
              "data": "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",
              "ok": true,
              "headers": [
                [
                  "content-type",
                  "application/javascript"
                ]
              ],
              "status": 200,
              "status_text": ""
            }
          },
          "base_uri": "https://localhost:8080/",
          "height": 74
        },
        "id": "ZDKfTXo1my1P",
        "outputId": "e5e4c397-d73b-4464-cf0f-be27e8a53846"
      },
      "source": [
        "from google.colab import files\n",
        "uploaded = files.upload()"
      ],
      "execution_count": null,
      "outputs": [
        {
          "output_type": "display_data",
          "data": {
            "text/html": [
              "\n",
              "     <input type=\"file\" id=\"files-144f11d7-7a6c-47f7-b228-19e38ec39851\" name=\"files[]\" multiple disabled\n",
              "        style=\"border:none\" />\n",
              "     <output id=\"result-144f11d7-7a6c-47f7-b228-19e38ec39851\">\n",
              "      Upload widget is only available when the cell has been executed in the\n",
              "      current browser session. Please rerun this cell to enable.\n",
              "      </output>\n",
              "      <script src=\"/nbextensions/google.colab/files.js\"></script> "
            ],
            "text/plain": [
              "<IPython.core.display.HTML object>"
            ]
          },
          "metadata": {}
        },
        {
          "output_type": "stream",
          "name": "stdout",
          "text": [
            "Saving water_potability.csv to water_potability.csv\n"
          ]
        }
      ]
    },
    {
      "cell_type": "code",
      "metadata": {
        "id": "3zJFc0X-m-xX"
      },
      "source": [
        "# importando io para carregar o arquivo\n",
        "import io"
      ],
      "execution_count": null,
      "outputs": []
    },
    {
      "cell_type": "code",
      "metadata": {
        "id": "zSonPJ9KnGrO"
      },
      "source": [
        "# comando para importar arquivo CSV: read_csv e salvar os dados \n",
        "data = pd.read_csv(io.BytesIO(uploaded['water_potability.csv']))"
      ],
      "execution_count": null,
      "outputs": []
    },
    {
      "cell_type": "code",
      "metadata": {
        "colab": {
          "base_uri": "https://localhost:8080/",
          "height": 206
        },
        "id": "bbt2kIf8nJc1",
        "outputId": "976c8e76-1e4d-4907-a470-4d9ee903db52"
      },
      "source": [
        "#mostrar base de dados\n",
        "data.head()"
      ],
      "execution_count": null,
      "outputs": [
        {
          "output_type": "execute_result",
          "data": {
            "text/html": [
              "<div>\n",
              "<style scoped>\n",
              "    .dataframe tbody tr th:only-of-type {\n",
              "        vertical-align: middle;\n",
              "    }\n",
              "\n",
              "    .dataframe tbody tr th {\n",
              "        vertical-align: top;\n",
              "    }\n",
              "\n",
              "    .dataframe thead th {\n",
              "        text-align: right;\n",
              "    }\n",
              "</style>\n",
              "<table border=\"1\" class=\"dataframe\">\n",
              "  <thead>\n",
              "    <tr style=\"text-align: right;\">\n",
              "      <th></th>\n",
              "      <th>ph</th>\n",
              "      <th>Hardness</th>\n",
              "      <th>Solids</th>\n",
              "      <th>Chloramines</th>\n",
              "      <th>Sulfate</th>\n",
              "      <th>Conductivity</th>\n",
              "      <th>Organic_carbon</th>\n",
              "      <th>Trihalomethanes</th>\n",
              "      <th>Turbidity</th>\n",
              "      <th>Potability</th>\n",
              "    </tr>\n",
              "  </thead>\n",
              "  <tbody>\n",
              "    <tr>\n",
              "      <th>0</th>\n",
              "      <td>NaN</td>\n",
              "      <td>204.890455</td>\n",
              "      <td>20791.318981</td>\n",
              "      <td>7.300212</td>\n",
              "      <td>368.516441</td>\n",
              "      <td>564.308654</td>\n",
              "      <td>10.379783</td>\n",
              "      <td>86.990970</td>\n",
              "      <td>2.963135</td>\n",
              "      <td>0</td>\n",
              "    </tr>\n",
              "    <tr>\n",
              "      <th>1</th>\n",
              "      <td>3.716080</td>\n",
              "      <td>129.422921</td>\n",
              "      <td>18630.057858</td>\n",
              "      <td>6.635246</td>\n",
              "      <td>NaN</td>\n",
              "      <td>592.885359</td>\n",
              "      <td>15.180013</td>\n",
              "      <td>56.329076</td>\n",
              "      <td>4.500656</td>\n",
              "      <td>0</td>\n",
              "    </tr>\n",
              "    <tr>\n",
              "      <th>2</th>\n",
              "      <td>8.099124</td>\n",
              "      <td>224.236259</td>\n",
              "      <td>19909.541732</td>\n",
              "      <td>9.275884</td>\n",
              "      <td>NaN</td>\n",
              "      <td>418.606213</td>\n",
              "      <td>16.868637</td>\n",
              "      <td>66.420093</td>\n",
              "      <td>3.055934</td>\n",
              "      <td>0</td>\n",
              "    </tr>\n",
              "    <tr>\n",
              "      <th>3</th>\n",
              "      <td>8.316766</td>\n",
              "      <td>214.373394</td>\n",
              "      <td>22018.417441</td>\n",
              "      <td>8.059332</td>\n",
              "      <td>356.886136</td>\n",
              "      <td>363.266516</td>\n",
              "      <td>18.436524</td>\n",
              "      <td>100.341674</td>\n",
              "      <td>4.628771</td>\n",
              "      <td>0</td>\n",
              "    </tr>\n",
              "    <tr>\n",
              "      <th>4</th>\n",
              "      <td>9.092223</td>\n",
              "      <td>181.101509</td>\n",
              "      <td>17978.986339</td>\n",
              "      <td>6.546600</td>\n",
              "      <td>310.135738</td>\n",
              "      <td>398.410813</td>\n",
              "      <td>11.558279</td>\n",
              "      <td>31.997993</td>\n",
              "      <td>4.075075</td>\n",
              "      <td>0</td>\n",
              "    </tr>\n",
              "  </tbody>\n",
              "</table>\n",
              "</div>"
            ],
            "text/plain": [
              "         ph    Hardness        Solids  ...  Trihalomethanes  Turbidity  Potability\n",
              "0       NaN  204.890455  20791.318981  ...        86.990970   2.963135           0\n",
              "1  3.716080  129.422921  18630.057858  ...        56.329076   4.500656           0\n",
              "2  8.099124  224.236259  19909.541732  ...        66.420093   3.055934           0\n",
              "3  8.316766  214.373394  22018.417441  ...       100.341674   4.628771           0\n",
              "4  9.092223  181.101509  17978.986339  ...        31.997993   4.075075           0\n",
              "\n",
              "[5 rows x 10 columns]"
            ]
          },
          "metadata": {},
          "execution_count": 6
        }
      ]
    },
    {
      "cell_type": "code",
      "metadata": {
        "colab": {
          "base_uri": "https://localhost:8080/"
        },
        "id": "PblACeJqnNyO",
        "outputId": "9d7fe0cc-bbb2-46a8-d355-883fd04351b1"
      },
      "source": [
        "# mostrando informações do data, ou seja, do conjunto de dados importado\n",
        "data.info"
      ],
      "execution_count": null,
      "outputs": [
        {
          "output_type": "execute_result",
          "data": {
            "text/plain": [
              "<bound method DataFrame.info of             ph    Hardness  ...  Turbidity  Potability\n",
              "0          NaN  204.890455  ...   2.963135           0\n",
              "1     3.716080  129.422921  ...   4.500656           0\n",
              "2     8.099124  224.236259  ...   3.055934           0\n",
              "3     8.316766  214.373394  ...   4.628771           0\n",
              "4     9.092223  181.101509  ...   4.075075           0\n",
              "...        ...         ...  ...        ...         ...\n",
              "3271  4.668102  193.681735  ...   4.435821           1\n",
              "3272  7.808856  193.553212  ...   2.798243           1\n",
              "3273  9.419510  175.762646  ...   3.298875           1\n",
              "3274  5.126763  230.603758  ...   4.708658           1\n",
              "3275  7.874671  195.102299  ...   2.309149           1\n",
              "\n",
              "[3276 rows x 10 columns]>"
            ]
          },
          "metadata": {},
          "execution_count": 7
        }
      ]
    },
    {
      "cell_type": "code",
      "metadata": {
        "colab": {
          "base_uri": "https://localhost:8080/"
        },
        "id": "Ga85yNo7nP82",
        "outputId": "a3be6249-290a-4c94-cb12-7ad2d9133953"
      },
      "source": [
        "print(\"Variáveis:\\t{}\\nEntradas:\\t{}\".format(data.shape[1], data.shape[0]))"
      ],
      "execution_count": null,
      "outputs": [
        {
          "output_type": "stream",
          "name": "stdout",
          "text": [
            "Variáveis:\t10\n",
            "Entradas:\t3276\n"
          ]
        }
      ]
    },
    {
      "cell_type": "code",
      "metadata": {
        "colab": {
          "base_uri": "https://localhost:8080/",
          "height": 397
        },
        "id": "yeGsUFAinSrd",
        "outputId": "4aae023e-7ac8-4f99-94d7-292fa020bffc"
      },
      "source": [
        "display(data.dtypes)\n",
        "display(data.head())"
      ],
      "execution_count": null,
      "outputs": [
        {
          "output_type": "display_data",
          "data": {
            "text/plain": [
              "ph                 float64\n",
              "Hardness           float64\n",
              "Solids             float64\n",
              "Chloramines        float64\n",
              "Sulfate            float64\n",
              "Conductivity       float64\n",
              "Organic_carbon     float64\n",
              "Trihalomethanes    float64\n",
              "Turbidity          float64\n",
              "Potability           int64\n",
              "dtype: object"
            ]
          },
          "metadata": {}
        },
        {
          "output_type": "display_data",
          "data": {
            "text/html": [
              "<div>\n",
              "<style scoped>\n",
              "    .dataframe tbody tr th:only-of-type {\n",
              "        vertical-align: middle;\n",
              "    }\n",
              "\n",
              "    .dataframe tbody tr th {\n",
              "        vertical-align: top;\n",
              "    }\n",
              "\n",
              "    .dataframe thead th {\n",
              "        text-align: right;\n",
              "    }\n",
              "</style>\n",
              "<table border=\"1\" class=\"dataframe\">\n",
              "  <thead>\n",
              "    <tr style=\"text-align: right;\">\n",
              "      <th></th>\n",
              "      <th>ph</th>\n",
              "      <th>Hardness</th>\n",
              "      <th>Solids</th>\n",
              "      <th>Chloramines</th>\n",
              "      <th>Sulfate</th>\n",
              "      <th>Conductivity</th>\n",
              "      <th>Organic_carbon</th>\n",
              "      <th>Trihalomethanes</th>\n",
              "      <th>Turbidity</th>\n",
              "      <th>Potability</th>\n",
              "    </tr>\n",
              "  </thead>\n",
              "  <tbody>\n",
              "    <tr>\n",
              "      <th>0</th>\n",
              "      <td>NaN</td>\n",
              "      <td>204.890455</td>\n",
              "      <td>20791.318981</td>\n",
              "      <td>7.300212</td>\n",
              "      <td>368.516441</td>\n",
              "      <td>564.308654</td>\n",
              "      <td>10.379783</td>\n",
              "      <td>86.990970</td>\n",
              "      <td>2.963135</td>\n",
              "      <td>0</td>\n",
              "    </tr>\n",
              "    <tr>\n",
              "      <th>1</th>\n",
              "      <td>3.716080</td>\n",
              "      <td>129.422921</td>\n",
              "      <td>18630.057858</td>\n",
              "      <td>6.635246</td>\n",
              "      <td>NaN</td>\n",
              "      <td>592.885359</td>\n",
              "      <td>15.180013</td>\n",
              "      <td>56.329076</td>\n",
              "      <td>4.500656</td>\n",
              "      <td>0</td>\n",
              "    </tr>\n",
              "    <tr>\n",
              "      <th>2</th>\n",
              "      <td>8.099124</td>\n",
              "      <td>224.236259</td>\n",
              "      <td>19909.541732</td>\n",
              "      <td>9.275884</td>\n",
              "      <td>NaN</td>\n",
              "      <td>418.606213</td>\n",
              "      <td>16.868637</td>\n",
              "      <td>66.420093</td>\n",
              "      <td>3.055934</td>\n",
              "      <td>0</td>\n",
              "    </tr>\n",
              "    <tr>\n",
              "      <th>3</th>\n",
              "      <td>8.316766</td>\n",
              "      <td>214.373394</td>\n",
              "      <td>22018.417441</td>\n",
              "      <td>8.059332</td>\n",
              "      <td>356.886136</td>\n",
              "      <td>363.266516</td>\n",
              "      <td>18.436524</td>\n",
              "      <td>100.341674</td>\n",
              "      <td>4.628771</td>\n",
              "      <td>0</td>\n",
              "    </tr>\n",
              "    <tr>\n",
              "      <th>4</th>\n",
              "      <td>9.092223</td>\n",
              "      <td>181.101509</td>\n",
              "      <td>17978.986339</td>\n",
              "      <td>6.546600</td>\n",
              "      <td>310.135738</td>\n",
              "      <td>398.410813</td>\n",
              "      <td>11.558279</td>\n",
              "      <td>31.997993</td>\n",
              "      <td>4.075075</td>\n",
              "      <td>0</td>\n",
              "    </tr>\n",
              "  </tbody>\n",
              "</table>\n",
              "</div>"
            ],
            "text/plain": [
              "         ph    Hardness        Solids  ...  Trihalomethanes  Turbidity  Potability\n",
              "0       NaN  204.890455  20791.318981  ...        86.990970   2.963135           0\n",
              "1  3.716080  129.422921  18630.057858  ...        56.329076   4.500656           0\n",
              "2  8.099124  224.236259  19909.541732  ...        66.420093   3.055934           0\n",
              "3  8.316766  214.373394  22018.417441  ...       100.341674   4.628771           0\n",
              "4  9.092223  181.101509  17978.986339  ...        31.997993   4.075075           0\n",
              "\n",
              "[5 rows x 10 columns]"
            ]
          },
          "metadata": {}
        }
      ]
    },
    {
      "cell_type": "code",
      "metadata": {
        "colab": {
          "base_uri": "https://localhost:8080/"
        },
        "id": "m0JV8zG-nUTE",
        "outputId": "d44788e4-e067-4d85-e66c-7f5a58e05f81"
      },
      "source": [
        "#porcentagem de faltantes\n",
        "(data.isnull().sum() / data.shape[0]).sort_values(ascending=False)"
      ],
      "execution_count": null,
      "outputs": [
        {
          "output_type": "execute_result",
          "data": {
            "text/plain": [
              "Sulfate            0.238400\n",
              "ph                 0.149878\n",
              "Trihalomethanes    0.049451\n",
              "Potability         0.000000\n",
              "Turbidity          0.000000\n",
              "Organic_carbon     0.000000\n",
              "Conductivity       0.000000\n",
              "Chloramines        0.000000\n",
              "Solids             0.000000\n",
              "Hardness           0.000000\n",
              "dtype: float64"
            ]
          },
          "metadata": {},
          "execution_count": 10
        }
      ]
    },
    {
      "cell_type": "code",
      "metadata": {
        "colab": {
          "base_uri": "https://localhost:8080/",
          "height": 206
        },
        "id": "p5uPKpsynWfl",
        "outputId": "ffd9f422-cd9f-41bb-860a-a0e2c7f77cdb"
      },
      "source": [
        "# substituindo os zeros e faltantes das colunas\n",
        "cols = ['Sulfate', 'ph', 'Trihalomethanes']\n",
        "data [cols] = data [cols] .replace (0, np.nan)\n",
        "\n",
        "# eliminando todas as linhas com na nas colunas mencionadas acima na lista.\n",
        "data.dropna (subset = cols, inplace = True)\n",
        "data.shape\n",
        "display(data.head())"
      ],
      "execution_count": null,
      "outputs": [
        {
          "output_type": "display_data",
          "data": {
            "text/html": [
              "<div>\n",
              "<style scoped>\n",
              "    .dataframe tbody tr th:only-of-type {\n",
              "        vertical-align: middle;\n",
              "    }\n",
              "\n",
              "    .dataframe tbody tr th {\n",
              "        vertical-align: top;\n",
              "    }\n",
              "\n",
              "    .dataframe thead th {\n",
              "        text-align: right;\n",
              "    }\n",
              "</style>\n",
              "<table border=\"1\" class=\"dataframe\">\n",
              "  <thead>\n",
              "    <tr style=\"text-align: right;\">\n",
              "      <th></th>\n",
              "      <th>ph</th>\n",
              "      <th>Hardness</th>\n",
              "      <th>Solids</th>\n",
              "      <th>Chloramines</th>\n",
              "      <th>Sulfate</th>\n",
              "      <th>Conductivity</th>\n",
              "      <th>Organic_carbon</th>\n",
              "      <th>Trihalomethanes</th>\n",
              "      <th>Turbidity</th>\n",
              "      <th>Potability</th>\n",
              "    </tr>\n",
              "  </thead>\n",
              "  <tbody>\n",
              "    <tr>\n",
              "      <th>3</th>\n",
              "      <td>8.316766</td>\n",
              "      <td>214.373394</td>\n",
              "      <td>22018.417441</td>\n",
              "      <td>8.059332</td>\n",
              "      <td>356.886136</td>\n",
              "      <td>363.266516</td>\n",
              "      <td>18.436524</td>\n",
              "      <td>100.341674</td>\n",
              "      <td>4.628771</td>\n",
              "      <td>0</td>\n",
              "    </tr>\n",
              "    <tr>\n",
              "      <th>4</th>\n",
              "      <td>9.092223</td>\n",
              "      <td>181.101509</td>\n",
              "      <td>17978.986339</td>\n",
              "      <td>6.546600</td>\n",
              "      <td>310.135738</td>\n",
              "      <td>398.410813</td>\n",
              "      <td>11.558279</td>\n",
              "      <td>31.997993</td>\n",
              "      <td>4.075075</td>\n",
              "      <td>0</td>\n",
              "    </tr>\n",
              "    <tr>\n",
              "      <th>5</th>\n",
              "      <td>5.584087</td>\n",
              "      <td>188.313324</td>\n",
              "      <td>28748.687739</td>\n",
              "      <td>7.544869</td>\n",
              "      <td>326.678363</td>\n",
              "      <td>280.467916</td>\n",
              "      <td>8.399735</td>\n",
              "      <td>54.917862</td>\n",
              "      <td>2.559708</td>\n",
              "      <td>0</td>\n",
              "    </tr>\n",
              "    <tr>\n",
              "      <th>6</th>\n",
              "      <td>10.223862</td>\n",
              "      <td>248.071735</td>\n",
              "      <td>28749.716544</td>\n",
              "      <td>7.513408</td>\n",
              "      <td>393.663396</td>\n",
              "      <td>283.651634</td>\n",
              "      <td>13.789695</td>\n",
              "      <td>84.603556</td>\n",
              "      <td>2.672989</td>\n",
              "      <td>0</td>\n",
              "    </tr>\n",
              "    <tr>\n",
              "      <th>7</th>\n",
              "      <td>8.635849</td>\n",
              "      <td>203.361523</td>\n",
              "      <td>13672.091764</td>\n",
              "      <td>4.563009</td>\n",
              "      <td>303.309771</td>\n",
              "      <td>474.607645</td>\n",
              "      <td>12.363817</td>\n",
              "      <td>62.798309</td>\n",
              "      <td>4.401425</td>\n",
              "      <td>0</td>\n",
              "    </tr>\n",
              "  </tbody>\n",
              "</table>\n",
              "</div>"
            ],
            "text/plain": [
              "          ph    Hardness        Solids  ...  Trihalomethanes  Turbidity  Potability\n",
              "3   8.316766  214.373394  22018.417441  ...       100.341674   4.628771           0\n",
              "4   9.092223  181.101509  17978.986339  ...        31.997993   4.075075           0\n",
              "5   5.584087  188.313324  28748.687739  ...        54.917862   2.559708           0\n",
              "6  10.223862  248.071735  28749.716544  ...        84.603556   2.672989           0\n",
              "7   8.635849  203.361523  13672.091764  ...        62.798309   4.401425           0\n",
              "\n",
              "[5 rows x 10 columns]"
            ]
          },
          "metadata": {}
        }
      ]
    },
    {
      "cell_type": "code",
      "metadata": {
        "colab": {
          "base_uri": "https://localhost:8080/"
        },
        "id": "rkmcVzlinZCc",
        "outputId": "a3e80003-bfca-4574-c22d-154b538d8208"
      },
      "source": [
        "#porcentagem de faltantes de novo, ver se está ok\n",
        "(data.isnull().sum() / data.shape[0]).sort_values(ascending=False)"
      ],
      "execution_count": null,
      "outputs": [
        {
          "output_type": "execute_result",
          "data": {
            "text/plain": [
              "Potability         0.0\n",
              "Turbidity          0.0\n",
              "Trihalomethanes    0.0\n",
              "Organic_carbon     0.0\n",
              "Conductivity       0.0\n",
              "Sulfate            0.0\n",
              "Chloramines        0.0\n",
              "Solids             0.0\n",
              "Hardness           0.0\n",
              "ph                 0.0\n",
              "dtype: float64"
            ]
          },
          "metadata": {},
          "execution_count": 12
        }
      ]
    },
    {
      "cell_type": "code",
      "metadata": {
        "colab": {
          "base_uri": "https://localhost:8080/",
          "height": 397
        },
        "id": "DDH0WgGPna2b",
        "outputId": "cc25b4cf-3532-4034-eaa6-f12b3ca91037"
      },
      "source": [
        "display(data.dtypes)\n",
        "display(data.head())"
      ],
      "execution_count": null,
      "outputs": [
        {
          "output_type": "display_data",
          "data": {
            "text/plain": [
              "ph                 float64\n",
              "Hardness           float64\n",
              "Solids             float64\n",
              "Chloramines        float64\n",
              "Sulfate            float64\n",
              "Conductivity       float64\n",
              "Organic_carbon     float64\n",
              "Trihalomethanes    float64\n",
              "Turbidity          float64\n",
              "Potability           int64\n",
              "dtype: object"
            ]
          },
          "metadata": {}
        },
        {
          "output_type": "display_data",
          "data": {
            "text/html": [
              "<div>\n",
              "<style scoped>\n",
              "    .dataframe tbody tr th:only-of-type {\n",
              "        vertical-align: middle;\n",
              "    }\n",
              "\n",
              "    .dataframe tbody tr th {\n",
              "        vertical-align: top;\n",
              "    }\n",
              "\n",
              "    .dataframe thead th {\n",
              "        text-align: right;\n",
              "    }\n",
              "</style>\n",
              "<table border=\"1\" class=\"dataframe\">\n",
              "  <thead>\n",
              "    <tr style=\"text-align: right;\">\n",
              "      <th></th>\n",
              "      <th>ph</th>\n",
              "      <th>Hardness</th>\n",
              "      <th>Solids</th>\n",
              "      <th>Chloramines</th>\n",
              "      <th>Sulfate</th>\n",
              "      <th>Conductivity</th>\n",
              "      <th>Organic_carbon</th>\n",
              "      <th>Trihalomethanes</th>\n",
              "      <th>Turbidity</th>\n",
              "      <th>Potability</th>\n",
              "    </tr>\n",
              "  </thead>\n",
              "  <tbody>\n",
              "    <tr>\n",
              "      <th>3</th>\n",
              "      <td>8.316766</td>\n",
              "      <td>214.373394</td>\n",
              "      <td>22018.417441</td>\n",
              "      <td>8.059332</td>\n",
              "      <td>356.886136</td>\n",
              "      <td>363.266516</td>\n",
              "      <td>18.436524</td>\n",
              "      <td>100.341674</td>\n",
              "      <td>4.628771</td>\n",
              "      <td>0</td>\n",
              "    </tr>\n",
              "    <tr>\n",
              "      <th>4</th>\n",
              "      <td>9.092223</td>\n",
              "      <td>181.101509</td>\n",
              "      <td>17978.986339</td>\n",
              "      <td>6.546600</td>\n",
              "      <td>310.135738</td>\n",
              "      <td>398.410813</td>\n",
              "      <td>11.558279</td>\n",
              "      <td>31.997993</td>\n",
              "      <td>4.075075</td>\n",
              "      <td>0</td>\n",
              "    </tr>\n",
              "    <tr>\n",
              "      <th>5</th>\n",
              "      <td>5.584087</td>\n",
              "      <td>188.313324</td>\n",
              "      <td>28748.687739</td>\n",
              "      <td>7.544869</td>\n",
              "      <td>326.678363</td>\n",
              "      <td>280.467916</td>\n",
              "      <td>8.399735</td>\n",
              "      <td>54.917862</td>\n",
              "      <td>2.559708</td>\n",
              "      <td>0</td>\n",
              "    </tr>\n",
              "    <tr>\n",
              "      <th>6</th>\n",
              "      <td>10.223862</td>\n",
              "      <td>248.071735</td>\n",
              "      <td>28749.716544</td>\n",
              "      <td>7.513408</td>\n",
              "      <td>393.663396</td>\n",
              "      <td>283.651634</td>\n",
              "      <td>13.789695</td>\n",
              "      <td>84.603556</td>\n",
              "      <td>2.672989</td>\n",
              "      <td>0</td>\n",
              "    </tr>\n",
              "    <tr>\n",
              "      <th>7</th>\n",
              "      <td>8.635849</td>\n",
              "      <td>203.361523</td>\n",
              "      <td>13672.091764</td>\n",
              "      <td>4.563009</td>\n",
              "      <td>303.309771</td>\n",
              "      <td>474.607645</td>\n",
              "      <td>12.363817</td>\n",
              "      <td>62.798309</td>\n",
              "      <td>4.401425</td>\n",
              "      <td>0</td>\n",
              "    </tr>\n",
              "  </tbody>\n",
              "</table>\n",
              "</div>"
            ],
            "text/plain": [
              "          ph    Hardness        Solids  ...  Trihalomethanes  Turbidity  Potability\n",
              "3   8.316766  214.373394  22018.417441  ...       100.341674   4.628771           0\n",
              "4   9.092223  181.101509  17978.986339  ...        31.997993   4.075075           0\n",
              "5   5.584087  188.313324  28748.687739  ...        54.917862   2.559708           0\n",
              "6  10.223862  248.071735  28749.716544  ...        84.603556   2.672989           0\n",
              "7   8.635849  203.361523  13672.091764  ...        62.798309   4.401425           0\n",
              "\n",
              "[5 rows x 10 columns]"
            ]
          },
          "metadata": {}
        }
      ]
    },
    {
      "cell_type": "code",
      "metadata": {
        "colab": {
          "base_uri": "https://localhost:8080/",
          "height": 300
        },
        "id": "QTQ5kXm0nci0",
        "outputId": "a503ac57-01fe-4a27-a44f-e01e33d3e11d"
      },
      "source": [
        "#distribuição estatística\n",
        "data.describe()"
      ],
      "execution_count": null,
      "outputs": [
        {
          "output_type": "execute_result",
          "data": {
            "text/html": [
              "<div>\n",
              "<style scoped>\n",
              "    .dataframe tbody tr th:only-of-type {\n",
              "        vertical-align: middle;\n",
              "    }\n",
              "\n",
              "    .dataframe tbody tr th {\n",
              "        vertical-align: top;\n",
              "    }\n",
              "\n",
              "    .dataframe thead th {\n",
              "        text-align: right;\n",
              "    }\n",
              "</style>\n",
              "<table border=\"1\" class=\"dataframe\">\n",
              "  <thead>\n",
              "    <tr style=\"text-align: right;\">\n",
              "      <th></th>\n",
              "      <th>ph</th>\n",
              "      <th>Hardness</th>\n",
              "      <th>Solids</th>\n",
              "      <th>Chloramines</th>\n",
              "      <th>Sulfate</th>\n",
              "      <th>Conductivity</th>\n",
              "      <th>Organic_carbon</th>\n",
              "      <th>Trihalomethanes</th>\n",
              "      <th>Turbidity</th>\n",
              "      <th>Potability</th>\n",
              "    </tr>\n",
              "  </thead>\n",
              "  <tbody>\n",
              "    <tr>\n",
              "      <th>count</th>\n",
              "      <td>2011.000000</td>\n",
              "      <td>2011.000000</td>\n",
              "      <td>2011.000000</td>\n",
              "      <td>2011.000000</td>\n",
              "      <td>2011.000000</td>\n",
              "      <td>2011.000000</td>\n",
              "      <td>2011.000000</td>\n",
              "      <td>2011.000000</td>\n",
              "      <td>2011.000000</td>\n",
              "      <td>2011.000000</td>\n",
              "    </tr>\n",
              "    <tr>\n",
              "      <th>mean</th>\n",
              "      <td>7.085990</td>\n",
              "      <td>195.968072</td>\n",
              "      <td>21917.441374</td>\n",
              "      <td>7.134338</td>\n",
              "      <td>333.224672</td>\n",
              "      <td>426.526409</td>\n",
              "      <td>14.357709</td>\n",
              "      <td>66.400859</td>\n",
              "      <td>3.969729</td>\n",
              "      <td>0.403282</td>\n",
              "    </tr>\n",
              "    <tr>\n",
              "      <th>std</th>\n",
              "      <td>1.573337</td>\n",
              "      <td>32.635085</td>\n",
              "      <td>8642.239815</td>\n",
              "      <td>1.584820</td>\n",
              "      <td>41.205172</td>\n",
              "      <td>80.712572</td>\n",
              "      <td>3.324959</td>\n",
              "      <td>16.077109</td>\n",
              "      <td>0.780346</td>\n",
              "      <td>0.490678</td>\n",
              "    </tr>\n",
              "    <tr>\n",
              "      <th>min</th>\n",
              "      <td>0.227499</td>\n",
              "      <td>73.492234</td>\n",
              "      <td>320.942611</td>\n",
              "      <td>1.390871</td>\n",
              "      <td>129.000000</td>\n",
              "      <td>201.619737</td>\n",
              "      <td>2.200000</td>\n",
              "      <td>8.577013</td>\n",
              "      <td>1.450000</td>\n",
              "      <td>0.000000</td>\n",
              "    </tr>\n",
              "    <tr>\n",
              "      <th>25%</th>\n",
              "      <td>6.089723</td>\n",
              "      <td>176.744938</td>\n",
              "      <td>15615.665390</td>\n",
              "      <td>6.138895</td>\n",
              "      <td>307.632511</td>\n",
              "      <td>366.680307</td>\n",
              "      <td>12.124105</td>\n",
              "      <td>55.952664</td>\n",
              "      <td>3.442915</td>\n",
              "      <td>0.000000</td>\n",
              "    </tr>\n",
              "    <tr>\n",
              "      <th>50%</th>\n",
              "      <td>7.027297</td>\n",
              "      <td>197.191839</td>\n",
              "      <td>20933.512750</td>\n",
              "      <td>7.143907</td>\n",
              "      <td>332.232177</td>\n",
              "      <td>423.455906</td>\n",
              "      <td>14.322019</td>\n",
              "      <td>66.542198</td>\n",
              "      <td>3.968177</td>\n",
              "      <td>0.000000</td>\n",
              "    </tr>\n",
              "    <tr>\n",
              "      <th>75%</th>\n",
              "      <td>8.052969</td>\n",
              "      <td>216.441070</td>\n",
              "      <td>27182.587067</td>\n",
              "      <td>8.109726</td>\n",
              "      <td>359.330555</td>\n",
              "      <td>482.373169</td>\n",
              "      <td>16.683049</td>\n",
              "      <td>77.291925</td>\n",
              "      <td>4.514175</td>\n",
              "      <td>1.000000</td>\n",
              "    </tr>\n",
              "    <tr>\n",
              "      <th>max</th>\n",
              "      <td>14.000000</td>\n",
              "      <td>317.338124</td>\n",
              "      <td>56488.672413</td>\n",
              "      <td>13.127000</td>\n",
              "      <td>481.030642</td>\n",
              "      <td>753.342620</td>\n",
              "      <td>27.006707</td>\n",
              "      <td>124.000000</td>\n",
              "      <td>6.494749</td>\n",
              "      <td>1.000000</td>\n",
              "    </tr>\n",
              "  </tbody>\n",
              "</table>\n",
              "</div>"
            ],
            "text/plain": [
              "                ph     Hardness  ...    Turbidity   Potability\n",
              "count  2011.000000  2011.000000  ...  2011.000000  2011.000000\n",
              "mean      7.085990   195.968072  ...     3.969729     0.403282\n",
              "std       1.573337    32.635085  ...     0.780346     0.490678\n",
              "min       0.227499    73.492234  ...     1.450000     0.000000\n",
              "25%       6.089723   176.744938  ...     3.442915     0.000000\n",
              "50%       7.027297   197.191839  ...     3.968177     0.000000\n",
              "75%       8.052969   216.441070  ...     4.514175     1.000000\n",
              "max      14.000000   317.338124  ...     6.494749     1.000000\n",
              "\n",
              "[8 rows x 10 columns]"
            ]
          },
          "metadata": {},
          "execution_count": 14
        }
      ]
    },
    {
      "cell_type": "code",
      "metadata": {
        "colab": {
          "base_uri": "https://localhost:8080/",
          "height": 607
        },
        "id": "_RDj_3PnneDN",
        "outputId": "ffeb018e-a69e-435e-875c-4c7a51016aea"
      },
      "source": [
        "#histograma de variáveis numéricas\n",
        "data.hist(figsize=(10,10));"
      ],
      "execution_count": null,
      "outputs": [
        {
          "output_type": "display_data",
          "data": {
            "image/png": "[encoded data removed]",
            "text/plain": [
              "<Figure size 720x720 with 12 Axes>"
            ]
          },
          "metadata": {
            "needs_background": "light"
          }
        }
      ]
    },
    {
      "cell_type": "code",
      "metadata": {
        "colab": {
          "base_uri": "https://localhost:8080/"
        },
        "id": "faLbo6htnfw8",
        "outputId": "db488934-19ef-4872-c1b7-de46075677bf"
      },
      "source": [
        "X = scale(data.drop(columns=['Potability']))\n",
        "X"
      ],
      "execution_count": null,
      "outputs": [
        {
          "output_type": "execute_result",
          "data": {
            "text/plain": [
              "array([[ 0.7824658 ,  0.56411376,  0.01168692, ...,  1.22703167,\n",
              "         2.11165179,  0.84476056],\n",
              "       [ 1.27546291, -0.45565257, -0.45583491, ..., -0.84215371,\n",
              "        -2.14039865,  0.13503344],\n",
              "       [-0.95483488, -0.23461412,  0.7906452 , ..., -1.79234008,\n",
              "        -0.7144228 , -1.80736621],\n",
              "       ...,\n",
              "       [ 2.8004919 , -3.10036538,  1.76750279, ...,  0.54602107,\n",
              "        -1.5455849 ,  0.51212515],\n",
              "       [-0.64615977, -0.28531709,  0.48857575, ..., -0.6889287 ,\n",
              "        -0.3721083 , -0.3845623 ],\n",
              "       [-1.53717226, -0.07007504,  2.9702871 , ..., -0.139372  ,\n",
              "         0.01784567,  0.59743748]])"
            ]
          },
          "metadata": {},
          "execution_count": 16
        }
      ]
    },
    {
      "cell_type": "code",
      "metadata": {
        "colab": {
          "base_uri": "https://localhost:8080/"
        },
        "id": "v0jrlsT5oAM9",
        "outputId": "25c57710-6327-4422-d11a-c24b6c0c3fcb"
      },
      "source": [
        "#Separando colunas para treino\n",
        "y = data['Potability']\n",
        "y"
      ],
      "execution_count": null,
      "outputs": [
        {
          "output_type": "execute_result",
          "data": {
            "text/plain": [
              "3       0\n",
              "4       0\n",
              "5       0\n",
              "6       0\n",
              "7       0\n",
              "       ..\n",
              "3267    1\n",
              "3268    1\n",
              "3269    1\n",
              "3270    1\n",
              "3271    1\n",
              "Name: Potability, Length: 2011, dtype: int64"
            ]
          },
          "metadata": {},
          "execution_count": 17
        }
      ]
    },
    {
      "cell_type": "code",
      "metadata": {
        "id": "0mGbl3MVoQcm"
      },
      "source": [
        "# Separando treino e teste\n",
        "X_train, X_test, y_train, y_test = train_test_split(X, y, test_size=0.3, random_state=1234)"
      ],
      "execution_count": null,
      "outputs": []
    },
    {
      "cell_type": "code",
      "metadata": {
        "colab": {
          "base_uri": "https://localhost:8080/"
        },
        "id": "VMM65_MwoXwV",
        "outputId": "6f4005bb-0597-4efa-df04-6971666cdb3a"
      },
      "source": [
        "y_test"
      ],
      "execution_count": null,
      "outputs": [
        {
          "output_type": "execute_result",
          "data": {
            "text/plain": [
              "1985    1\n",
              "835     0\n",
              "232     0\n",
              "1750    0\n",
              "1851    0\n",
              "       ..\n",
              "2165    0\n",
              "365     1\n",
              "725     1\n",
              "1823    0\n",
              "1491    1\n",
              "Name: Potability, Length: 604, dtype: int64"
            ]
          },
          "metadata": {},
          "execution_count": 20
        }
      ]
    },
    {
      "cell_type": "code",
      "metadata": {
        "colab": {
          "base_uri": "https://localhost:8080/"
        },
        "id": "JoMvERlGodT1",
        "outputId": "f1324a16-5053-4648-9edc-ee46c1f48915"
      },
      "source": [
        "#Modelo com função de ativação ReLU\n",
        "model = keras.Sequential(layers.Dense(X.shape[1], activation='relu', input_shape=[X.shape[1]]))\n",
        "\n",
        "\n",
        "model.add(layers.Dense(20, activation='relu'))\n",
        "model.add(layers.Dense(8, activation='relu'))\n",
        "model.add(layers.Dense(1, activation='sigmoid'))\n",
        "\n",
        "print(model.summary())"
      ],
      "execution_count": null,
      "outputs": [
        {
          "output_type": "stream",
          "name": "stdout",
          "text": [
            "Model: \"sequential\"\n",
            "_________________________________________________________________\n",
            "Layer (type)                 Output Shape              Param #   \n",
            "=================================================================\n",
            "dense (Dense)                (None, 9)                 90        \n",
            "_________________________________________________________________\n",
            "dense_1 (Dense)              (None, 20)                200       \n",
            "_________________________________________________________________\n",
            "dense_2 (Dense)              (None, 8)                 168       \n",
            "_________________________________________________________________\n",
            "dense_3 (Dense)              (None, 1)                 9         \n",
            "=================================================================\n",
            "Total params: 467\n",
            "Trainable params: 467\n",
            "Non-trainable params: 0\n",
            "_________________________________________________________________\n",
            "None\n"
          ]
        }
      ]
    },
    {
      "cell_type": "code",
      "metadata": {
        "id": "CpE1SmrHomB9"
      },
      "source": [
        "#compilação de modelo com resultado binário: água potável ou não potável\n",
        "model.compile(loss='binary_crossentropy', optimizer='adam', metrics=['binary_accuracy'])"
      ],
      "execution_count": null,
      "outputs": []
    },
    {
      "cell_type": "code",
      "metadata": {
        "colab": {
          "base_uri": "https://localhost:8080/"
        },
        "id": "aKfsZFYHo22t",
        "outputId": "c0f4e156-de86-4235-9a3e-283e1bd1f86c"
      },
      "source": [
        "#treinando ...\n",
        "early_stopping = keras.callbacks.EarlyStopping(\n",
        "    patience=100,\n",
        "    min_delta=0.0001,\n",
        "    restore_best_weights=True,\n",
        ")\n",
        "\n",
        "history = model.fit(\n",
        "    X_train, y_train,\n",
        "    batch_size=32,\n",
        "    validation_split=0.3,\n",
        "    epochs=200,\n",
        "    callbacks=[early_stopping],\n",
        "    verbose=1,  \n",
        ")\n"
      ],
      "execution_count": null,
      "outputs": [
        {
          "output_type": "stream",
          "name": "stdout",
          "text": [
            "Epoch 1/200\n",
            "31/31 [==============================] - 1s 7ms/step - loss: 0.6811 - binary_accuracy: 0.5732 - val_loss: 0.6766 - val_binary_accuracy: 0.6430\n",
            "Epoch 2/200\n",
            "31/31 [==============================] - 0s 3ms/step - loss: 0.6706 - binary_accuracy: 0.6128 - val_loss: 0.6701 - val_binary_accuracy: 0.6383\n",
            "Epoch 3/200\n",
            "31/31 [==============================] - 0s 3ms/step - loss: 0.6647 - binary_accuracy: 0.6047 - val_loss: 0.6655 - val_binary_accuracy: 0.6359\n",
            "Epoch 4/200\n",
            "31/31 [==============================] - 0s 3ms/step - loss: 0.6601 - binary_accuracy: 0.6128 - val_loss: 0.6639 - val_binary_accuracy: 0.6336\n",
            "Epoch 5/200\n",
            "31/31 [==============================] - 0s 2ms/step - loss: 0.6554 - binary_accuracy: 0.6270 - val_loss: 0.6610 - val_binary_accuracy: 0.6265\n",
            "Epoch 6/200\n",
            "31/31 [==============================] - 0s 3ms/step - loss: 0.6518 - binary_accuracy: 0.6291 - val_loss: 0.6577 - val_binary_accuracy: 0.6288\n",
            "Epoch 7/200\n",
            "31/31 [==============================] - 0s 2ms/step - loss: 0.6458 - binary_accuracy: 0.6443 - val_loss: 0.6567 - val_binary_accuracy: 0.6407\n",
            "Epoch 8/200\n",
            "31/31 [==============================] - 0s 2ms/step - loss: 0.6402 - binary_accuracy: 0.6443 - val_loss: 0.6526 - val_binary_accuracy: 0.6525\n",
            "Epoch 9/200\n",
            "31/31 [==============================] - 0s 3ms/step - loss: 0.6345 - binary_accuracy: 0.6545 - val_loss: 0.6504 - val_binary_accuracy: 0.6407\n",
            "Epoch 10/200\n",
            "31/31 [==============================] - 0s 3ms/step - loss: 0.6286 - binary_accuracy: 0.6575 - val_loss: 0.6473 - val_binary_accuracy: 0.6454\n",
            "Epoch 11/200\n",
            "31/31 [==============================] - 0s 3ms/step - loss: 0.6223 - binary_accuracy: 0.6697 - val_loss: 0.6462 - val_binary_accuracy: 0.6359\n",
            "Epoch 12/200\n",
            "31/31 [==============================] - 0s 3ms/step - loss: 0.6174 - binary_accuracy: 0.6799 - val_loss: 0.6425 - val_binary_accuracy: 0.6478\n",
            "Epoch 13/200\n",
            "31/31 [==============================] - 0s 2ms/step - loss: 0.6127 - binary_accuracy: 0.6789 - val_loss: 0.6398 - val_binary_accuracy: 0.6478\n",
            "Epoch 14/200\n",
            "31/31 [==============================] - 0s 3ms/step - loss: 0.6087 - binary_accuracy: 0.6829 - val_loss: 0.6393 - val_binary_accuracy: 0.6383\n",
            "Epoch 15/200\n",
            "31/31 [==============================] - 0s 3ms/step - loss: 0.6028 - binary_accuracy: 0.6819 - val_loss: 0.6355 - val_binary_accuracy: 0.6407\n",
            "Epoch 16/200\n",
            "31/31 [==============================] - 0s 3ms/step - loss: 0.5997 - binary_accuracy: 0.6789 - val_loss: 0.6344 - val_binary_accuracy: 0.6430\n",
            "Epoch 17/200\n",
            "31/31 [==============================] - 0s 3ms/step - loss: 0.5960 - binary_accuracy: 0.6819 - val_loss: 0.6313 - val_binary_accuracy: 0.6430\n",
            "Epoch 18/200\n",
            "31/31 [==============================] - 0s 3ms/step - loss: 0.5924 - binary_accuracy: 0.6890 - val_loss: 0.6297 - val_binary_accuracy: 0.6454\n",
            "Epoch 19/200\n",
            "31/31 [==============================] - 0s 2ms/step - loss: 0.5888 - binary_accuracy: 0.6911 - val_loss: 0.6265 - val_binary_accuracy: 0.6572\n",
            "Epoch 20/200\n",
            "31/31 [==============================] - 0s 3ms/step - loss: 0.5863 - binary_accuracy: 0.6870 - val_loss: 0.6262 - val_binary_accuracy: 0.6454\n",
            "Epoch 21/200\n",
            "31/31 [==============================] - 0s 2ms/step - loss: 0.5835 - binary_accuracy: 0.6982 - val_loss: 0.6241 - val_binary_accuracy: 0.6525\n",
            "Epoch 22/200\n",
            "31/31 [==============================] - 0s 2ms/step - loss: 0.5804 - binary_accuracy: 0.6961 - val_loss: 0.6234 - val_binary_accuracy: 0.6430\n",
            "Epoch 23/200\n",
            "31/31 [==============================] - 0s 3ms/step - loss: 0.5782 - binary_accuracy: 0.7063 - val_loss: 0.6218 - val_binary_accuracy: 0.6525\n",
            "Epoch 24/200\n",
            "31/31 [==============================] - 0s 2ms/step - loss: 0.5761 - binary_accuracy: 0.6992 - val_loss: 0.6198 - val_binary_accuracy: 0.6548\n",
            "Epoch 25/200\n",
            "31/31 [==============================] - 0s 3ms/step - loss: 0.5736 - binary_accuracy: 0.7012 - val_loss: 0.6184 - val_binary_accuracy: 0.6619\n",
            "Epoch 26/200\n",
            "31/31 [==============================] - 0s 3ms/step - loss: 0.5713 - binary_accuracy: 0.7104 - val_loss: 0.6192 - val_binary_accuracy: 0.6525\n",
            "Epoch 27/200\n",
            "31/31 [==============================] - 0s 2ms/step - loss: 0.5699 - binary_accuracy: 0.7124 - val_loss: 0.6173 - val_binary_accuracy: 0.6643\n",
            "Epoch 28/200\n",
            "31/31 [==============================] - 0s 2ms/step - loss: 0.5680 - binary_accuracy: 0.7083 - val_loss: 0.6164 - val_binary_accuracy: 0.6714\n",
            "Epoch 29/200\n",
            "31/31 [==============================] - 0s 3ms/step - loss: 0.5659 - binary_accuracy: 0.7093 - val_loss: 0.6157 - val_binary_accuracy: 0.6619\n",
            "Epoch 30/200\n",
            "31/31 [==============================] - 0s 3ms/step - loss: 0.5640 - binary_accuracy: 0.7093 - val_loss: 0.6152 - val_binary_accuracy: 0.6738\n",
            "Epoch 31/200\n",
            "31/31 [==============================] - 0s 2ms/step - loss: 0.5626 - binary_accuracy: 0.7104 - val_loss: 0.6156 - val_binary_accuracy: 0.6596\n",
            "Epoch 32/200\n",
            "31/31 [==============================] - 0s 2ms/step - loss: 0.5603 - binary_accuracy: 0.7073 - val_loss: 0.6139 - val_binary_accuracy: 0.6643\n",
            "Epoch 33/200\n",
            "31/31 [==============================] - 0s 2ms/step - loss: 0.5584 - binary_accuracy: 0.7124 - val_loss: 0.6138 - val_binary_accuracy: 0.6667\n",
            "Epoch 34/200\n",
            "31/31 [==============================] - 0s 3ms/step - loss: 0.5569 - binary_accuracy: 0.7154 - val_loss: 0.6123 - val_binary_accuracy: 0.6785\n",
            "Epoch 35/200\n",
            "31/31 [==============================] - 0s 2ms/step - loss: 0.5554 - binary_accuracy: 0.7114 - val_loss: 0.6139 - val_binary_accuracy: 0.6714\n",
            "Epoch 36/200\n",
            "31/31 [==============================] - 0s 2ms/step - loss: 0.5542 - binary_accuracy: 0.7104 - val_loss: 0.6141 - val_binary_accuracy: 0.6714\n",
            "Epoch 37/200\n",
            "31/31 [==============================] - 0s 3ms/step - loss: 0.5525 - binary_accuracy: 0.7124 - val_loss: 0.6145 - val_binary_accuracy: 0.6738\n",
            "Epoch 38/200\n",
            "31/31 [==============================] - 0s 3ms/step - loss: 0.5506 - binary_accuracy: 0.7185 - val_loss: 0.6136 - val_binary_accuracy: 0.6809\n",
            "Epoch 39/200\n",
            "31/31 [==============================] - 0s 2ms/step - loss: 0.5503 - binary_accuracy: 0.7185 - val_loss: 0.6127 - val_binary_accuracy: 0.6832\n",
            "Epoch 40/200\n",
            "31/31 [==============================] - 0s 2ms/step - loss: 0.5487 - binary_accuracy: 0.7144 - val_loss: 0.6142 - val_binary_accuracy: 0.6809\n",
            "Epoch 41/200\n",
            "31/31 [==============================] - 0s 2ms/step - loss: 0.5472 - binary_accuracy: 0.7266 - val_loss: 0.6134 - val_binary_accuracy: 0.6832\n",
            "Epoch 42/200\n",
            "31/31 [==============================] - 0s 3ms/step - loss: 0.5474 - binary_accuracy: 0.7195 - val_loss: 0.6139 - val_binary_accuracy: 0.6832\n",
            "Epoch 43/200\n",
            "31/31 [==============================] - 0s 3ms/step - loss: 0.5451 - binary_accuracy: 0.7215 - val_loss: 0.6150 - val_binary_accuracy: 0.6832\n",
            "Epoch 44/200\n",
            "31/31 [==============================] - 0s 3ms/step - loss: 0.5448 - binary_accuracy: 0.7256 - val_loss: 0.6164 - val_binary_accuracy: 0.6761\n",
            "Epoch 45/200\n",
            "31/31 [==============================] - 0s 3ms/step - loss: 0.5428 - binary_accuracy: 0.7226 - val_loss: 0.6156 - val_binary_accuracy: 0.6785\n",
            "Epoch 46/200\n",
            "31/31 [==============================] - 0s 3ms/step - loss: 0.5420 - binary_accuracy: 0.7226 - val_loss: 0.6154 - val_binary_accuracy: 0.6809\n",
            "Epoch 47/200\n",
            "31/31 [==============================] - 0s 2ms/step - loss: 0.5418 - binary_accuracy: 0.7226 - val_loss: 0.6158 - val_binary_accuracy: 0.6785\n",
            "Epoch 48/200\n",
            "31/31 [==============================] - 0s 2ms/step - loss: 0.5407 - binary_accuracy: 0.7276 - val_loss: 0.6183 - val_binary_accuracy: 0.6809\n",
            "Epoch 49/200\n",
            "31/31 [==============================] - 0s 3ms/step - loss: 0.5392 - binary_accuracy: 0.7195 - val_loss: 0.6151 - val_binary_accuracy: 0.6879\n",
            "Epoch 50/200\n",
            "31/31 [==============================] - 0s 2ms/step - loss: 0.5380 - binary_accuracy: 0.7327 - val_loss: 0.6176 - val_binary_accuracy: 0.6809\n",
            "Epoch 51/200\n",
            "31/31 [==============================] - 0s 2ms/step - loss: 0.5363 - binary_accuracy: 0.7266 - val_loss: 0.6188 - val_binary_accuracy: 0.6738\n",
            "Epoch 52/200\n",
            "31/31 [==============================] - 0s 3ms/step - loss: 0.5364 - binary_accuracy: 0.7276 - val_loss: 0.6191 - val_binary_accuracy: 0.6714\n",
            "Epoch 53/200\n",
            "31/31 [==============================] - 0s 2ms/step - loss: 0.5353 - binary_accuracy: 0.7246 - val_loss: 0.6188 - val_binary_accuracy: 0.6809\n",
            "Epoch 54/200\n",
            "31/31 [==============================] - 0s 2ms/step - loss: 0.5335 - binary_accuracy: 0.7276 - val_loss: 0.6217 - val_binary_accuracy: 0.6785\n",
            "Epoch 55/200\n",
            "31/31 [==============================] - 0s 2ms/step - loss: 0.5326 - binary_accuracy: 0.7307 - val_loss: 0.6199 - val_binary_accuracy: 0.6832\n",
            "Epoch 56/200\n",
            "31/31 [==============================] - 0s 3ms/step - loss: 0.5315 - binary_accuracy: 0.7256 - val_loss: 0.6221 - val_binary_accuracy: 0.6738\n",
            "Epoch 57/200\n",
            "31/31 [==============================] - 0s 3ms/step - loss: 0.5300 - binary_accuracy: 0.7348 - val_loss: 0.6244 - val_binary_accuracy: 0.6761\n",
            "Epoch 58/200\n",
            "31/31 [==============================] - 0s 3ms/step - loss: 0.5303 - binary_accuracy: 0.7358 - val_loss: 0.6223 - val_binary_accuracy: 0.6738\n",
            "Epoch 59/200\n",
            "31/31 [==============================] - 0s 3ms/step - loss: 0.5278 - binary_accuracy: 0.7388 - val_loss: 0.6246 - val_binary_accuracy: 0.6738\n",
            "Epoch 60/200\n",
            "31/31 [==============================] - 0s 2ms/step - loss: 0.5277 - binary_accuracy: 0.7398 - val_loss: 0.6256 - val_binary_accuracy: 0.6738\n",
            "Epoch 61/200\n",
            "31/31 [==============================] - 0s 2ms/step - loss: 0.5272 - binary_accuracy: 0.7368 - val_loss: 0.6241 - val_binary_accuracy: 0.6832\n",
            "Epoch 62/200\n",
            "31/31 [==============================] - 0s 3ms/step - loss: 0.5246 - binary_accuracy: 0.7378 - val_loss: 0.6319 - val_binary_accuracy: 0.6667\n",
            "Epoch 63/200\n",
            "31/31 [==============================] - 0s 3ms/step - loss: 0.5232 - binary_accuracy: 0.7419 - val_loss: 0.6275 - val_binary_accuracy: 0.6809\n",
            "Epoch 64/200\n",
            "31/31 [==============================] - 0s 3ms/step - loss: 0.5229 - binary_accuracy: 0.7358 - val_loss: 0.6283 - val_binary_accuracy: 0.6785\n",
            "Epoch 65/200\n",
            "31/31 [==============================] - 0s 2ms/step - loss: 0.5209 - binary_accuracy: 0.7388 - val_loss: 0.6290 - val_binary_accuracy: 0.6809\n",
            "Epoch 66/200\n",
            "31/31 [==============================] - 0s 2ms/step - loss: 0.5219 - binary_accuracy: 0.7368 - val_loss: 0.6312 - val_binary_accuracy: 0.6738\n",
            "Epoch 67/200\n",
            "31/31 [==============================] - 0s 2ms/step - loss: 0.5196 - binary_accuracy: 0.7358 - val_loss: 0.6361 - val_binary_accuracy: 0.6619\n",
            "Epoch 68/200\n",
            "31/31 [==============================] - 0s 3ms/step - loss: 0.5186 - binary_accuracy: 0.7419 - val_loss: 0.6327 - val_binary_accuracy: 0.6738\n",
            "Epoch 69/200\n",
            "31/31 [==============================] - 0s 2ms/step - loss: 0.5182 - binary_accuracy: 0.7419 - val_loss: 0.6320 - val_binary_accuracy: 0.6690\n",
            "Epoch 70/200\n",
            "31/31 [==============================] - 0s 2ms/step - loss: 0.5175 - binary_accuracy: 0.7429 - val_loss: 0.6365 - val_binary_accuracy: 0.6690\n",
            "Epoch 71/200\n",
            "31/31 [==============================] - 0s 3ms/step - loss: 0.5160 - binary_accuracy: 0.7419 - val_loss: 0.6351 - val_binary_accuracy: 0.6667\n",
            "Epoch 72/200\n",
            "31/31 [==============================] - 0s 2ms/step - loss: 0.5148 - binary_accuracy: 0.7470 - val_loss: 0.6366 - val_binary_accuracy: 0.6572\n",
            "Epoch 73/200\n",
            "31/31 [==============================] - 0s 2ms/step - loss: 0.5134 - binary_accuracy: 0.7470 - val_loss: 0.6371 - val_binary_accuracy: 0.6619\n",
            "Epoch 74/200\n",
            "31/31 [==============================] - 0s 2ms/step - loss: 0.5138 - binary_accuracy: 0.7520 - val_loss: 0.6380 - val_binary_accuracy: 0.6619\n",
            "Epoch 75/200\n",
            "31/31 [==============================] - 0s 3ms/step - loss: 0.5125 - binary_accuracy: 0.7520 - val_loss: 0.6384 - val_binary_accuracy: 0.6667\n",
            "Epoch 76/200\n",
            "31/31 [==============================] - 0s 3ms/step - loss: 0.5108 - binary_accuracy: 0.7480 - val_loss: 0.6399 - val_binary_accuracy: 0.6714\n",
            "Epoch 77/200\n",
            "31/31 [==============================] - 0s 3ms/step - loss: 0.5103 - binary_accuracy: 0.7409 - val_loss: 0.6445 - val_binary_accuracy: 0.6596\n",
            "Epoch 78/200\n",
            "31/31 [==============================] - 0s 3ms/step - loss: 0.5100 - binary_accuracy: 0.7530 - val_loss: 0.6440 - val_binary_accuracy: 0.6619\n",
            "Epoch 79/200\n",
            "31/31 [==============================] - 0s 3ms/step - loss: 0.5086 - binary_accuracy: 0.7470 - val_loss: 0.6434 - val_binary_accuracy: 0.6596\n",
            "Epoch 80/200\n",
            "31/31 [==============================] - 0s 2ms/step - loss: 0.5088 - binary_accuracy: 0.7490 - val_loss: 0.6467 - val_binary_accuracy: 0.6643\n",
            "Epoch 81/200\n",
            "31/31 [==============================] - 0s 3ms/step - loss: 0.5066 - binary_accuracy: 0.7520 - val_loss: 0.6446 - val_binary_accuracy: 0.6667\n",
            "Epoch 82/200\n",
            "31/31 [==============================] - 0s 3ms/step - loss: 0.5062 - binary_accuracy: 0.7561 - val_loss: 0.6480 - val_binary_accuracy: 0.6643\n",
            "Epoch 83/200\n",
            "31/31 [==============================] - 0s 3ms/step - loss: 0.5045 - binary_accuracy: 0.7510 - val_loss: 0.6478 - val_binary_accuracy: 0.6667\n",
            "Epoch 84/200\n",
            "31/31 [==============================] - 0s 3ms/step - loss: 0.5040 - binary_accuracy: 0.7561 - val_loss: 0.6489 - val_binary_accuracy: 0.6619\n",
            "Epoch 85/200\n",
            "31/31 [==============================] - 0s 3ms/step - loss: 0.5029 - binary_accuracy: 0.7571 - val_loss: 0.6492 - val_binary_accuracy: 0.6667\n",
            "Epoch 86/200\n",
            "31/31 [==============================] - 0s 3ms/step - loss: 0.5023 - binary_accuracy: 0.7571 - val_loss: 0.6501 - val_binary_accuracy: 0.6596\n",
            "Epoch 87/200\n",
            "31/31 [==============================] - 0s 3ms/step - loss: 0.5011 - binary_accuracy: 0.7581 - val_loss: 0.6526 - val_binary_accuracy: 0.6643\n",
            "Epoch 88/200\n",
            "31/31 [==============================] - 0s 3ms/step - loss: 0.5005 - binary_accuracy: 0.7571 - val_loss: 0.6484 - val_binary_accuracy: 0.6643\n",
            "Epoch 89/200\n",
            "31/31 [==============================] - 0s 2ms/step - loss: 0.4994 - binary_accuracy: 0.7591 - val_loss: 0.6523 - val_binary_accuracy: 0.6596\n",
            "Epoch 90/200\n",
            "31/31 [==============================] - 0s 3ms/step - loss: 0.4982 - binary_accuracy: 0.7581 - val_loss: 0.6520 - val_binary_accuracy: 0.6619\n",
            "Epoch 91/200\n",
            "31/31 [==============================] - 0s 2ms/step - loss: 0.4990 - binary_accuracy: 0.7571 - val_loss: 0.6513 - val_binary_accuracy: 0.6596\n",
            "Epoch 92/200\n",
            "31/31 [==============================] - 0s 2ms/step - loss: 0.4982 - binary_accuracy: 0.7642 - val_loss: 0.6547 - val_binary_accuracy: 0.6548\n",
            "Epoch 93/200\n",
            "31/31 [==============================] - 0s 2ms/step - loss: 0.4965 - binary_accuracy: 0.7673 - val_loss: 0.6541 - val_binary_accuracy: 0.6572\n",
            "Epoch 94/200\n",
            "31/31 [==============================] - 0s 3ms/step - loss: 0.4955 - binary_accuracy: 0.7571 - val_loss: 0.6556 - val_binary_accuracy: 0.6572\n",
            "Epoch 95/200\n",
            "31/31 [==============================] - 0s 3ms/step - loss: 0.4939 - binary_accuracy: 0.7632 - val_loss: 0.6576 - val_binary_accuracy: 0.6478\n",
            "Epoch 96/200\n",
            "31/31 [==============================] - 0s 2ms/step - loss: 0.4927 - binary_accuracy: 0.7632 - val_loss: 0.6562 - val_binary_accuracy: 0.6572\n",
            "Epoch 97/200\n",
            "31/31 [==============================] - 0s 2ms/step - loss: 0.4934 - binary_accuracy: 0.7581 - val_loss: 0.6584 - val_binary_accuracy: 0.6501\n",
            "Epoch 98/200\n",
            "31/31 [==============================] - 0s 2ms/step - loss: 0.4919 - binary_accuracy: 0.7673 - val_loss: 0.6602 - val_binary_accuracy: 0.6525\n",
            "Epoch 99/200\n",
            "31/31 [==============================] - 0s 3ms/step - loss: 0.4906 - binary_accuracy: 0.7652 - val_loss: 0.6600 - val_binary_accuracy: 0.6478\n",
            "Epoch 100/200\n",
            "31/31 [==============================] - 0s 3ms/step - loss: 0.4909 - binary_accuracy: 0.7673 - val_loss: 0.6595 - val_binary_accuracy: 0.6454\n",
            "Epoch 101/200\n",
            "31/31 [==============================] - 0s 3ms/step - loss: 0.4894 - binary_accuracy: 0.7663 - val_loss: 0.6609 - val_binary_accuracy: 0.6454\n",
            "Epoch 102/200\n",
            "31/31 [==============================] - 0s 3ms/step - loss: 0.4898 - binary_accuracy: 0.7663 - val_loss: 0.6646 - val_binary_accuracy: 0.6454\n",
            "Epoch 103/200\n",
            "31/31 [==============================] - 0s 2ms/step - loss: 0.4886 - binary_accuracy: 0.7673 - val_loss: 0.6612 - val_binary_accuracy: 0.6430\n",
            "Epoch 104/200\n",
            "31/31 [==============================] - 0s 3ms/step - loss: 0.4891 - binary_accuracy: 0.7683 - val_loss: 0.6620 - val_binary_accuracy: 0.6525\n",
            "Epoch 105/200\n",
            "31/31 [==============================] - 0s 3ms/step - loss: 0.4883 - binary_accuracy: 0.7693 - val_loss: 0.6659 - val_binary_accuracy: 0.6407\n",
            "Epoch 106/200\n",
            "31/31 [==============================] - 0s 3ms/step - loss: 0.4875 - binary_accuracy: 0.7683 - val_loss: 0.6616 - val_binary_accuracy: 0.6478\n",
            "Epoch 107/200\n",
            "31/31 [==============================] - 0s 3ms/step - loss: 0.4848 - binary_accuracy: 0.7693 - val_loss: 0.6715 - val_binary_accuracy: 0.6407\n",
            "Epoch 108/200\n",
            "31/31 [==============================] - 0s 2ms/step - loss: 0.4863 - binary_accuracy: 0.7693 - val_loss: 0.6639 - val_binary_accuracy: 0.6548\n",
            "Epoch 109/200\n",
            "31/31 [==============================] - 0s 2ms/step - loss: 0.4840 - binary_accuracy: 0.7754 - val_loss: 0.6698 - val_binary_accuracy: 0.6383\n",
            "Epoch 110/200\n",
            "31/31 [==============================] - 0s 3ms/step - loss: 0.4833 - binary_accuracy: 0.7724 - val_loss: 0.6699 - val_binary_accuracy: 0.6478\n",
            "Epoch 111/200\n",
            "31/31 [==============================] - 0s 3ms/step - loss: 0.4830 - binary_accuracy: 0.7693 - val_loss: 0.6705 - val_binary_accuracy: 0.6430\n",
            "Epoch 112/200\n",
            "31/31 [==============================] - 0s 3ms/step - loss: 0.4832 - binary_accuracy: 0.7744 - val_loss: 0.6695 - val_binary_accuracy: 0.6454\n",
            "Epoch 113/200\n",
            "31/31 [==============================] - 0s 2ms/step - loss: 0.4836 - binary_accuracy: 0.7663 - val_loss: 0.6703 - val_binary_accuracy: 0.6548\n",
            "Epoch 114/200\n",
            "31/31 [==============================] - 0s 2ms/step - loss: 0.4816 - binary_accuracy: 0.7652 - val_loss: 0.6761 - val_binary_accuracy: 0.6430\n",
            "Epoch 115/200\n",
            "31/31 [==============================] - 0s 3ms/step - loss: 0.4806 - binary_accuracy: 0.7724 - val_loss: 0.6756 - val_binary_accuracy: 0.6478\n",
            "Epoch 116/200\n",
            "31/31 [==============================] - 0s 3ms/step - loss: 0.4808 - binary_accuracy: 0.7703 - val_loss: 0.6764 - val_binary_accuracy: 0.6454\n",
            "Epoch 117/200\n",
            "31/31 [==============================] - 0s 3ms/step - loss: 0.4804 - binary_accuracy: 0.7754 - val_loss: 0.6726 - val_binary_accuracy: 0.6548\n",
            "Epoch 118/200\n",
            "31/31 [==============================] - 0s 3ms/step - loss: 0.4802 - binary_accuracy: 0.7673 - val_loss: 0.6746 - val_binary_accuracy: 0.6478\n",
            "Epoch 119/200\n",
            "31/31 [==============================] - 0s 2ms/step - loss: 0.4778 - binary_accuracy: 0.7724 - val_loss: 0.6764 - val_binary_accuracy: 0.6454\n",
            "Epoch 120/200\n",
            "31/31 [==============================] - 0s 2ms/step - loss: 0.4764 - binary_accuracy: 0.7713 - val_loss: 0.6750 - val_binary_accuracy: 0.6454\n",
            "Epoch 121/200\n",
            "31/31 [==============================] - 0s 3ms/step - loss: 0.4752 - binary_accuracy: 0.7693 - val_loss: 0.6769 - val_binary_accuracy: 0.6525\n",
            "Epoch 122/200\n",
            "31/31 [==============================] - 0s 3ms/step - loss: 0.4756 - binary_accuracy: 0.7734 - val_loss: 0.6766 - val_binary_accuracy: 0.6478\n",
            "Epoch 123/200\n",
            "31/31 [==============================] - 0s 2ms/step - loss: 0.4753 - binary_accuracy: 0.7744 - val_loss: 0.6799 - val_binary_accuracy: 0.6454\n",
            "Epoch 124/200\n",
            "31/31 [==============================] - 0s 3ms/step - loss: 0.4753 - binary_accuracy: 0.7744 - val_loss: 0.6769 - val_binary_accuracy: 0.6501\n",
            "Epoch 125/200\n",
            "31/31 [==============================] - 0s 2ms/step - loss: 0.4759 - binary_accuracy: 0.7703 - val_loss: 0.6805 - val_binary_accuracy: 0.6501\n",
            "Epoch 126/200\n",
            "31/31 [==============================] - 0s 2ms/step - loss: 0.4730 - binary_accuracy: 0.7713 - val_loss: 0.6782 - val_binary_accuracy: 0.6501\n",
            "Epoch 127/200\n",
            "31/31 [==============================] - 0s 3ms/step - loss: 0.4738 - binary_accuracy: 0.7785 - val_loss: 0.6809 - val_binary_accuracy: 0.6454\n",
            "Epoch 128/200\n",
            "31/31 [==============================] - 0s 2ms/step - loss: 0.4717 - binary_accuracy: 0.7754 - val_loss: 0.6831 - val_binary_accuracy: 0.6430\n",
            "Epoch 129/200\n",
            "31/31 [==============================] - 0s 2ms/step - loss: 0.4729 - binary_accuracy: 0.7795 - val_loss: 0.6821 - val_binary_accuracy: 0.6548\n",
            "Epoch 130/200\n",
            "31/31 [==============================] - 0s 2ms/step - loss: 0.4735 - binary_accuracy: 0.7764 - val_loss: 0.6818 - val_binary_accuracy: 0.6548\n",
            "Epoch 131/200\n",
            "31/31 [==============================] - 0s 2ms/step - loss: 0.4720 - binary_accuracy: 0.7683 - val_loss: 0.6853 - val_binary_accuracy: 0.6407\n",
            "Epoch 132/200\n",
            "31/31 [==============================] - 0s 2ms/step - loss: 0.4696 - binary_accuracy: 0.7744 - val_loss: 0.6821 - val_binary_accuracy: 0.6478\n",
            "Epoch 133/200\n",
            "31/31 [==============================] - 0s 3ms/step - loss: 0.4690 - binary_accuracy: 0.7734 - val_loss: 0.6847 - val_binary_accuracy: 0.6407\n",
            "Epoch 134/200\n",
            "31/31 [==============================] - 0s 3ms/step - loss: 0.4688 - binary_accuracy: 0.7754 - val_loss: 0.6875 - val_binary_accuracy: 0.6430\n"
          ]
        }
      ]
    },
    {
      "cell_type": "code",
      "metadata": {
        "colab": {
          "base_uri": "https://localhost:8080/",
          "height": 737
        },
        "id": "bO_Uxq67o9Gb",
        "outputId": "78d1cd43-122f-43cd-ccf9-ecd0476c6f64"
      },
      "source": [
        "display_binary_acc_hist(history)"
      ],
      "execution_count": null,
      "outputs": [
        {
          "output_type": "display_data",
          "data": {
            "text/html": [
              "<div>\n",
              "<style scoped>\n",
              "    .dataframe tbody tr th:only-of-type {\n",
              "        vertical-align: middle;\n",
              "    }\n",
              "\n",
              "    .dataframe tbody tr th {\n",
              "        vertical-align: top;\n",
              "    }\n",
              "\n",
              "    .dataframe thead th {\n",
              "        text-align: right;\n",
              "    }\n",
              "</style>\n",
              "<table border=\"1\" class=\"dataframe\">\n",
              "  <thead>\n",
              "    <tr style=\"text-align: right;\">\n",
              "      <th></th>\n",
              "      <th>loss</th>\n",
              "      <th>binary_accuracy</th>\n",
              "      <th>val_loss</th>\n",
              "      <th>val_binary_accuracy</th>\n",
              "    </tr>\n",
              "  </thead>\n",
              "  <tbody>\n",
              "    <tr>\n",
              "      <th>0</th>\n",
              "      <td>0.681135</td>\n",
              "      <td>0.573171</td>\n",
              "      <td>0.676592</td>\n",
              "      <td>0.643026</td>\n",
              "    </tr>\n",
              "    <tr>\n",
              "      <th>1</th>\n",
              "      <td>0.670579</td>\n",
              "      <td>0.612805</td>\n",
              "      <td>0.670096</td>\n",
              "      <td>0.638298</td>\n",
              "    </tr>\n",
              "    <tr>\n",
              "      <th>2</th>\n",
              "      <td>0.664651</td>\n",
              "      <td>0.604675</td>\n",
              "      <td>0.665519</td>\n",
              "      <td>0.635934</td>\n",
              "    </tr>\n",
              "    <tr>\n",
              "      <th>3</th>\n",
              "      <td>0.660091</td>\n",
              "      <td>0.612805</td>\n",
              "      <td>0.663854</td>\n",
              "      <td>0.633570</td>\n",
              "    </tr>\n",
              "    <tr>\n",
              "      <th>4</th>\n",
              "      <td>0.655438</td>\n",
              "      <td>0.627033</td>\n",
              "      <td>0.660953</td>\n",
              "      <td>0.626478</td>\n",
              "    </tr>\n",
              "  </tbody>\n",
              "</table>\n",
              "</div>"
            ],
            "text/plain": [
              "       loss  binary_accuracy  val_loss  val_binary_accuracy\n",
              "0  0.681135         0.573171  0.676592             0.643026\n",
              "1  0.670579         0.612805  0.670096             0.638298\n",
              "2  0.664651         0.604675  0.665519             0.635934\n",
              "3  0.660091         0.612805  0.663854             0.633570\n",
              "4  0.655438         0.627033  0.660953             0.626478"
            ]
          },
          "metadata": {}
        },
        {
          "output_type": "stream",
          "name": "stdout",
          "text": [
            "Best Validation Loss: 0.6123\n",
            "Best Validation Accuracy: 0.6879\n"
          ]
        },
        {
          "output_type": "display_data",
          "data": {
            "image/png": "[encoded data removed]",
            "text/plain": [
              "<Figure size 432x288 with 1 Axes>"
            ]
          },
          "metadata": {
            "needs_background": "light"
          }
        },
        {
          "output_type": "display_data",
          "data": {
            "image/png": "[encoded data removed]",
            "text/plain": [
              "<Figure size 432x288 with 1 Axes>"
            ]
          },
          "metadata": {
            "needs_background": "light"
          }
        }
      ]
    },
    {
      "cell_type": "code",
      "metadata": {
        "colab": {
          "base_uri": "https://localhost:8080/"
        },
        "id": "nk1OUg7bpFuh",
        "outputId": "9ea97877-46f7-4428-8dbd-340a4954cf62"
      },
      "source": [
        "test_loss, test_acc = model.evaluate(X_test,  y_test, verbose=2)\n",
        "print('\\nTest accuracy:', test_acc)"
      ],
      "execution_count": null,
      "outputs": [
        {
          "output_type": "stream",
          "name": "stdout",
          "text": [
            "19/19 - 0s - loss: 0.6321 - binary_accuracy: 0.6573\n",
            "\n",
            "Test accuracy: 0.6572847962379456\n"
          ]
        }
      ]
    },
    {
      "cell_type": "code",
      "metadata": {
        "id": "XulatnTMpMy2"
      },
      "source": [
        ""
      ],
      "execution_count": null,
      "outputs": []
    }
  ]
}