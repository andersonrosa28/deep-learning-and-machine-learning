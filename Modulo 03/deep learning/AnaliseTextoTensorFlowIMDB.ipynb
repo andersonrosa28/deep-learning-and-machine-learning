{
  "nbformat": 4,
  "nbformat_minor": 0,
  "metadata": {
    "colab": {
      "name": "AnaliseTextoTensorFlowIMDB.ipynb",
      "provenance": [],
      "collapsed_sections": []
    },
    "kernelspec": {
      "name": "python3",
      "display_name": "Python 3"
    },
    "language_info": {
      "name": "python"
    }
  },
  "cells": [
    {
      "cell_type": "markdown",
      "metadata": {
        "id": "IU6NgIfaGys4"
      },
      "source": [
        "## Analise de texto IMDB utilizando o TensorFlow para atividade de aprofundamento da trilha 04 de DeepLearning.\n",
        "\n",
        "Anderson rosa cascalho\n",
        "Link para acesso: https://colab.research.google.com/drive/16ua_Tfw_vyi_wZ7jaqJErrHqbqJxJNCg?usp=sharing"
      ]
    },
    {
      "cell_type": "code",
      "metadata": {
        "id": "_kZvE8AC_t31"
      },
      "source": [
        "import tensorflow as tf\n",
        "from tensorflow import keras\n",
        "\n",
        "import numpy as np\n"
      ],
      "execution_count": null,
      "outputs": []
    },
    {
      "cell_type": "code",
      "metadata": {
        "colab": {
          "base_uri": "https://localhost:8080/"
        },
        "id": "PISGzPzk_-lH",
        "outputId": "bab8646f-4a1c-433a-b19a-c81d08fa12db"
      },
      "source": [
        "imdb = keras.datasets.imdb\n",
        "(train_data, train_labels), (test_data, test_labels) = imdb.load_data(num_words=10000)"
      ],
      "execution_count": null,
      "outputs": [
        {
          "output_type": "stream",
          "name": "stdout",
          "text": [
            "Downloading data from https://storage.googleapis.com/tensorflow/tf-keras-datasets/imdb.npz\n",
            "17465344/17464789 [==============================] - 0s 0us/step\n",
            "17473536/17464789 [==============================] - 0s 0us/step\n"
          ]
        }
      ]
    },
    {
      "cell_type": "markdown",
      "metadata": {
        "id": "XbmN2Ro4A4js"
      },
      "source": [
        "## Tratamento dos dados"
      ]
    },
    {
      "cell_type": "code",
      "metadata": {
        "colab": {
          "base_uri": "https://localhost:8080/"
        },
        "id": "WdGBASpRAVGW",
        "outputId": "b60277c6-d2c1-4bda-bd85-bee7214c3cc7"
      },
      "source": [
        "print(\"Training entries: {}, labels: {}\".format(len(train_data), len(train_labels)))"
      ],
      "execution_count": null,
      "outputs": [
        {
          "output_type": "stream",
          "name": "stdout",
          "text": [
            "Training entries: 25000, labels: 25000\n"
          ]
        }
      ]
    },
    {
      "cell_type": "code",
      "metadata": {
        "colab": {
          "base_uri": "https://localhost:8080/"
        },
        "id": "r2u6e03gAgPU",
        "outputId": "06c4d6d9-4ba2-419e-feb4-6d74a6a7c65a"
      },
      "source": [
        "print(train_data[0])"
      ],
      "execution_count": null,
      "outputs": [
        {
          "output_type": "stream",
          "name": "stdout",
          "text": [
            "[1, 14, 22, 16, 43, 530, 973, 1622, 1385, 65, 458, 4468, 66, 3941, 4, 173, 36, 256, 5, 25, 100, 43, 838, 112, 50, 670, 2, 9, 35, 480, 284, 5, 150, 4, 172, 112, 167, 2, 336, 385, 39, 4, 172, 4536, 1111, 17, 546, 38, 13, 447, 4, 192, 50, 16, 6, 147, 2025, 19, 14, 22, 4, 1920, 4613, 469, 4, 22, 71, 87, 12, 16, 43, 530, 38, 76, 15, 13, 1247, 4, 22, 17, 515, 17, 12, 16, 626, 18, 2, 5, 62, 386, 12, 8, 316, 8, 106, 5, 4, 2223, 5244, 16, 480, 66, 3785, 33, 4, 130, 12, 16, 38, 619, 5, 25, 124, 51, 36, 135, 48, 25, 1415, 33, 6, 22, 12, 215, 28, 77, 52, 5, 14, 407, 16, 82, 2, 8, 4, 107, 117, 5952, 15, 256, 4, 2, 7, 3766, 5, 723, 36, 71, 43, 530, 476, 26, 400, 317, 46, 7, 4, 2, 1029, 13, 104, 88, 4, 381, 15, 297, 98, 32, 2071, 56, 26, 141, 6, 194, 7486, 18, 4, 226, 22, 21, 134, 476, 26, 480, 5, 144, 30, 5535, 18, 51, 36, 28, 224, 92, 25, 104, 4, 226, 65, 16, 38, 1334, 88, 12, 16, 283, 5, 16, 4472, 113, 103, 32, 15, 16, 5345, 19, 178, 32]\n"
          ]
        }
      ]
    },
    {
      "cell_type": "code",
      "metadata": {
        "colab": {
          "base_uri": "https://localhost:8080/"
        },
        "id": "ZDKfBrgPBZud",
        "outputId": "4b7cab56-b2fd-4f48-d320-f01733579a31"
      },
      "source": [
        "len(train_data[0]), len(train_data[1])"
      ],
      "execution_count": null,
      "outputs": [
        {
          "output_type": "execute_result",
          "data": {
            "text/plain": [
              "(218, 189)"
            ]
          },
          "metadata": {},
          "execution_count": 6
        }
      ]
    },
    {
      "cell_type": "code",
      "metadata": {
        "id": "6X00TzaEBmwd",
        "colab": {
          "base_uri": "https://localhost:8080/"
        },
        "outputId": "9abafa7d-b509-4696-a52b-ece379aa2673"
      },
      "source": [
        "word_index = imdb.get_word_index()\n",
        "# No base já foi tratada para e foi transformado os textos em numeros. Aqui é caso quisessemos transformar os numeros inteiros em palavras novamente. \n",
        "word_index = {k:(v+3) for k,v in word_index.items()} \n",
        "word_index[\"<PAD>\"] = 0\n",
        "word_index[\"<START>\"] = 1\n",
        "word_index[\"<UNK>\"] = 2  # unknown\n",
        "word_index[\"<UNUSED>\"] = 3\n",
        "\n",
        "reverse_word_index = dict([(value, key) for (key, value) in word_index.items()])\n",
        "\n",
        "def decode_review(text):\n",
        "    return ' '.join([reverse_word_index.get(i, '?') for i in text])"
      ],
      "execution_count": null,
      "outputs": [
        {
          "output_type": "stream",
          "name": "stdout",
          "text": [
            "Downloading data from https://storage.googleapis.com/tensorflow/tf-keras-datasets/imdb_word_index.json\n",
            "1646592/1641221 [==============================] - 0s 0us/step\n",
            "1654784/1641221 [==============================] - 0s 0us/step\n"
          ]
        }
      ]
    },
    {
      "cell_type": "code",
      "metadata": {
        "id": "mMshaD0SA83N"
      },
      "source": [
        "#Aqui estamos deixando os dados com o mesmo tamanho, para não dar diferença no tamanho na entrada aos tensores.\n",
        "train_data = keras.preprocessing.sequence.pad_sequences(train_data,\n",
        "                                                        value=word_index[\"<PAD>\"],\n",
        "                                                        padding='post',\n",
        "                                                        maxlen=256)\n",
        "\n",
        "test_data = keras.preprocessing.sequence.pad_sequences(test_data,\n",
        "                                                       value=word_index[\"<PAD>\"],\n",
        "                                                       padding='post',\n",
        "                                                       maxlen=256)"
      ],
      "execution_count": null,
      "outputs": []
    },
    {
      "cell_type": "code",
      "metadata": {
        "colab": {
          "base_uri": "https://localhost:8080/"
        },
        "id": "y-RLhE0JBh53",
        "outputId": "ac58120a-ed1f-4822-fa63-b5d80baeefda"
      },
      "source": [
        "len(train_data[0]), len(train_data[1])"
      ],
      "execution_count": null,
      "outputs": [
        {
          "output_type": "execute_result",
          "data": {
            "text/plain": [
              "(256, 256)"
            ]
          },
          "metadata": {},
          "execution_count": 10
        }
      ]
    },
    {
      "cell_type": "code",
      "metadata": {
        "colab": {
          "base_uri": "https://localhost:8080/"
        },
        "id": "VlviZajeBzQv",
        "outputId": "bb486dfd-7065-4762-e9d8-536630443794"
      },
      "source": [
        "train_data[0]"
      ],
      "execution_count": null,
      "outputs": [
        {
          "output_type": "execute_result",
          "data": {
            "text/plain": [
              "array([   1,   14,   22,   16,   43,  530,  973, 1622, 1385,   65,  458,\n",
              "       4468,   66, 3941,    4,  173,   36,  256,    5,   25,  100,   43,\n",
              "        838,  112,   50,  670,    2,    9,   35,  480,  284,    5,  150,\n",
              "          4,  172,  112,  167,    2,  336,  385,   39,    4,  172, 4536,\n",
              "       1111,   17,  546,   38,   13,  447,    4,  192,   50,   16,    6,\n",
              "        147, 2025,   19,   14,   22,    4, 1920, 4613,  469,    4,   22,\n",
              "         71,   87,   12,   16,   43,  530,   38,   76,   15,   13, 1247,\n",
              "          4,   22,   17,  515,   17,   12,   16,  626,   18,    2,    5,\n",
              "         62,  386,   12,    8,  316,    8,  106,    5,    4, 2223, 5244,\n",
              "         16,  480,   66, 3785,   33,    4,  130,   12,   16,   38,  619,\n",
              "          5,   25,  124,   51,   36,  135,   48,   25, 1415,   33,    6,\n",
              "         22,   12,  215,   28,   77,   52,    5,   14,  407,   16,   82,\n",
              "          2,    8,    4,  107,  117, 5952,   15,  256,    4,    2,    7,\n",
              "       3766,    5,  723,   36,   71,   43,  530,  476,   26,  400,  317,\n",
              "         46,    7,    4,    2, 1029,   13,  104,   88,    4,  381,   15,\n",
              "        297,   98,   32, 2071,   56,   26,  141,    6,  194, 7486,   18,\n",
              "          4,  226,   22,   21,  134,  476,   26,  480,    5,  144,   30,\n",
              "       5535,   18,   51,   36,   28,  224,   92,   25,  104,    4,  226,\n",
              "         65,   16,   38, 1334,   88,   12,   16,  283,    5,   16, 4472,\n",
              "        113,  103,   32,   15,   16, 5345,   19,  178,   32,    0,    0,\n",
              "          0,    0,    0,    0,    0,    0,    0,    0,    0,    0,    0,\n",
              "          0,    0,    0,    0,    0,    0,    0,    0,    0,    0,    0,\n",
              "          0,    0,    0,    0,    0,    0,    0,    0,    0,    0,    0,\n",
              "          0,    0,    0], dtype=int32)"
            ]
          },
          "metadata": {},
          "execution_count": 11
        }
      ]
    },
    {
      "cell_type": "markdown",
      "metadata": {
        "id": "YqmXXhVUCSRg"
      },
      "source": [
        "## Modelo"
      ]
    },
    {
      "cell_type": "code",
      "metadata": {
        "colab": {
          "base_uri": "https://localhost:8080/"
        },
        "id": "h2UUh54-CRu_",
        "outputId": "bc59c885-12db-441b-d3cb-53cfd1606b06"
      },
      "source": [
        "vocab_size = 10000\n",
        "\n",
        "model = keras.Sequential()\n",
        "model.add(keras.layers.Embedding(vocab_size, 16))\n",
        "model.add(keras.layers.GlobalAveragePooling1D())\n",
        "model.add(keras.layers.Dense(16, activation=tf.nn.relu))\n",
        "model.add(keras.layers.Dense(1, activation=tf.nn.sigmoid))\n",
        "\n",
        "model.summary()"
      ],
      "execution_count": null,
      "outputs": [
        {
          "output_type": "stream",
          "name": "stdout",
          "text": [
            "Model: \"sequential_5\"\n",
            "_________________________________________________________________\n",
            "Layer (type)                 Output Shape              Param #   \n",
            "=================================================================\n",
            "embedding_2 (Embedding)      (None, None, 16)          160000    \n",
            "_________________________________________________________________\n",
            "global_average_pooling1d_1 ( (None, 16)                0         \n",
            "_________________________________________________________________\n",
            "dense_16 (Dense)             (None, 16)                272       \n",
            "_________________________________________________________________\n",
            "dense_17 (Dense)             (None, 1)                 17        \n",
            "=================================================================\n",
            "Total params: 160,289\n",
            "Trainable params: 160,289\n",
            "Non-trainable params: 0\n",
            "_________________________________________________________________\n"
          ]
        }
      ]
    },
    {
      "cell_type": "code",
      "metadata": {
        "id": "7cvzkRifDTfq"
      },
      "source": [
        "model.compile(optimizer=tf.optimizers.Adam(),\n",
        "              loss='binary_crossentropy',\n",
        "              metrics=['accuracy'])"
      ],
      "execution_count": null,
      "outputs": []
    },
    {
      "cell_type": "markdown",
      "metadata": {
        "id": "_KB9gQAFDwXi"
      },
      "source": [
        "## Treinando o modelo"
      ]
    },
    {
      "cell_type": "code",
      "metadata": {
        "id": "CAqHoUhRDybg"
      },
      "source": [
        "x_val = train_data[:10000]\n",
        "partial_x_train = train_data[10000:]\n",
        "\n",
        "y_val = train_labels[:10000]\n",
        "partial_y_train = train_labels[10000:]"
      ],
      "execution_count": null,
      "outputs": []
    },
    {
      "cell_type": "markdown",
      "metadata": {
        "id": "aazKpVpjEXgw"
      },
      "source": [
        "Configurando o modelo para que rode em 40 épocas e utilize mini lotes de 512 amostras. Estas 40 iterações sobre todas as amostras nos tensores partial_x_train e partial_y_train. Durante o treino, monitore o erro e a acurácia do modelo sobre as 10.000 amostras no conjunto de validação x_val e y_val."
      ]
    },
    {
      "cell_type": "code",
      "metadata": {
        "colab": {
          "base_uri": "https://localhost:8080/"
        },
        "id": "NZoCjVVPD_ka",
        "outputId": "36a0c7a3-a4aa-45bf-de86-601f2636f9fa"
      },
      "source": [
        "history = model.fit(partial_x_train,\n",
        "                    partial_y_train,\n",
        "                    epochs=40,\n",
        "                    batch_size=512,\n",
        "                    validation_data=(x_val, y_val),\n",
        "                    verbose=1)"
      ],
      "execution_count": null,
      "outputs": [
        {
          "output_type": "stream",
          "name": "stdout",
          "text": [
            "Epoch 1/40\n",
            "30/30 [==============================] - 1s 20ms/step - loss: 0.6922 - accuracy: 0.5840 - val_loss: 0.6904 - val_accuracy: 0.7052\n",
            "Epoch 2/40\n",
            "30/30 [==============================] - 1s 19ms/step - loss: 0.6874 - accuracy: 0.6870 - val_loss: 0.6840 - val_accuracy: 0.7450\n",
            "Epoch 3/40\n",
            "30/30 [==============================] - 1s 20ms/step - loss: 0.6776 - accuracy: 0.7587 - val_loss: 0.6718 - val_accuracy: 0.7543\n",
            "Epoch 4/40\n",
            "30/30 [==============================] - 1s 18ms/step - loss: 0.6609 - accuracy: 0.7690 - val_loss: 0.6527 - val_accuracy: 0.7642\n",
            "Epoch 5/40\n",
            "30/30 [==============================] - 1s 17ms/step - loss: 0.6361 - accuracy: 0.7845 - val_loss: 0.6263 - val_accuracy: 0.7664\n",
            "Epoch 6/40\n",
            "30/30 [==============================] - 0s 15ms/step - loss: 0.6038 - accuracy: 0.7999 - val_loss: 0.5941 - val_accuracy: 0.7821\n",
            "Epoch 7/40\n",
            "30/30 [==============================] - 0s 15ms/step - loss: 0.5663 - accuracy: 0.8125 - val_loss: 0.5580 - val_accuracy: 0.8039\n",
            "Epoch 8/40\n",
            "30/30 [==============================] - 0s 15ms/step - loss: 0.5257 - accuracy: 0.8309 - val_loss: 0.5213 - val_accuracy: 0.8142\n",
            "Epoch 9/40\n",
            "30/30 [==============================] - 0s 15ms/step - loss: 0.4855 - accuracy: 0.8438 - val_loss: 0.4862 - val_accuracy: 0.8309\n",
            "Epoch 10/40\n",
            "30/30 [==============================] - 0s 15ms/step - loss: 0.4475 - accuracy: 0.8587 - val_loss: 0.4539 - val_accuracy: 0.8407\n",
            "Epoch 11/40\n",
            "30/30 [==============================] - 0s 16ms/step - loss: 0.4129 - accuracy: 0.8663 - val_loss: 0.4245 - val_accuracy: 0.8511\n",
            "Epoch 12/40\n",
            "30/30 [==============================] - 0s 15ms/step - loss: 0.3806 - accuracy: 0.8769 - val_loss: 0.3991 - val_accuracy: 0.8540\n",
            "Epoch 13/40\n",
            "30/30 [==============================] - 0s 15ms/step - loss: 0.3524 - accuracy: 0.8833 - val_loss: 0.3779 - val_accuracy: 0.8614\n",
            "Epoch 14/40\n",
            "30/30 [==============================] - 0s 16ms/step - loss: 0.3283 - accuracy: 0.8910 - val_loss: 0.3603 - val_accuracy: 0.8642\n",
            "Epoch 15/40\n",
            "30/30 [==============================] - 0s 16ms/step - loss: 0.3077 - accuracy: 0.8978 - val_loss: 0.3458 - val_accuracy: 0.8689\n",
            "Epoch 16/40\n",
            "30/30 [==============================] - 0s 16ms/step - loss: 0.2893 - accuracy: 0.9017 - val_loss: 0.3349 - val_accuracy: 0.8712\n",
            "Epoch 17/40\n",
            "30/30 [==============================] - 0s 15ms/step - loss: 0.2738 - accuracy: 0.9055 - val_loss: 0.3253 - val_accuracy: 0.8751\n",
            "Epoch 18/40\n",
            "30/30 [==============================] - 0s 17ms/step - loss: 0.2597 - accuracy: 0.9101 - val_loss: 0.3164 - val_accuracy: 0.8771\n",
            "Epoch 19/40\n",
            "30/30 [==============================] - 1s 18ms/step - loss: 0.2467 - accuracy: 0.9153 - val_loss: 0.3105 - val_accuracy: 0.8781\n",
            "Epoch 20/40\n",
            "30/30 [==============================] - 1s 17ms/step - loss: 0.2348 - accuracy: 0.9189 - val_loss: 0.3047 - val_accuracy: 0.8803\n",
            "Epoch 21/40\n",
            "30/30 [==============================] - 0s 16ms/step - loss: 0.2245 - accuracy: 0.9219 - val_loss: 0.3007 - val_accuracy: 0.8795\n",
            "Epoch 22/40\n",
            "30/30 [==============================] - 0s 16ms/step - loss: 0.2146 - accuracy: 0.9265 - val_loss: 0.2963 - val_accuracy: 0.8823\n",
            "Epoch 23/40\n",
            "30/30 [==============================] - 0s 15ms/step - loss: 0.2055 - accuracy: 0.9295 - val_loss: 0.2929 - val_accuracy: 0.8827\n",
            "Epoch 24/40\n",
            "30/30 [==============================] - 0s 15ms/step - loss: 0.1965 - accuracy: 0.9334 - val_loss: 0.2904 - val_accuracy: 0.8838\n",
            "Epoch 25/40\n",
            "30/30 [==============================] - 0s 15ms/step - loss: 0.1884 - accuracy: 0.9369 - val_loss: 0.2882 - val_accuracy: 0.8848\n",
            "Epoch 26/40\n",
            "30/30 [==============================] - 0s 15ms/step - loss: 0.1810 - accuracy: 0.9402 - val_loss: 0.2870 - val_accuracy: 0.8840\n",
            "Epoch 27/40\n",
            "30/30 [==============================] - 0s 15ms/step - loss: 0.1738 - accuracy: 0.9437 - val_loss: 0.2860 - val_accuracy: 0.8859\n",
            "Epoch 28/40\n",
            "30/30 [==============================] - 0s 14ms/step - loss: 0.1671 - accuracy: 0.9461 - val_loss: 0.2856 - val_accuracy: 0.8855\n",
            "Epoch 29/40\n",
            "30/30 [==============================] - 0s 15ms/step - loss: 0.1611 - accuracy: 0.9484 - val_loss: 0.2862 - val_accuracy: 0.8836\n",
            "Epoch 30/40\n",
            "30/30 [==============================] - 0s 15ms/step - loss: 0.1546 - accuracy: 0.9515 - val_loss: 0.2861 - val_accuracy: 0.8838\n",
            "Epoch 31/40\n",
            "30/30 [==============================] - 0s 15ms/step - loss: 0.1491 - accuracy: 0.9539 - val_loss: 0.2855 - val_accuracy: 0.8860\n",
            "Epoch 32/40\n",
            "30/30 [==============================] - 0s 16ms/step - loss: 0.1439 - accuracy: 0.9555 - val_loss: 0.2882 - val_accuracy: 0.8846\n",
            "Epoch 33/40\n",
            "30/30 [==============================] - 0s 16ms/step - loss: 0.1390 - accuracy: 0.9581 - val_loss: 0.2879 - val_accuracy: 0.8840\n",
            "Epoch 34/40\n",
            "30/30 [==============================] - 0s 15ms/step - loss: 0.1333 - accuracy: 0.9605 - val_loss: 0.2883 - val_accuracy: 0.8850\n",
            "Epoch 35/40\n",
            "30/30 [==============================] - 0s 15ms/step - loss: 0.1285 - accuracy: 0.9622 - val_loss: 0.2899 - val_accuracy: 0.8860\n",
            "Epoch 36/40\n",
            "30/30 [==============================] - 0s 16ms/step - loss: 0.1238 - accuracy: 0.9642 - val_loss: 0.2912 - val_accuracy: 0.8852\n",
            "Epoch 37/40\n",
            "30/30 [==============================] - 0s 16ms/step - loss: 0.1195 - accuracy: 0.9659 - val_loss: 0.2940 - val_accuracy: 0.8842\n",
            "Epoch 38/40\n",
            "30/30 [==============================] - 0s 17ms/step - loss: 0.1155 - accuracy: 0.9680 - val_loss: 0.2951 - val_accuracy: 0.8842\n",
            "Epoch 39/40\n",
            "30/30 [==============================] - 0s 16ms/step - loss: 0.1113 - accuracy: 0.9685 - val_loss: 0.2981 - val_accuracy: 0.8834\n",
            "Epoch 40/40\n",
            "30/30 [==============================] - 1s 17ms/step - loss: 0.1074 - accuracy: 0.9706 - val_loss: 0.2997 - val_accuracy: 0.8843\n"
          ]
        }
      ]
    },
    {
      "cell_type": "markdown",
      "metadata": {
        "id": "008nt1dhEsf7"
      },
      "source": [
        "## Avaliar o modelo"
      ]
    },
    {
      "cell_type": "code",
      "metadata": {
        "colab": {
          "base_uri": "https://localhost:8080/"
        },
        "id": "LXt7fNaNEoYi",
        "outputId": "ceb752c3-b995-4b12-8b77-4d55c05e6a6a"
      },
      "source": [
        "results = model.evaluate(test_data, test_labels)\n",
        "\n",
        "print(results)"
      ],
      "execution_count": null,
      "outputs": [
        {
          "output_type": "stream",
          "name": "stdout",
          "text": [
            "782/782 [==============================] - 1s 1ms/step - loss: 1.3413 - accuracy: 0.5073\n",
            "[1.3413382768630981, 0.5072799921035767]\n"
          ]
        }
      ]
    },
    {
      "cell_type": "markdown",
      "metadata": {
        "id": "EkjUx4_HGN3c"
      },
      "source": [
        "O resultado que temos são dois numeros: erro (quanto menor, melhor) e a acurácia (quanto maior, melhor). Aqui podemos identificar que a accuracy é de 87%"
      ]
    },
    {
      "cell_type": "markdown",
      "metadata": {
        "id": "5EY_4e-VE5oS"
      },
      "source": [
        "## Grafico de erro e da acurácia"
      ]
    },
    {
      "cell_type": "code",
      "metadata": {
        "id": "yGSMRexrE8rI"
      },
      "source": [
        "history_dict = history.history\n",
        "history_dict.keys()"
      ],
      "execution_count": null,
      "outputs": []
    },
    {
      "cell_type": "code",
      "metadata": {
        "id": "uslTY45SFI7X"
      },
      "source": [
        "import matplotlib.pyplot as plt\n",
        "\n",
        "acc = history.history['accuracy']\n",
        "val_acc = history.history['val_accuracy']\n",
        "loss = history.history['loss']\n",
        "val_loss = history.history['val_loss']\n",
        "\n",
        "epochs = range(1, len(acc) + 1)\n",
        "\n",
        "# \"bo\" is for \"blue dot\"\n",
        "plt.plot(epochs, loss, 'bo', label='Training loss')\n",
        "# b is for \"solid blue line\"\n",
        "plt.plot(epochs, val_loss, 'b', label='Validation loss')\n",
        "plt.title('Training and validation loss')\n",
        "plt.xlabel('Epochs')\n",
        "plt.ylabel('Loss')\n",
        "plt.legend()\n",
        "\n",
        "plt.show()\n",
        "\n",
        "plt.clf()   # clear figure\n",
        "acc_values = history_dict['accuracy']\n",
        "val_acc_values = history_dict['val_accuracy']\n",
        "\n",
        "plt.plot(epochs, acc, 'bo', label='Training acc')\n",
        "plt.plot(epochs, val_acc, 'b', label='Validation acc')\n",
        "plt.title('Training and validation accuracy')\n",
        "plt.xlabel('Epochs')\n",
        "plt.ylabel('Accuracy')\n",
        "plt.legend()\n",
        "\n",
        "plt.show()"
      ],
      "execution_count": null,
      "outputs": []
    }
  ]
}