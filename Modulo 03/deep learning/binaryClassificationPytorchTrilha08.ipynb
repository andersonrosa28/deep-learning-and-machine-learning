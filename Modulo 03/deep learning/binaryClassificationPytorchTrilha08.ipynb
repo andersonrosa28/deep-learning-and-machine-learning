{
  "nbformat": 4,
  "nbformat_minor": 5,
  "metadata": {
    "jupytext": {
      "cell_metadata_filter": "-all",
      "formats": "ipynb"
    },
    "kernelspec": {
      "display_name": "Python 3",
      "language": "python",
      "name": "python3"
    },
    "language_info": {
      "codemirror_mode": {
        "name": "ipython",
        "version": 3
      },
      "file_extension": ".py",
      "mimetype": "text/x-python",
      "name": "python",
      "nbconvert_exporter": "python",
      "pygments_lexer": "ipython3",
      "version": "3.7.10"
    },
    "papermill": {
      "default_parameters": {},
      "duration": 23.717053,
      "end_time": "2021-09-13T20:12:59.646758",
      "environment_variables": {},
      "exception": null,
      "input_path": "__notebook__.ipynb",
      "output_path": "__notebook__.ipynb",
      "parameters": {},
      "start_time": "2021-09-13T20:12:35.929705",
      "version": "2.3.3"
    },
    "colab": {
      "name": "binaryClassificationPytorchTrilha08.ipynb",
      "provenance": [],
      "collapsed_sections": []
    }
  },
  "cells": [
    {
      "cell_type": "markdown",
      "metadata": {
        "id": "-rzrSlWMA3hp"
      },
      "source": [
        "Trabalho trilha 08 DeepLearning"
      ],
      "id": "-rzrSlWMA3hp"
    },
    {
      "cell_type": "code",
      "metadata": {
        "_kg_hide-input": true,
        "execution": {
          "iopub.execute_input": "2021-09-13T20:12:43.975068Z",
          "iopub.status.busy": "2021-09-13T20:12:43.963839Z",
          "iopub.status.idle": "2021-09-13T20:12:44.064614Z",
          "shell.execute_reply": "2021-09-13T20:12:44.065116Z"
        },
        "lines_to_next_cell": 0,
        "papermill": {
          "duration": 0.113251,
          "end_time": "2021-09-13T20:12:44.065407",
          "exception": false,
          "start_time": "2021-09-13T20:12:43.952156",
          "status": "completed"
        },
        "tags": [],
        "id": "95b83ed5"
      },
      "source": [
        "import pandas as pd\n",
        "from IPython.display import display\n",
        "import tensorflow as tf\n",
        "import numpy as np\n",
        "from tensorflow import keras\n",
        "from tensorflow.keras import layers"
      ],
      "id": "95b83ed5",
      "execution_count": null,
      "outputs": []
    },
    {
      "cell_type": "code",
      "metadata": {
        "colab": {
          "resources": {
            "http://localhost:8080/nbextensions/google.colab/files.js": {
              "data": "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",
              "ok": true,
              "headers": [
                [
                  "content-type",
                  "application/javascript"
                ]
              ],
              "status": 200,
              "status_text": ""
            }
          },
          "base_uri": "https://localhost:8080/",
          "height": 73
        },
        "id": "H3CdHhvI7E1A",
        "outputId": "d8651ca5-00f2-442a-e172-6f640c261b29"
      },
      "source": [
        "from google.colab import files\n",
        "uploaded = files.upload()"
      ],
      "id": "H3CdHhvI7E1A",
      "execution_count": null,
      "outputs": [
        {
          "output_type": "display_data",
          "data": {
            "text/html": [
              "\n",
              "     <input type=\"file\" id=\"files-8d821d3f-06d5-4b80-9a91-049ca0e2b584\" name=\"files[]\" multiple disabled\n",
              "        style=\"border:none\" />\n",
              "     <output id=\"result-8d821d3f-06d5-4b80-9a91-049ca0e2b584\">\n",
              "      Upload widget is only available when the cell has been executed in the\n",
              "      current browser session. Please rerun this cell to enable.\n",
              "      </output>\n",
              "      <script src=\"/nbextensions/google.colab/files.js\"></script> "
            ],
            "text/plain": [
              "<IPython.core.display.HTML object>"
            ]
          },
          "metadata": {}
        },
        {
          "output_type": "stream",
          "name": "stdout",
          "text": [
            "Saving ion.csv to ion.csv\n"
          ]
        }
      ]
    },
    {
      "cell_type": "code",
      "metadata": {
        "colab": {
          "base_uri": "https://localhost:8080/",
          "height": 226
        },
        "id": "7XrKDMTQ7SAY",
        "outputId": "62abdfe1-5087-4d32-eedd-6b97c2514c21"
      },
      "source": [
        "ion = pd.read_csv('ion.csv', index_col=0)\n",
        "display(ion.head())"
      ],
      "id": "7XrKDMTQ7SAY",
      "execution_count": null,
      "outputs": [
        {
          "output_type": "display_data",
          "data": {
            "text/html": [
              "<div>\n",
              "<style scoped>\n",
              "    .dataframe tbody tr th:only-of-type {\n",
              "        vertical-align: middle;\n",
              "    }\n",
              "\n",
              "    .dataframe tbody tr th {\n",
              "        vertical-align: top;\n",
              "    }\n",
              "\n",
              "    .dataframe thead th {\n",
              "        text-align: right;\n",
              "    }\n",
              "</style>\n",
              "<table border=\"1\" class=\"dataframe\">\n",
              "  <thead>\n",
              "    <tr style=\"text-align: right;\">\n",
              "      <th></th>\n",
              "      <th>V1</th>\n",
              "      <th>V2</th>\n",
              "      <th>V3</th>\n",
              "      <th>V4</th>\n",
              "      <th>V5</th>\n",
              "      <th>V6</th>\n",
              "      <th>V7</th>\n",
              "      <th>V8</th>\n",
              "      <th>V9</th>\n",
              "      <th>V10</th>\n",
              "      <th>V11</th>\n",
              "      <th>V12</th>\n",
              "      <th>V13</th>\n",
              "      <th>V14</th>\n",
              "      <th>V15</th>\n",
              "      <th>V16</th>\n",
              "      <th>V17</th>\n",
              "      <th>V18</th>\n",
              "      <th>V19</th>\n",
              "      <th>V20</th>\n",
              "      <th>V21</th>\n",
              "      <th>V22</th>\n",
              "      <th>V23</th>\n",
              "      <th>V24</th>\n",
              "      <th>V25</th>\n",
              "      <th>V26</th>\n",
              "      <th>V27</th>\n",
              "      <th>V28</th>\n",
              "      <th>V29</th>\n",
              "      <th>V30</th>\n",
              "      <th>V31</th>\n",
              "      <th>V32</th>\n",
              "      <th>V33</th>\n",
              "      <th>V34</th>\n",
              "      <th>Class</th>\n",
              "    </tr>\n",
              "  </thead>\n",
              "  <tbody>\n",
              "    <tr>\n",
              "      <th>1</th>\n",
              "      <td>1</td>\n",
              "      <td>0</td>\n",
              "      <td>0.99539</td>\n",
              "      <td>-0.05889</td>\n",
              "      <td>0.85243</td>\n",
              "      <td>0.02306</td>\n",
              "      <td>0.83398</td>\n",
              "      <td>-0.37708</td>\n",
              "      <td>1.00000</td>\n",
              "      <td>0.03760</td>\n",
              "      <td>0.85243</td>\n",
              "      <td>-0.17755</td>\n",
              "      <td>0.59755</td>\n",
              "      <td>-0.44945</td>\n",
              "      <td>0.60536</td>\n",
              "      <td>-0.38223</td>\n",
              "      <td>0.84356</td>\n",
              "      <td>-0.38542</td>\n",
              "      <td>0.58212</td>\n",
              "      <td>-0.32192</td>\n",
              "      <td>0.56971</td>\n",
              "      <td>-0.29674</td>\n",
              "      <td>0.36946</td>\n",
              "      <td>-0.47357</td>\n",
              "      <td>0.56811</td>\n",
              "      <td>-0.51171</td>\n",
              "      <td>0.41078</td>\n",
              "      <td>-0.46168</td>\n",
              "      <td>0.21266</td>\n",
              "      <td>-0.34090</td>\n",
              "      <td>0.42267</td>\n",
              "      <td>-0.54487</td>\n",
              "      <td>0.18641</td>\n",
              "      <td>-0.45300</td>\n",
              "      <td>good</td>\n",
              "    </tr>\n",
              "    <tr>\n",
              "      <th>2</th>\n",
              "      <td>1</td>\n",
              "      <td>0</td>\n",
              "      <td>1.00000</td>\n",
              "      <td>-0.18829</td>\n",
              "      <td>0.93035</td>\n",
              "      <td>-0.36156</td>\n",
              "      <td>-0.10868</td>\n",
              "      <td>-0.93597</td>\n",
              "      <td>1.00000</td>\n",
              "      <td>-0.04549</td>\n",
              "      <td>0.50874</td>\n",
              "      <td>-0.67743</td>\n",
              "      <td>0.34432</td>\n",
              "      <td>-0.69707</td>\n",
              "      <td>-0.51685</td>\n",
              "      <td>-0.97515</td>\n",
              "      <td>0.05499</td>\n",
              "      <td>-0.62237</td>\n",
              "      <td>0.33109</td>\n",
              "      <td>-1.00000</td>\n",
              "      <td>-0.13151</td>\n",
              "      <td>-0.45300</td>\n",
              "      <td>-0.18056</td>\n",
              "      <td>-0.35734</td>\n",
              "      <td>-0.20332</td>\n",
              "      <td>-0.26569</td>\n",
              "      <td>-0.20468</td>\n",
              "      <td>-0.18401</td>\n",
              "      <td>-0.19040</td>\n",
              "      <td>-0.11593</td>\n",
              "      <td>-0.16626</td>\n",
              "      <td>-0.06288</td>\n",
              "      <td>-0.13738</td>\n",
              "      <td>-0.02447</td>\n",
              "      <td>bad</td>\n",
              "    </tr>\n",
              "    <tr>\n",
              "      <th>3</th>\n",
              "      <td>1</td>\n",
              "      <td>0</td>\n",
              "      <td>1.00000</td>\n",
              "      <td>-0.03365</td>\n",
              "      <td>1.00000</td>\n",
              "      <td>0.00485</td>\n",
              "      <td>1.00000</td>\n",
              "      <td>-0.12062</td>\n",
              "      <td>0.88965</td>\n",
              "      <td>0.01198</td>\n",
              "      <td>0.73082</td>\n",
              "      <td>0.05346</td>\n",
              "      <td>0.85443</td>\n",
              "      <td>0.00827</td>\n",
              "      <td>0.54591</td>\n",
              "      <td>0.00299</td>\n",
              "      <td>0.83775</td>\n",
              "      <td>-0.13644</td>\n",
              "      <td>0.75535</td>\n",
              "      <td>-0.08540</td>\n",
              "      <td>0.70887</td>\n",
              "      <td>-0.27502</td>\n",
              "      <td>0.43385</td>\n",
              "      <td>-0.12062</td>\n",
              "      <td>0.57528</td>\n",
              "      <td>-0.40220</td>\n",
              "      <td>0.58984</td>\n",
              "      <td>-0.22145</td>\n",
              "      <td>0.43100</td>\n",
              "      <td>-0.17365</td>\n",
              "      <td>0.60436</td>\n",
              "      <td>-0.24180</td>\n",
              "      <td>0.56045</td>\n",
              "      <td>-0.38238</td>\n",
              "      <td>good</td>\n",
              "    </tr>\n",
              "    <tr>\n",
              "      <th>4</th>\n",
              "      <td>1</td>\n",
              "      <td>0</td>\n",
              "      <td>1.00000</td>\n",
              "      <td>-0.45161</td>\n",
              "      <td>1.00000</td>\n",
              "      <td>1.00000</td>\n",
              "      <td>0.71216</td>\n",
              "      <td>-1.00000</td>\n",
              "      <td>0.00000</td>\n",
              "      <td>0.00000</td>\n",
              "      <td>0.00000</td>\n",
              "      <td>0.00000</td>\n",
              "      <td>0.00000</td>\n",
              "      <td>0.00000</td>\n",
              "      <td>-1.00000</td>\n",
              "      <td>0.14516</td>\n",
              "      <td>0.54094</td>\n",
              "      <td>-0.39330</td>\n",
              "      <td>-1.00000</td>\n",
              "      <td>-0.54467</td>\n",
              "      <td>-0.69975</td>\n",
              "      <td>1.00000</td>\n",
              "      <td>0.00000</td>\n",
              "      <td>0.00000</td>\n",
              "      <td>1.00000</td>\n",
              "      <td>0.90695</td>\n",
              "      <td>0.51613</td>\n",
              "      <td>1.00000</td>\n",
              "      <td>1.00000</td>\n",
              "      <td>-0.20099</td>\n",
              "      <td>0.25682</td>\n",
              "      <td>1.00000</td>\n",
              "      <td>-0.32382</td>\n",
              "      <td>1.00000</td>\n",
              "      <td>bad</td>\n",
              "    </tr>\n",
              "    <tr>\n",
              "      <th>5</th>\n",
              "      <td>1</td>\n",
              "      <td>0</td>\n",
              "      <td>1.00000</td>\n",
              "      <td>-0.02401</td>\n",
              "      <td>0.94140</td>\n",
              "      <td>0.06531</td>\n",
              "      <td>0.92106</td>\n",
              "      <td>-0.23255</td>\n",
              "      <td>0.77152</td>\n",
              "      <td>-0.16399</td>\n",
              "      <td>0.52798</td>\n",
              "      <td>-0.20275</td>\n",
              "      <td>0.56409</td>\n",
              "      <td>-0.00712</td>\n",
              "      <td>0.34395</td>\n",
              "      <td>-0.27457</td>\n",
              "      <td>0.52940</td>\n",
              "      <td>-0.21780</td>\n",
              "      <td>0.45107</td>\n",
              "      <td>-0.17813</td>\n",
              "      <td>0.05982</td>\n",
              "      <td>-0.35575</td>\n",
              "      <td>0.02309</td>\n",
              "      <td>-0.52879</td>\n",
              "      <td>0.03286</td>\n",
              "      <td>-0.65158</td>\n",
              "      <td>0.13290</td>\n",
              "      <td>-0.53206</td>\n",
              "      <td>0.02431</td>\n",
              "      <td>-0.62197</td>\n",
              "      <td>-0.05707</td>\n",
              "      <td>-0.59573</td>\n",
              "      <td>-0.04608</td>\n",
              "      <td>-0.65697</td>\n",
              "      <td>good</td>\n",
              "    </tr>\n",
              "  </tbody>\n",
              "</table>\n",
              "</div>"
            ],
            "text/plain": [
              "   V1  V2       V3       V4       V5  ...      V31      V32      V33      V34  Class\n",
              "1   1   0  0.99539 -0.05889  0.85243  ...  0.42267 -0.54487  0.18641 -0.45300   good\n",
              "2   1   0  1.00000 -0.18829  0.93035  ... -0.16626 -0.06288 -0.13738 -0.02447    bad\n",
              "3   1   0  1.00000 -0.03365  1.00000  ...  0.60436 -0.24180  0.56045 -0.38238   good\n",
              "4   1   0  1.00000 -0.45161  1.00000  ...  0.25682  1.00000 -0.32382  1.00000    bad\n",
              "5   1   0  1.00000 -0.02401  0.94140  ... -0.05707 -0.59573 -0.04608 -0.65697   good\n",
              "\n",
              "[5 rows x 35 columns]"
            ]
          },
          "metadata": {}
        }
      ]
    },
    {
      "cell_type": "markdown",
      "metadata": {
        "id": "EE3sz6LT9eqi"
      },
      "source": [
        "Analise exploratoria"
      ],
      "id": "EE3sz6LT9eqi"
    },
    {
      "cell_type": "code",
      "metadata": {
        "colab": {
          "base_uri": "https://localhost:8080/",
          "height": 320
        },
        "id": "sGsgD7VH9hHl",
        "outputId": "05f0b8ac-4f8b-4f27-da5f-d1e2af052b79"
      },
      "source": [
        "ion.describe()"
      ],
      "id": "sGsgD7VH9hHl",
      "execution_count": null,
      "outputs": [
        {
          "output_type": "execute_result",
          "data": {
            "text/html": [
              "<div>\n",
              "<style scoped>\n",
              "    .dataframe tbody tr th:only-of-type {\n",
              "        vertical-align: middle;\n",
              "    }\n",
              "\n",
              "    .dataframe tbody tr th {\n",
              "        vertical-align: top;\n",
              "    }\n",
              "\n",
              "    .dataframe thead th {\n",
              "        text-align: right;\n",
              "    }\n",
              "</style>\n",
              "<table border=\"1\" class=\"dataframe\">\n",
              "  <thead>\n",
              "    <tr style=\"text-align: right;\">\n",
              "      <th></th>\n",
              "      <th>V1</th>\n",
              "      <th>V2</th>\n",
              "      <th>V3</th>\n",
              "      <th>V4</th>\n",
              "      <th>V5</th>\n",
              "      <th>V6</th>\n",
              "      <th>V7</th>\n",
              "      <th>V8</th>\n",
              "      <th>V9</th>\n",
              "      <th>V10</th>\n",
              "      <th>V11</th>\n",
              "      <th>V12</th>\n",
              "      <th>V13</th>\n",
              "      <th>V14</th>\n",
              "      <th>V15</th>\n",
              "      <th>V16</th>\n",
              "      <th>V17</th>\n",
              "      <th>V18</th>\n",
              "      <th>V19</th>\n",
              "      <th>V20</th>\n",
              "      <th>V21</th>\n",
              "      <th>V22</th>\n",
              "      <th>V23</th>\n",
              "      <th>V24</th>\n",
              "      <th>V25</th>\n",
              "      <th>V26</th>\n",
              "      <th>V27</th>\n",
              "      <th>V28</th>\n",
              "      <th>V29</th>\n",
              "      <th>V30</th>\n",
              "      <th>V31</th>\n",
              "      <th>V32</th>\n",
              "      <th>V33</th>\n",
              "      <th>V34</th>\n",
              "    </tr>\n",
              "  </thead>\n",
              "  <tbody>\n",
              "    <tr>\n",
              "      <th>count</th>\n",
              "      <td>351.000000</td>\n",
              "      <td>351.0</td>\n",
              "      <td>351.000000</td>\n",
              "      <td>351.000000</td>\n",
              "      <td>351.000000</td>\n",
              "      <td>351.000000</td>\n",
              "      <td>351.000000</td>\n",
              "      <td>351.000000</td>\n",
              "      <td>351.000000</td>\n",
              "      <td>351.000000</td>\n",
              "      <td>351.000000</td>\n",
              "      <td>351.000000</td>\n",
              "      <td>351.000000</td>\n",
              "      <td>351.000000</td>\n",
              "      <td>351.000000</td>\n",
              "      <td>351.000000</td>\n",
              "      <td>351.000000</td>\n",
              "      <td>351.000000</td>\n",
              "      <td>351.000000</td>\n",
              "      <td>351.000000</td>\n",
              "      <td>351.000000</td>\n",
              "      <td>351.000000</td>\n",
              "      <td>351.000000</td>\n",
              "      <td>351.000000</td>\n",
              "      <td>351.000000</td>\n",
              "      <td>351.000000</td>\n",
              "      <td>351.000000</td>\n",
              "      <td>351.000000</td>\n",
              "      <td>351.000000</td>\n",
              "      <td>351.000000</td>\n",
              "      <td>351.000000</td>\n",
              "      <td>351.000000</td>\n",
              "      <td>351.000000</td>\n",
              "      <td>351.000000</td>\n",
              "    </tr>\n",
              "    <tr>\n",
              "      <th>mean</th>\n",
              "      <td>0.891738</td>\n",
              "      <td>0.0</td>\n",
              "      <td>0.641342</td>\n",
              "      <td>0.044372</td>\n",
              "      <td>0.601068</td>\n",
              "      <td>0.115889</td>\n",
              "      <td>0.550095</td>\n",
              "      <td>0.119360</td>\n",
              "      <td>0.511848</td>\n",
              "      <td>0.181345</td>\n",
              "      <td>0.476183</td>\n",
              "      <td>0.155040</td>\n",
              "      <td>0.400801</td>\n",
              "      <td>0.093414</td>\n",
              "      <td>0.344159</td>\n",
              "      <td>0.071132</td>\n",
              "      <td>0.381949</td>\n",
              "      <td>-0.003617</td>\n",
              "      <td>0.359390</td>\n",
              "      <td>-0.024025</td>\n",
              "      <td>0.336695</td>\n",
              "      <td>0.008296</td>\n",
              "      <td>0.362475</td>\n",
              "      <td>-0.057406</td>\n",
              "      <td>0.396135</td>\n",
              "      <td>-0.071187</td>\n",
              "      <td>0.541641</td>\n",
              "      <td>-0.069538</td>\n",
              "      <td>0.378445</td>\n",
              "      <td>-0.027907</td>\n",
              "      <td>0.352514</td>\n",
              "      <td>-0.003794</td>\n",
              "      <td>0.349364</td>\n",
              "      <td>0.014480</td>\n",
              "    </tr>\n",
              "    <tr>\n",
              "      <th>std</th>\n",
              "      <td>0.311155</td>\n",
              "      <td>0.0</td>\n",
              "      <td>0.497708</td>\n",
              "      <td>0.441435</td>\n",
              "      <td>0.519862</td>\n",
              "      <td>0.460810</td>\n",
              "      <td>0.492654</td>\n",
              "      <td>0.520750</td>\n",
              "      <td>0.507066</td>\n",
              "      <td>0.483851</td>\n",
              "      <td>0.563496</td>\n",
              "      <td>0.494817</td>\n",
              "      <td>0.622186</td>\n",
              "      <td>0.494873</td>\n",
              "      <td>0.652828</td>\n",
              "      <td>0.458371</td>\n",
              "      <td>0.618020</td>\n",
              "      <td>0.496762</td>\n",
              "      <td>0.626267</td>\n",
              "      <td>0.519076</td>\n",
              "      <td>0.609828</td>\n",
              "      <td>0.518166</td>\n",
              "      <td>0.603767</td>\n",
              "      <td>0.527456</td>\n",
              "      <td>0.578451</td>\n",
              "      <td>0.508495</td>\n",
              "      <td>0.516205</td>\n",
              "      <td>0.550025</td>\n",
              "      <td>0.575886</td>\n",
              "      <td>0.507974</td>\n",
              "      <td>0.571483</td>\n",
              "      <td>0.513574</td>\n",
              "      <td>0.522663</td>\n",
              "      <td>0.468337</td>\n",
              "    </tr>\n",
              "    <tr>\n",
              "      <th>min</th>\n",
              "      <td>0.000000</td>\n",
              "      <td>0.0</td>\n",
              "      <td>-1.000000</td>\n",
              "      <td>-1.000000</td>\n",
              "      <td>-1.000000</td>\n",
              "      <td>-1.000000</td>\n",
              "      <td>-1.000000</td>\n",
              "      <td>-1.000000</td>\n",
              "      <td>-1.000000</td>\n",
              "      <td>-1.000000</td>\n",
              "      <td>-1.000000</td>\n",
              "      <td>-1.000000</td>\n",
              "      <td>-1.000000</td>\n",
              "      <td>-1.000000</td>\n",
              "      <td>-1.000000</td>\n",
              "      <td>-1.000000</td>\n",
              "      <td>-1.000000</td>\n",
              "      <td>-1.000000</td>\n",
              "      <td>-1.000000</td>\n",
              "      <td>-1.000000</td>\n",
              "      <td>-1.000000</td>\n",
              "      <td>-1.000000</td>\n",
              "      <td>-1.000000</td>\n",
              "      <td>-1.000000</td>\n",
              "      <td>-1.000000</td>\n",
              "      <td>-1.000000</td>\n",
              "      <td>-1.000000</td>\n",
              "      <td>-1.000000</td>\n",
              "      <td>-1.000000</td>\n",
              "      <td>-1.000000</td>\n",
              "      <td>-1.000000</td>\n",
              "      <td>-1.000000</td>\n",
              "      <td>-1.000000</td>\n",
              "      <td>-1.000000</td>\n",
              "    </tr>\n",
              "    <tr>\n",
              "      <th>25%</th>\n",
              "      <td>1.000000</td>\n",
              "      <td>0.0</td>\n",
              "      <td>0.472135</td>\n",
              "      <td>-0.064735</td>\n",
              "      <td>0.412660</td>\n",
              "      <td>-0.024795</td>\n",
              "      <td>0.211310</td>\n",
              "      <td>-0.054840</td>\n",
              "      <td>0.087110</td>\n",
              "      <td>-0.048075</td>\n",
              "      <td>0.021120</td>\n",
              "      <td>-0.065265</td>\n",
              "      <td>0.000000</td>\n",
              "      <td>-0.073725</td>\n",
              "      <td>0.000000</td>\n",
              "      <td>-0.081705</td>\n",
              "      <td>0.000000</td>\n",
              "      <td>-0.225690</td>\n",
              "      <td>0.000000</td>\n",
              "      <td>-0.234670</td>\n",
              "      <td>0.000000</td>\n",
              "      <td>-0.243870</td>\n",
              "      <td>0.000000</td>\n",
              "      <td>-0.366885</td>\n",
              "      <td>0.000000</td>\n",
              "      <td>-0.332390</td>\n",
              "      <td>0.286435</td>\n",
              "      <td>-0.443165</td>\n",
              "      <td>0.000000</td>\n",
              "      <td>-0.236885</td>\n",
              "      <td>0.000000</td>\n",
              "      <td>-0.242595</td>\n",
              "      <td>0.000000</td>\n",
              "      <td>-0.165350</td>\n",
              "    </tr>\n",
              "    <tr>\n",
              "      <th>50%</th>\n",
              "      <td>1.000000</td>\n",
              "      <td>0.0</td>\n",
              "      <td>0.871110</td>\n",
              "      <td>0.016310</td>\n",
              "      <td>0.809200</td>\n",
              "      <td>0.022800</td>\n",
              "      <td>0.728730</td>\n",
              "      <td>0.014710</td>\n",
              "      <td>0.684210</td>\n",
              "      <td>0.018290</td>\n",
              "      <td>0.667980</td>\n",
              "      <td>0.028250</td>\n",
              "      <td>0.644070</td>\n",
              "      <td>0.030270</td>\n",
              "      <td>0.601940</td>\n",
              "      <td>0.000000</td>\n",
              "      <td>0.590910</td>\n",
              "      <td>0.000000</td>\n",
              "      <td>0.576190</td>\n",
              "      <td>0.000000</td>\n",
              "      <td>0.499090</td>\n",
              "      <td>0.000000</td>\n",
              "      <td>0.531760</td>\n",
              "      <td>0.000000</td>\n",
              "      <td>0.553890</td>\n",
              "      <td>-0.015050</td>\n",
              "      <td>0.708240</td>\n",
              "      <td>-0.017690</td>\n",
              "      <td>0.496640</td>\n",
              "      <td>0.000000</td>\n",
              "      <td>0.442770</td>\n",
              "      <td>0.000000</td>\n",
              "      <td>0.409560</td>\n",
              "      <td>0.000000</td>\n",
              "    </tr>\n",
              "    <tr>\n",
              "      <th>75%</th>\n",
              "      <td>1.000000</td>\n",
              "      <td>0.0</td>\n",
              "      <td>1.000000</td>\n",
              "      <td>0.194185</td>\n",
              "      <td>1.000000</td>\n",
              "      <td>0.334655</td>\n",
              "      <td>0.969240</td>\n",
              "      <td>0.445675</td>\n",
              "      <td>0.953240</td>\n",
              "      <td>0.534195</td>\n",
              "      <td>0.957895</td>\n",
              "      <td>0.482375</td>\n",
              "      <td>0.955505</td>\n",
              "      <td>0.374860</td>\n",
              "      <td>0.919330</td>\n",
              "      <td>0.308975</td>\n",
              "      <td>0.935705</td>\n",
              "      <td>0.195285</td>\n",
              "      <td>0.899265</td>\n",
              "      <td>0.134370</td>\n",
              "      <td>0.894865</td>\n",
              "      <td>0.188760</td>\n",
              "      <td>0.911235</td>\n",
              "      <td>0.164630</td>\n",
              "      <td>0.905240</td>\n",
              "      <td>0.156765</td>\n",
              "      <td>0.999945</td>\n",
              "      <td>0.153535</td>\n",
              "      <td>0.883465</td>\n",
              "      <td>0.154075</td>\n",
              "      <td>0.857620</td>\n",
              "      <td>0.200120</td>\n",
              "      <td>0.813765</td>\n",
              "      <td>0.171660</td>\n",
              "    </tr>\n",
              "    <tr>\n",
              "      <th>max</th>\n",
              "      <td>1.000000</td>\n",
              "      <td>0.0</td>\n",
              "      <td>1.000000</td>\n",
              "      <td>1.000000</td>\n",
              "      <td>1.000000</td>\n",
              "      <td>1.000000</td>\n",
              "      <td>1.000000</td>\n",
              "      <td>1.000000</td>\n",
              "      <td>1.000000</td>\n",
              "      <td>1.000000</td>\n",
              "      <td>1.000000</td>\n",
              "      <td>1.000000</td>\n",
              "      <td>1.000000</td>\n",
              "      <td>1.000000</td>\n",
              "      <td>1.000000</td>\n",
              "      <td>1.000000</td>\n",
              "      <td>1.000000</td>\n",
              "      <td>1.000000</td>\n",
              "      <td>1.000000</td>\n",
              "      <td>1.000000</td>\n",
              "      <td>1.000000</td>\n",
              "      <td>1.000000</td>\n",
              "      <td>1.000000</td>\n",
              "      <td>1.000000</td>\n",
              "      <td>1.000000</td>\n",
              "      <td>1.000000</td>\n",
              "      <td>1.000000</td>\n",
              "      <td>1.000000</td>\n",
              "      <td>1.000000</td>\n",
              "      <td>1.000000</td>\n",
              "      <td>1.000000</td>\n",
              "      <td>1.000000</td>\n",
              "      <td>1.000000</td>\n",
              "      <td>1.000000</td>\n",
              "    </tr>\n",
              "  </tbody>\n",
              "</table>\n",
              "</div>"
            ],
            "text/plain": [
              "               V1     V2          V3  ...         V32         V33         V34\n",
              "count  351.000000  351.0  351.000000  ...  351.000000  351.000000  351.000000\n",
              "mean     0.891738    0.0    0.641342  ...   -0.003794    0.349364    0.014480\n",
              "std      0.311155    0.0    0.497708  ...    0.513574    0.522663    0.468337\n",
              "min      0.000000    0.0   -1.000000  ...   -1.000000   -1.000000   -1.000000\n",
              "25%      1.000000    0.0    0.472135  ...   -0.242595    0.000000   -0.165350\n",
              "50%      1.000000    0.0    0.871110  ...    0.000000    0.409560    0.000000\n",
              "75%      1.000000    0.0    1.000000  ...    0.200120    0.813765    0.171660\n",
              "max      1.000000    0.0    1.000000  ...    1.000000    1.000000    1.000000\n",
              "\n",
              "[8 rows x 34 columns]"
            ]
          },
          "metadata": {},
          "execution_count": 4
        }
      ]
    },
    {
      "cell_type": "code",
      "metadata": {
        "colab": {
          "base_uri": "https://localhost:8080/"
        },
        "id": "BfezVT529mAt",
        "outputId": "ae5abd73-1f74-4772-9e7b-beaa696434a5"
      },
      "source": [
        "ion.info()"
      ],
      "id": "BfezVT529mAt",
      "execution_count": null,
      "outputs": [
        {
          "output_type": "stream",
          "name": "stdout",
          "text": [
            "<class 'pandas.core.frame.DataFrame'>\n",
            "Int64Index: 351 entries, 1 to 351\n",
            "Data columns (total 35 columns):\n",
            " #   Column  Non-Null Count  Dtype  \n",
            "---  ------  --------------  -----  \n",
            " 0   V1      351 non-null    int64  \n",
            " 1   V2      351 non-null    int64  \n",
            " 2   V3      351 non-null    float64\n",
            " 3   V4      351 non-null    float64\n",
            " 4   V5      351 non-null    float64\n",
            " 5   V6      351 non-null    float64\n",
            " 6   V7      351 non-null    float64\n",
            " 7   V8      351 non-null    float64\n",
            " 8   V9      351 non-null    float64\n",
            " 9   V10     351 non-null    float64\n",
            " 10  V11     351 non-null    float64\n",
            " 11  V12     351 non-null    float64\n",
            " 12  V13     351 non-null    float64\n",
            " 13  V14     351 non-null    float64\n",
            " 14  V15     351 non-null    float64\n",
            " 15  V16     351 non-null    float64\n",
            " 16  V17     351 non-null    float64\n",
            " 17  V18     351 non-null    float64\n",
            " 18  V19     351 non-null    float64\n",
            " 19  V20     351 non-null    float64\n",
            " 20  V21     351 non-null    float64\n",
            " 21  V22     351 non-null    float64\n",
            " 22  V23     351 non-null    float64\n",
            " 23  V24     351 non-null    float64\n",
            " 24  V25     351 non-null    float64\n",
            " 25  V26     351 non-null    float64\n",
            " 26  V27     351 non-null    float64\n",
            " 27  V28     351 non-null    float64\n",
            " 28  V29     351 non-null    float64\n",
            " 29  V30     351 non-null    float64\n",
            " 30  V31     351 non-null    float64\n",
            " 31  V32     351 non-null    float64\n",
            " 32  V33     351 non-null    float64\n",
            " 33  V34     351 non-null    float64\n",
            " 34  Class   351 non-null    object \n",
            "dtypes: float64(32), int64(2), object(1)\n",
            "memory usage: 98.7+ KB\n"
          ]
        }
      ]
    },
    {
      "cell_type": "markdown",
      "metadata": {
        "id": "8NXpKs0N9xCP"
      },
      "source": [
        "Quebrando a tabela em 70% para treinamento e 30% para validacao"
      ],
      "id": "8NXpKs0N9xCP"
    },
    {
      "cell_type": "code",
      "metadata": {
        "id": "Ga_Iqg_e689J"
      },
      "source": [
        "df = ion.copy()\n",
        "df['Class'] = df['Class'].map({'good': 0, 'bad': 1})\n",
        "\n",
        "df_train = df.sample(frac=0.7, random_state=0)\n",
        "df_valid = df.drop(df_train.index)"
      ],
      "id": "Ga_Iqg_e689J",
      "execution_count": null,
      "outputs": []
    },
    {
      "cell_type": "markdown",
      "metadata": {
        "id": "7PBUsUti92ZD"
      },
      "source": [
        "Limpando os dados"
      ],
      "id": "7PBUsUti92ZD"
    },
    {
      "cell_type": "code",
      "metadata": {
        "id": "Hf8YXNi48UxL"
      },
      "source": [
        "max_ = df_train.max(axis=0)\n",
        "min_ = df_train.min(axis=0)\n",
        "\n",
        "df_train = (df_train - min_) / (max_ - min_)\n",
        "df_valid = (df_valid - min_) / (max_ - min_)\n",
        "df_train.dropna(axis=1, inplace=True)\n",
        "df_valid.dropna(axis=1, inplace=True)"
      ],
      "id": "Hf8YXNi48UxL",
      "execution_count": null,
      "outputs": []
    },
    {
      "cell_type": "code",
      "metadata": {
        "id": "3jND5gru8YZE"
      },
      "source": [
        "X_train = df_train.drop('Class', axis=1)\n",
        "x_val = df_valid.drop('Class', axis=1)\n",
        "y_train = df_train['Class']\n",
        "y_val = df_valid['Class']"
      ],
      "id": "3jND5gru8YZE",
      "execution_count": null,
      "outputs": []
    },
    {
      "cell_type": "code",
      "metadata": {
        "colab": {
          "base_uri": "https://localhost:8080/"
        },
        "id": "--SZPzzAt0k8",
        "outputId": "ba8b4946-5c92-4a7f-9b98-ff0c99a4a511"
      },
      "source": [
        "X_train.values.tolist()\n",
        "X_train.values"
      ],
      "id": "--SZPzzAt0k8",
      "execution_count": null,
      "outputs": [
        {
          "output_type": "execute_result",
          "data": {
            "text/plain": [
              "array([[1.      , 0.98794 , 0.44699 , ..., 0.09341 , 0.43084 , 0.095125],\n",
              "       [1.      , 1.      , 1.      , ..., 0.32657 , 1.      , 0.674225],\n",
              "       [1.      , 0.956765, 0.90793 , ..., 0.5     , 0.5     , 0.5     ],\n",
              "       ...,\n",
              "       [1.      , 1.      , 0.5369  , ..., 0.66246 , 1.      , 0.73356 ],\n",
              "       [1.      , 0.86207 , 0.49458 , ..., 0.51478 , 0.895075, 0.50394 ],\n",
              "       [1.      , 0.92067 , 0.40819 , ..., 0.37147 , 0.966615, 0.492875]])"
            ]
          },
          "metadata": {},
          "execution_count": 16
        }
      ]
    },
    {
      "cell_type": "code",
      "metadata": {
        "id": "8Evg-un9sy0H"
      },
      "source": [
        "from torch.utils.data import TensorDataset, DataLoader\n",
        "import torch\n",
        "\n",
        "train_data = TensorDataset(torch.from_numpy(X_train.values), torch.from_numpy(y_train.values))\n",
        "valid_data = TensorDataset(torch.from_numpy(x_val.values), torch.from_numpy(y_val.values))\n",
        "train_loader = DataLoader(train_data, shuffle=True, batch_size=32, drop_last=True)\n",
        "valid_loader = DataLoader(valid_data, shuffle=True, batch_size=32, drop_last=True)"
      ],
      "id": "8Evg-un9sy0H",
      "execution_count": null,
      "outputs": []
    },
    {
      "cell_type": "code",
      "metadata": {
        "colab": {
          "base_uri": "https://localhost:8080/"
        },
        "id": "dihAgOKLtGbZ",
        "outputId": "03af6f34-e4af-41c4-810a-e3f5bb1ac359"
      },
      "source": [
        "len(train_data[0]), len(train_data[1])"
      ],
      "id": "dihAgOKLtGbZ",
      "execution_count": null,
      "outputs": [
        {
          "output_type": "execute_result",
          "data": {
            "text/plain": [
              "(2, 2)"
            ]
          },
          "metadata": {},
          "execution_count": 18
        }
      ]
    },
    {
      "cell_type": "markdown",
      "metadata": {
        "id": "iYi2QvHSuv0H"
      },
      "source": [
        "Criando modelo com Pytorch\n"
      ],
      "id": "iYi2QvHSuv0H"
    },
    {
      "cell_type": "code",
      "metadata": {
        "colab": {
          "base_uri": "https://localhost:8080/"
        },
        "id": "_SCNjU5Puuwe",
        "outputId": "13999509-f2e4-4143-d5f6-79ef69383a77"
      },
      "source": [
        "!pip install -q -U keras-tuner"
      ],
      "id": "_SCNjU5Puuwe",
      "execution_count": null,
      "outputs": [
        {
          "output_type": "stream",
          "name": "stdout",
          "text": [
            "\u001b[?25l\r\u001b[K     |███▍                            | 10 kB 22.0 MB/s eta 0:00:01\r\u001b[K     |██████▊                         | 20 kB 27.0 MB/s eta 0:00:01\r\u001b[K     |██████████                      | 30 kB 12.0 MB/s eta 0:00:01\r\u001b[K     |█████████████▍                  | 40 kB 9.2 MB/s eta 0:00:01\r\u001b[K     |████████████████▊               | 51 kB 4.9 MB/s eta 0:00:01\r\u001b[K     |████████████████████            | 61 kB 5.4 MB/s eta 0:00:01\r\u001b[K     |███████████████████████▍        | 71 kB 5.8 MB/s eta 0:00:01\r\u001b[K     |██████████████████████████▊     | 81 kB 6.5 MB/s eta 0:00:01\r\u001b[K     |██████████████████████████████▏ | 92 kB 6.5 MB/s eta 0:00:01\r\u001b[K     |████████████████████████████████| 97 kB 3.6 MB/s \n",
            "\u001b[?25h"
          ]
        }
      ]
    },
    {
      "cell_type": "code",
      "metadata": {
        "colab": {
          "base_uri": "https://localhost:8080/"
        },
        "id": "Isxn0HVnu1es",
        "outputId": "73c33043-20f6-4122-d703-65137c260f4f"
      },
      "source": [
        "import kerastuner as kt"
      ],
      "id": "Isxn0HVnu1es",
      "execution_count": null,
      "outputs": [
        {
          "output_type": "stream",
          "name": "stderr",
          "text": [
            "/usr/local/lib/python3.7/dist-packages/ipykernel_launcher.py:1: DeprecationWarning: `import kerastuner` is deprecated, please use `import keras_tuner`.\n",
            "  \"\"\"Entry point for launching an IPython kernel.\n"
          ]
        }
      ]
    },
    {
      "cell_type": "code",
      "metadata": {
        "id": "jsp0N2J3u2l2"
      },
      "source": [
        "def model_builder(hp):\n",
        " \n",
        "  model = keras.Sequential()\n",
        " \n",
        "  # Tune the number of units in the first Dense layer\n",
        "  # Choose an optimal value between 8-128\n",
        "  hp_units_1 = hp.Int('hp_units_1', min_value=32, max_value=512, step=32)\n",
        "  model.add(keras.layers.Dense(units=hp_units_1, activation='relu'))\n",
        "  \n",
        "  # Tune the number of hidden layers 2-10 and units per layer\n",
        "  for i in range(hp.Int('num_layers', 2, 6)):     \n",
        "    model.add(keras.layers.Dense(units=hp.Int('hp_units_' + str(i),\n",
        "                                            min_value=16,\n",
        "                                            max_value=256,\n",
        "                                            step=4),\n",
        "                               activation='relu'))\n",
        "\n",
        "  model.add(keras.layers.Dense(16, activation='relu'))\n",
        "  model.add(keras.layers.Dense(1, activation='sigmoid'))\n",
        "\n",
        "  model.compile(optimizer=tf.optimizers.Adam(), \n",
        "                loss='binary_crossentropy', \n",
        "                metrics=['accuracy'])\n",
        "  return model"
      ],
      "id": "jsp0N2J3u2l2",
      "execution_count": null,
      "outputs": []
    },
    {
      "cell_type": "code",
      "metadata": {
        "id": "T5FNi7KivIKk"
      },
      "source": [
        "tuner = kt.Hyperband(model_builder,\n",
        "                     objective='val_accuracy',\n",
        "                     max_epochs=50,\n",
        "                     factor=3,\n",
        "                     directory='mydir',\n",
        "                     project_name='nils1_dl_course')"
      ],
      "id": "T5FNi7KivIKk",
      "execution_count": null,
      "outputs": []
    },
    {
      "cell_type": "code",
      "metadata": {
        "id": "Mfjg5Ho_vLid"
      },
      "source": [
        "stop_early = tf.keras.callbacks.EarlyStopping(monitor='val_loss', patience=5)"
      ],
      "id": "Mfjg5Ho_vLid",
      "execution_count": null,
      "outputs": []
    },
    {
      "cell_type": "code",
      "metadata": {
        "colab": {
          "base_uri": "https://localhost:8080/"
        },
        "id": "fEglWLGEvMJu",
        "outputId": "5a0190d0-6cff-4fc1-fab7-49a659a4fd8c"
      },
      "source": [
        "\n",
        "tuner.search(X_train, y_train,\n",
        "             validation_data=(X_valid, y_valid),\n",
        "             batch_size=512,\n",
        "             epochs=40,\n",
        "             verbose=1,\n",
        "             callbacks=[stop_early])\n",
        "\n"
      ],
      "id": "fEglWLGEvMJu",
      "execution_count": null,
      "outputs": [
        {
          "output_type": "stream",
          "name": "stdout",
          "text": [
            "Trial 128 Complete [00h 00m 04s]\n",
            "val_accuracy: 0.9523809552192688\n",
            "\n",
            "Best val_accuracy So Far: 1.0\n",
            "Total elapsed time: 00h 15m 14s\n",
            "INFO:tensorflow:Oracle triggered exit\n"
          ]
        },
        {
          "output_type": "stream",
          "name": "stderr",
          "text": [
            "INFO:tensorflow:Oracle triggered exit\n"
          ]
        }
      ]
    },
    {
      "cell_type": "code",
      "metadata": {
        "id": "K59i72qsvPRM"
      },
      "source": [
        "# Get the optimal hyperparameters\n",
        "best_hps=tuner.get_best_hyperparameters(num_trials=1)[0]"
      ],
      "id": "K59i72qsvPRM",
      "execution_count": null,
      "outputs": []
    },
    {
      "cell_type": "code",
      "metadata": {
        "colab": {
          "base_uri": "https://localhost:8080/"
        },
        "id": "EDQANNVovQtF",
        "outputId": "3ab4ebfa-5fd5-48ab-ea43-75a94b4dd36a"
      },
      "source": [
        "\n",
        "print('Best layers units: \\n')\n",
        "for i in range(2,6):\n",
        "  print('Layer: ', i-1, ' , ', best_hps.get('hp_units_' + str(i)), ' units')"
      ],
      "id": "EDQANNVovQtF",
      "execution_count": null,
      "outputs": [
        {
          "output_type": "stream",
          "name": "stdout",
          "text": [
            "Best layers units: \n",
            "\n",
            "Layer:  1  ,  36  units\n",
            "Layer:  2  ,  200  units\n",
            "Layer:  3  ,  208  units\n",
            "Layer:  4  ,  140  units\n"
          ]
        }
      ]
    },
    {
      "cell_type": "code",
      "metadata": {
        "colab": {
          "base_uri": "https://localhost:8080/"
        },
        "id": "DtO3PUCMvRJv",
        "outputId": "50938c15-1d2e-4c68-9df3-b1aa42feee1d"
      },
      "source": [
        "# Build the model with the optimal hyperparameters and train it on the data for 50 epochs\n",
        "model = tuner.hypermodel.build(best_hps)\n",
        "\n",
        "history = model.fit(X_train, y_train, \n",
        "                    batch_size=512,\n",
        "                    epochs=40, \n",
        "                    validation_split=0.2,\n",
        "                    verbose=1)\n",
        "\n",
        "val_acc_per_epoch = history.history['val_accuracy']\n",
        "best_epoch = val_acc_per_epoch.index(max(val_acc_per_epoch)) + 1\n",
        "print('Best epoch: %d' % (best_epoch,))\n"
      ],
      "id": "DtO3PUCMvRJv",
      "execution_count": null,
      "outputs": [
        {
          "output_type": "stream",
          "name": "stdout",
          "text": [
            "Epoch 1/40\n",
            "1/1 [==============================] - 1s 1s/step - loss: 0.6932 - accuracy: 0.5612 - val_loss: 0.6835 - val_accuracy: 0.6400\n",
            "Epoch 2/40\n",
            "1/1 [==============================] - 0s 34ms/step - loss: 0.6866 - accuracy: 0.5816 - val_loss: 0.6676 - val_accuracy: 0.6400\n",
            "Epoch 3/40\n",
            "1/1 [==============================] - 0s 34ms/step - loss: 0.6767 - accuracy: 0.5816 - val_loss: 0.6430 - val_accuracy: 0.6400\n",
            "Epoch 4/40\n",
            "1/1 [==============================] - 0s 39ms/step - loss: 0.6622 - accuracy: 0.5816 - val_loss: 0.6193 - val_accuracy: 0.6400\n",
            "Epoch 5/40\n",
            "1/1 [==============================] - 0s 41ms/step - loss: 0.6499 - accuracy: 0.5816 - val_loss: 0.5979 - val_accuracy: 0.6400\n",
            "Epoch 6/40\n",
            "1/1 [==============================] - 0s 44ms/step - loss: 0.6396 - accuracy: 0.5816 - val_loss: 0.5812 - val_accuracy: 0.6400\n",
            "Epoch 7/40\n",
            "1/1 [==============================] - 0s 40ms/step - loss: 0.6249 - accuracy: 0.5816 - val_loss: 0.5630 - val_accuracy: 0.6400\n",
            "Epoch 8/40\n",
            "1/1 [==============================] - 0s 38ms/step - loss: 0.6060 - accuracy: 0.5816 - val_loss: 0.5306 - val_accuracy: 0.6400\n",
            "Epoch 9/40\n",
            "1/1 [==============================] - 0s 36ms/step - loss: 0.5806 - accuracy: 0.5816 - val_loss: 0.4994 - val_accuracy: 0.6600\n",
            "Epoch 10/40\n",
            "1/1 [==============================] - 0s 35ms/step - loss: 0.5541 - accuracy: 0.6122 - val_loss: 0.4735 - val_accuracy: 0.8000\n",
            "Epoch 11/40\n",
            "1/1 [==============================] - 0s 38ms/step - loss: 0.5255 - accuracy: 0.7755 - val_loss: 0.4306 - val_accuracy: 0.8200\n",
            "Epoch 12/40\n",
            "1/1 [==============================] - 0s 38ms/step - loss: 0.4959 - accuracy: 0.7857 - val_loss: 0.4128 - val_accuracy: 0.9400\n",
            "Epoch 13/40\n",
            "1/1 [==============================] - 0s 48ms/step - loss: 0.4668 - accuracy: 0.8724 - val_loss: 0.3536 - val_accuracy: 0.8800\n",
            "Epoch 14/40\n",
            "1/1 [==============================] - 0s 39ms/step - loss: 0.4289 - accuracy: 0.8367 - val_loss: 0.3249 - val_accuracy: 0.9600\n",
            "Epoch 15/40\n",
            "1/1 [==============================] - 0s 42ms/step - loss: 0.3853 - accuracy: 0.9082 - val_loss: 0.2664 - val_accuracy: 0.9400\n",
            "Epoch 16/40\n",
            "1/1 [==============================] - 0s 45ms/step - loss: 0.3395 - accuracy: 0.8929 - val_loss: 0.2496 - val_accuracy: 0.9800\n",
            "Epoch 17/40\n",
            "1/1 [==============================] - 0s 39ms/step - loss: 0.3044 - accuracy: 0.9490 - val_loss: 0.2269 - val_accuracy: 0.9200\n",
            "Epoch 18/40\n",
            "1/1 [==============================] - 0s 44ms/step - loss: 0.3327 - accuracy: 0.8776 - val_loss: 0.2532 - val_accuracy: 0.9800\n",
            "Epoch 19/40\n",
            "1/1 [==============================] - 0s 42ms/step - loss: 0.2815 - accuracy: 0.9286 - val_loss: 0.1395 - val_accuracy: 0.9600\n",
            "Epoch 20/40\n",
            "1/1 [==============================] - 0s 37ms/step - loss: 0.2142 - accuracy: 0.9286 - val_loss: 0.1251 - val_accuracy: 0.9600\n",
            "Epoch 21/40\n",
            "1/1 [==============================] - 0s 36ms/step - loss: 0.2050 - accuracy: 0.9235 - val_loss: 0.1679 - val_accuracy: 0.9800\n",
            "Epoch 22/40\n",
            "1/1 [==============================] - 0s 38ms/step - loss: 0.1940 - accuracy: 0.9439 - val_loss: 0.0957 - val_accuracy: 0.9800\n",
            "Epoch 23/40\n",
            "1/1 [==============================] - 0s 39ms/step - loss: 0.1566 - accuracy: 0.9541 - val_loss: 0.0860 - val_accuracy: 0.9800\n",
            "Epoch 24/40\n",
            "1/1 [==============================] - 0s 50ms/step - loss: 0.1487 - accuracy: 0.9541 - val_loss: 0.1444 - val_accuracy: 0.9600\n",
            "Epoch 25/40\n",
            "1/1 [==============================] - 0s 45ms/step - loss: 0.1524 - accuracy: 0.9541 - val_loss: 0.0767 - val_accuracy: 0.9800\n",
            "Epoch 26/40\n",
            "1/1 [==============================] - 0s 45ms/step - loss: 0.1458 - accuracy: 0.9490 - val_loss: 0.0777 - val_accuracy: 0.9600\n",
            "Epoch 27/40\n",
            "1/1 [==============================] - 0s 40ms/step - loss: 0.1112 - accuracy: 0.9694 - val_loss: 0.2000 - val_accuracy: 0.9600\n",
            "Epoch 28/40\n",
            "1/1 [==============================] - 0s 42ms/step - loss: 0.1606 - accuracy: 0.9388 - val_loss: 0.1083 - val_accuracy: 0.9600\n",
            "Epoch 29/40\n",
            "1/1 [==============================] - 0s 44ms/step - loss: 0.2175 - accuracy: 0.9184 - val_loss: 0.0770 - val_accuracy: 0.9800\n",
            "Epoch 30/40\n",
            "1/1 [==============================] - 0s 44ms/step - loss: 0.1558 - accuracy: 0.9439 - val_loss: 0.2569 - val_accuracy: 0.9200\n",
            "Epoch 31/40\n",
            "1/1 [==============================] - 0s 43ms/step - loss: 0.1913 - accuracy: 0.9184 - val_loss: 0.0638 - val_accuracy: 0.9600\n",
            "Epoch 32/40\n",
            "1/1 [==============================] - 0s 43ms/step - loss: 0.0988 - accuracy: 0.9694 - val_loss: 0.0720 - val_accuracy: 0.9800\n",
            "Epoch 33/40\n",
            "1/1 [==============================] - 0s 39ms/step - loss: 0.1473 - accuracy: 0.9439 - val_loss: 0.0616 - val_accuracy: 0.9600\n",
            "Epoch 34/40\n",
            "1/1 [==============================] - 0s 45ms/step - loss: 0.0944 - accuracy: 0.9745 - val_loss: 0.1995 - val_accuracy: 0.9400\n",
            "Epoch 35/40\n",
            "1/1 [==============================] - 0s 45ms/step - loss: 0.1293 - accuracy: 0.9490 - val_loss: 0.0921 - val_accuracy: 0.9600\n",
            "Epoch 36/40\n",
            "1/1 [==============================] - 0s 41ms/step - loss: 0.0812 - accuracy: 0.9796 - val_loss: 0.0592 - val_accuracy: 0.9800\n",
            "Epoch 37/40\n",
            "1/1 [==============================] - 0s 39ms/step - loss: 0.0980 - accuracy: 0.9694 - val_loss: 0.0603 - val_accuracy: 0.9600\n",
            "Epoch 38/40\n",
            "1/1 [==============================] - 0s 39ms/step - loss: 0.0878 - accuracy: 0.9796 - val_loss: 0.1122 - val_accuracy: 0.9600\n",
            "Epoch 39/40\n",
            "1/1 [==============================] - 0s 43ms/step - loss: 0.0768 - accuracy: 0.9796 - val_loss: 0.1511 - val_accuracy: 0.9400\n",
            "Epoch 40/40\n",
            "1/1 [==============================] - 0s 40ms/step - loss: 0.0884 - accuracy: 0.9643 - val_loss: 0.0650 - val_accuracy: 0.9600\n",
            "Best epoch: 16\n"
          ]
        }
      ]
    },
    {
      "cell_type": "code",
      "metadata": {
        "colab": {
          "base_uri": "https://localhost:8080/"
        },
        "id": "2IIlYH7hvUM0",
        "outputId": "2d99fe9b-1209-4340-fe44-e09fdce61bb0"
      },
      "source": [
        "hypermodel = tuner.hypermodel.build(best_hps)\n",
        "\n",
        "# Retrain the model\n",
        "hypermodel.fit(X_train, y_train, \n",
        "               batch_size=64,\n",
        "               epochs=best_epoch,\n",
        "               validation_split=0.2)"
      ],
      "id": "2IIlYH7hvUM0",
      "execution_count": null,
      "outputs": [
        {
          "output_type": "stream",
          "name": "stdout",
          "text": [
            "Epoch 1/16\n",
            "4/4 [==============================] - 1s 85ms/step - loss: 0.6854 - accuracy: 0.5816 - val_loss: 0.6270 - val_accuracy: 0.6400\n",
            "Epoch 2/16\n",
            "4/4 [==============================] - 0s 13ms/step - loss: 0.6497 - accuracy: 0.5816 - val_loss: 0.5846 - val_accuracy: 0.6400\n",
            "Epoch 3/16\n",
            "4/4 [==============================] - 0s 14ms/step - loss: 0.6159 - accuracy: 0.5816 - val_loss: 0.5201 - val_accuracy: 0.6400\n",
            "Epoch 4/16\n",
            "4/4 [==============================] - 0s 13ms/step - loss: 0.5541 - accuracy: 0.6327 - val_loss: 0.5062 - val_accuracy: 0.9400\n",
            "Epoch 5/16\n",
            "4/4 [==============================] - 0s 12ms/step - loss: 0.5009 - accuracy: 0.8367 - val_loss: 0.3766 - val_accuracy: 0.9400\n",
            "Epoch 6/16\n",
            "4/4 [==============================] - 0s 12ms/step - loss: 0.5070 - accuracy: 0.8214 - val_loss: 0.3596 - val_accuracy: 0.9400\n",
            "Epoch 7/16\n",
            "4/4 [==============================] - 0s 14ms/step - loss: 0.4223 - accuracy: 0.8469 - val_loss: 0.2906 - val_accuracy: 0.9000\n",
            "Epoch 8/16\n",
            "4/4 [==============================] - 0s 14ms/step - loss: 0.3750 - accuracy: 0.8316 - val_loss: 0.2909 - val_accuracy: 0.9600\n",
            "Epoch 9/16\n",
            "4/4 [==============================] - 0s 14ms/step - loss: 0.3114 - accuracy: 0.9031 - val_loss: 0.2053 - val_accuracy: 0.9600\n",
            "Epoch 10/16\n",
            "4/4 [==============================] - 0s 15ms/step - loss: 0.2857 - accuracy: 0.8980 - val_loss: 0.3606 - val_accuracy: 0.8400\n",
            "Epoch 11/16\n",
            "4/4 [==============================] - 0s 17ms/step - loss: 0.5696 - accuracy: 0.7908 - val_loss: 0.1352 - val_accuracy: 0.9800\n",
            "Epoch 12/16\n",
            "4/4 [==============================] - 0s 13ms/step - loss: 0.2560 - accuracy: 0.8980 - val_loss: 0.1191 - val_accuracy: 0.9600\n",
            "Epoch 13/16\n",
            "4/4 [==============================] - 0s 14ms/step - loss: 0.2285 - accuracy: 0.9031 - val_loss: 0.1236 - val_accuracy: 0.9800\n",
            "Epoch 14/16\n",
            "4/4 [==============================] - 0s 16ms/step - loss: 0.3397 - accuracy: 0.8571 - val_loss: 0.1285 - val_accuracy: 0.9600\n",
            "Epoch 15/16\n",
            "4/4 [==============================] - 0s 14ms/step - loss: 0.2353 - accuracy: 0.9031 - val_loss: 0.1837 - val_accuracy: 0.9200\n",
            "Epoch 16/16\n",
            "4/4 [==============================] - 0s 14ms/step - loss: 0.2224 - accuracy: 0.8980 - val_loss: 0.2121 - val_accuracy: 0.9200\n"
          ]
        },
        {
          "output_type": "execute_result",
          "data": {
            "text/plain": [
              "<keras.callbacks.History at 0x7f4858076c90>"
            ]
          },
          "metadata": {},
          "execution_count": 50
        }
      ]
    },
    {
      "cell_type": "code",
      "metadata": {
        "colab": {
          "base_uri": "https://localhost:8080/"
        },
        "id": "BPbEChpwvVoN",
        "outputId": "50e939ed-f60c-4e5e-dee0-deaa5e4443e1"
      },
      "source": [
        "eval_result = hypermodel.evaluate(X_train, y_train)\n",
        "print(\"[test loss, test accuracy]:\", eval_result)"
      ],
      "id": "BPbEChpwvVoN",
      "execution_count": null,
      "outputs": [
        {
          "output_type": "stream",
          "name": "stdout",
          "text": [
            "8/8 [==============================] - 0s 2ms/step - loss: 0.2064 - accuracy: 0.9309\n",
            "[test loss, test accuracy]: [0.20638971030712128, 0.9308943152427673]\n"
          ]
        }
      ]
    }
  ]
}