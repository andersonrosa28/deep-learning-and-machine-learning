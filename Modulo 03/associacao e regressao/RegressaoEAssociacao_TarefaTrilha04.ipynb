{
  "nbformat": 4,
  "nbformat_minor": 0,
  "metadata": {
    "colab": {
      "name": "RegressaoEAssociacao-TarefaTrilha04.ipynb",
      "provenance": []
    },
    "kernelspec": {
      "name": "python3",
      "display_name": "Python 3"
    },
    "language_info": {
      "name": "python"
    }
  },
  "cells": [
    {
      "cell_type": "markdown",
      "metadata": {
        "id": "ltsheOBrH57k"
      },
      "source": [
        "## Tarefa Associação e Regressão tilha 04\n",
        "\n",
        "Anderson rosa cascalho"
      ]
    },
    {
      "cell_type": "code",
      "metadata": {
        "id": "oHk-T2mSHLNC"
      },
      "source": [
        "import pandas as pd \n",
        "import numpy as np\n",
        "import matplotlib.pyplot as plt\n",
        "%matplotlib inline"
      ],
      "execution_count": null,
      "outputs": []
    },
    {
      "cell_type": "markdown",
      "metadata": {
        "id": "Q89NZzEsHb7Z"
      },
      "source": [
        "## Analise exploratória dos dados"
      ]
    },
    {
      "cell_type": "code",
      "metadata": {
        "id": "0WS8VhpbHiCT"
      },
      "source": [
        "data = {\n",
        "    'Idade': [16,25,39,45,49,64,70], \n",
        "    'PressaoSistolica': [109,122,143,132,199,185,199]\n",
        "}\n",
        "\n",
        "dataFrame = pd.DataFrame(data)"
      ],
      "execution_count": null,
      "outputs": []
    },
    {
      "cell_type": "code",
      "metadata": {
        "colab": {
          "base_uri": "https://localhost:8080/"
        },
        "id": "X3iWlWyWJPrI",
        "outputId": "bcc2ede1-d1bc-4ed1-9b10-9a960b323a5c"
      },
      "source": [
        "dataFrame.shape"
      ],
      "execution_count": null,
      "outputs": [
        {
          "output_type": "execute_result",
          "data": {
            "text/plain": [
              "(7, 2)"
            ]
          },
          "metadata": {},
          "execution_count": 4
        }
      ]
    },
    {
      "cell_type": "code",
      "metadata": {
        "colab": {
          "base_uri": "https://localhost:8080/",
          "height": 266
        },
        "id": "l6hnYdalJZ8P",
        "outputId": "8c1bb87e-cf78-4e05-c925-d73a9571fdde"
      },
      "source": [
        "dataFrame.head(7)"
      ],
      "execution_count": null,
      "outputs": [
        {
          "output_type": "execute_result",
          "data": {
            "text/html": [
              "<div>\n",
              "<style scoped>\n",
              "    .dataframe tbody tr th:only-of-type {\n",
              "        vertical-align: middle;\n",
              "    }\n",
              "\n",
              "    .dataframe tbody tr th {\n",
              "        vertical-align: top;\n",
              "    }\n",
              "\n",
              "    .dataframe thead th {\n",
              "        text-align: right;\n",
              "    }\n",
              "</style>\n",
              "<table border=\"1\" class=\"dataframe\">\n",
              "  <thead>\n",
              "    <tr style=\"text-align: right;\">\n",
              "      <th></th>\n",
              "      <th>Idade</th>\n",
              "      <th>PressaoSistolica</th>\n",
              "    </tr>\n",
              "  </thead>\n",
              "  <tbody>\n",
              "    <tr>\n",
              "      <th>0</th>\n",
              "      <td>16</td>\n",
              "      <td>109</td>\n",
              "    </tr>\n",
              "    <tr>\n",
              "      <th>1</th>\n",
              "      <td>25</td>\n",
              "      <td>122</td>\n",
              "    </tr>\n",
              "    <tr>\n",
              "      <th>2</th>\n",
              "      <td>39</td>\n",
              "      <td>143</td>\n",
              "    </tr>\n",
              "    <tr>\n",
              "      <th>3</th>\n",
              "      <td>45</td>\n",
              "      <td>132</td>\n",
              "    </tr>\n",
              "    <tr>\n",
              "      <th>4</th>\n",
              "      <td>49</td>\n",
              "      <td>199</td>\n",
              "    </tr>\n",
              "    <tr>\n",
              "      <th>5</th>\n",
              "      <td>64</td>\n",
              "      <td>185</td>\n",
              "    </tr>\n",
              "    <tr>\n",
              "      <th>6</th>\n",
              "      <td>70</td>\n",
              "      <td>199</td>\n",
              "    </tr>\n",
              "  </tbody>\n",
              "</table>\n",
              "</div>"
            ],
            "text/plain": [
              "   Idade  PressaoSistolica\n",
              "0     16               109\n",
              "1     25               122\n",
              "2     39               143\n",
              "3     45               132\n",
              "4     49               199\n",
              "5     64               185\n",
              "6     70               199"
            ]
          },
          "metadata": {},
          "execution_count": 6
        }
      ]
    },
    {
      "cell_type": "code",
      "metadata": {
        "colab": {
          "base_uri": "https://localhost:8080/",
          "height": 297
        },
        "id": "iEU6_8loJgBI",
        "outputId": "e28b79e2-82d7-4f45-d41d-e5df2a7d17a0"
      },
      "source": [
        "dataFrame.describe()"
      ],
      "execution_count": null,
      "outputs": [
        {
          "output_type": "execute_result",
          "data": {
            "text/html": [
              "<div>\n",
              "<style scoped>\n",
              "    .dataframe tbody tr th:only-of-type {\n",
              "        vertical-align: middle;\n",
              "    }\n",
              "\n",
              "    .dataframe tbody tr th {\n",
              "        vertical-align: top;\n",
              "    }\n",
              "\n",
              "    .dataframe thead th {\n",
              "        text-align: right;\n",
              "    }\n",
              "</style>\n",
              "<table border=\"1\" class=\"dataframe\">\n",
              "  <thead>\n",
              "    <tr style=\"text-align: right;\">\n",
              "      <th></th>\n",
              "      <th>Idade</th>\n",
              "      <th>PressaoSistolica</th>\n",
              "    </tr>\n",
              "  </thead>\n",
              "  <tbody>\n",
              "    <tr>\n",
              "      <th>count</th>\n",
              "      <td>7.000000</td>\n",
              "      <td>7.000000</td>\n",
              "    </tr>\n",
              "    <tr>\n",
              "      <th>mean</th>\n",
              "      <td>44.000000</td>\n",
              "      <td>155.571429</td>\n",
              "    </tr>\n",
              "    <tr>\n",
              "      <th>std</th>\n",
              "      <td>19.459359</td>\n",
              "      <td>37.964269</td>\n",
              "    </tr>\n",
              "    <tr>\n",
              "      <th>min</th>\n",
              "      <td>16.000000</td>\n",
              "      <td>109.000000</td>\n",
              "    </tr>\n",
              "    <tr>\n",
              "      <th>25%</th>\n",
              "      <td>32.000000</td>\n",
              "      <td>127.000000</td>\n",
              "    </tr>\n",
              "    <tr>\n",
              "      <th>50%</th>\n",
              "      <td>45.000000</td>\n",
              "      <td>143.000000</td>\n",
              "    </tr>\n",
              "    <tr>\n",
              "      <th>75%</th>\n",
              "      <td>56.500000</td>\n",
              "      <td>192.000000</td>\n",
              "    </tr>\n",
              "    <tr>\n",
              "      <th>max</th>\n",
              "      <td>70.000000</td>\n",
              "      <td>199.000000</td>\n",
              "    </tr>\n",
              "  </tbody>\n",
              "</table>\n",
              "</div>"
            ],
            "text/plain": [
              "           Idade  PressaoSistolica\n",
              "count   7.000000          7.000000\n",
              "mean   44.000000        155.571429\n",
              "std    19.459359         37.964269\n",
              "min    16.000000        109.000000\n",
              "25%    32.000000        127.000000\n",
              "50%    45.000000        143.000000\n",
              "75%    56.500000        192.000000\n",
              "max    70.000000        199.000000"
            ]
          },
          "metadata": {},
          "execution_count": 7
        }
      ]
    },
    {
      "cell_type": "markdown",
      "metadata": {
        "id": "rnKePphwHiYM"
      },
      "source": [
        "## Gráfico de dispersão dos dados"
      ]
    },
    {
      "cell_type": "code",
      "metadata": {
        "colab": {
          "base_uri": "https://localhost:8080/",
          "height": 295
        },
        "id": "sUf1dAwMJhqP",
        "outputId": "09d619af-ed78-4bd8-8368-320f255ddd10"
      },
      "source": [
        "dataFrame.plot(x='Idade', y='PressaoSistolica', style='o')\n",
        "plt.title('Idade vs Pressão sistólica')\n",
        "plt.xlabel('Idade')\n",
        "plt.ylabel('Pressão sistólica')\n",
        "plt.show()"
      ],
      "execution_count": null,
      "outputs": [
        {
          "output_type": "display_data",
          "data": {
            "image/png": "[encoded data removed]",
            "text/plain": [
              "<Figure size 432x288 with 1 Axes>"
            ]
          },
          "metadata": {
            "needs_background": "light"
          }
        }
      ]
    },
    {
      "cell_type": "markdown",
      "metadata": {
        "id": "45ZJJRTkHnG7"
      },
      "source": [
        "## Quais foram suas observações? Há correlação entre os dados?\n"
      ]
    },
    {
      "cell_type": "code",
      "metadata": {
        "colab": {
          "base_uri": "https://localhost:8080/"
        },
        "id": "6J5SyZQtKQ-U",
        "outputId": "af8c11e6-8407-4c97-cd1b-c1fc1f90875e"
      },
      "source": [
        "from scipy.stats.stats import pearsonr\n",
        "print('Correlação: %0.5f' % pearsonr(dataFrame['Idade'], dataFrame['PressaoSistolica'])[0])"
      ],
      "execution_count": null,
      "outputs": [
        {
          "output_type": "stream",
          "name": "stdout",
          "text": [
            "Correlação: 0.88346\n"
          ]
        }
      ]
    },
    {
      "cell_type": "markdown",
      "metadata": {
        "id": "XwZ418s0KHX5"
      },
      "source": [
        "Olhando para os dados no gráfico e também a correlação linear, podemos identificar que existe um boa correlação entre os dados, temos um percentual de 88% de correlação. Podemos identificar também que temos uma correlação imperfeita possitiva, pois os dados estão crescendo porém não é uma linha perfeitamente linear.\n"
      ]
    },
    {
      "cell_type": "markdown",
      "metadata": {
        "id": "O2DYYBAlLwo5"
      },
      "source": [
        "## Extraindo os dados entre atributos e rotulos \n",
        "Atributos = variaveis independentes\n",
        "\n",
        "\n",
        "---\n",
        "\n",
        "\n",
        "Rotulos = varias dependentes cujos valores devem ser previstos"
      ]
    },
    {
      "cell_type": "code",
      "metadata": {
        "colab": {
          "base_uri": "https://localhost:8080/"
        },
        "id": "s90n6xMxLwPb",
        "outputId": "5ce2f0b5-6100-4ecd-f954-1feb3e9124ba"
      },
      "source": [
        "#Os atributos são armazenados na variável X.\n",
        "#Especificamos “-1” como o intervalo para colunas, pois\n",
        "#queríamos que nosso conjunto de atributos contivesse\n",
        "#todas as colunas, exceto a última, que é “Pressão_\n",
        "#Sanguinea”. Da mesma forma, a variável y contém os\n",
        "#rótulos. Especificamos 1 para a coluna de rótulo, pois o\n",
        "#índice da coluna “Pressão_Sanguinea” é 1. Lembre-se\n",
        "#de que os índices da coluna começam com 0, sendo 1 a\n",
        "#segunda coluna;\n",
        "\n",
        "atributos = dataFrame.iloc[:, :-1].values\n",
        "rotulos = dataFrame.iloc[:, 1].values\n",
        "\n",
        "print('Atributos: ', atributos)\n",
        "print('Rotulos: ', rotulos)"
      ],
      "execution_count": null,
      "outputs": [
        {
          "output_type": "stream",
          "name": "stdout",
          "text": [
            "Atributos:  [[16]\n",
            " [25]\n",
            " [39]\n",
            " [45]\n",
            " [49]\n",
            " [64]\n",
            " [70]]\n",
            "Rotulos:  [109 122 143 132 199 185 199]\n"
          ]
        }
      ]
    },
    {
      "cell_type": "markdown",
      "metadata": {
        "id": "eAN-zJVtMlU8"
      },
      "source": [
        "Dividir esses dados em conjuntos de treinamento\n",
        "e teste"
      ]
    },
    {
      "cell_type": "code",
      "metadata": {
        "id": "THaRAJ9vMnAE"
      },
      "source": [
        "from sklearn.model_selection import train_test_split\n",
        "X_train, X_test, y_train, y_test = train_test_split(atributos, rotulos, test_size=0.2, random_state=0)"
      ],
      "execution_count": null,
      "outputs": []
    },
    {
      "cell_type": "markdown",
      "metadata": {
        "id": "fdbNqYr1M5yG"
      },
      "source": [
        "Criando modelo e treinando"
      ]
    },
    {
      "cell_type": "code",
      "metadata": {
        "colab": {
          "base_uri": "https://localhost:8080/"
        },
        "id": "PLRfQXi2M_j_",
        "outputId": "425aea81-e550-4fec-84bc-dfd2a70b74a1"
      },
      "source": [
        "from sklearn.linear_model import LinearRegression\n",
        "\n",
        "regressor = LinearRegression()\n",
        "regressor.fit(X_train, y_train)"
      ],
      "execution_count": null,
      "outputs": [
        {
          "output_type": "execute_result",
          "data": {
            "text/plain": [
              "LinearRegression(copy_X=True, fit_intercept=True, n_jobs=None, normalize=False)"
            ]
          },
          "metadata": {},
          "execution_count": 13
        }
      ]
    },
    {
      "cell_type": "markdown",
      "metadata": {
        "id": "Hl2fjeROHtKr"
      },
      "source": [
        "## Obtenha a inclinação e o intercepto, e a equação da reta de regressão"
      ]
    },
    {
      "cell_type": "code",
      "metadata": {
        "colab": {
          "base_uri": "https://localhost:8080/"
        },
        "id": "J9NUaXbKNNYZ",
        "outputId": "c21d4e2a-08cf-4419-c768-ceb438688aa3"
      },
      "source": [
        "print(\"Intecepto: \", regressor.intercept_)\n",
        "print(\"Inclinação: \", regressor.coef_)"
      ],
      "execution_count": null,
      "outputs": [
        {
          "output_type": "stream",
          "name": "stdout",
          "text": [
            "Intecepto:  79.76342055570544\n",
            "Inclinação:  [1.7496628]\n"
          ]
        }
      ]
    },
    {
      "cell_type": "markdown",
      "metadata": {
        "id": "R21aOVY6NpXW"
      },
      "source": [
        "Equação da reta"
      ]
    },
    {
      "cell_type": "markdown",
      "metadata": {
        "id": "W0thYNQNNkZW"
      },
      "source": [
        "![image.png](data:image/png;base64,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)"
      ]
    },
    {
      "cell_type": "code",
      "metadata": {
        "colab": {
          "base_uri": "https://localhost:8080/"
        },
        "id": "YnpBahvONj3x",
        "outputId": "306b3fed-6f1c-4967-fe84-ecc8840023ac"
      },
      "source": [
        "valorX = 24\n",
        "previsao = regressor.intercept_ + (regressor.coef_ * valorX)\n",
        "print('Previsão: %0.3f' % previsao)"
      ],
      "execution_count": null,
      "outputs": [
        {
          "output_type": "stream",
          "name": "stdout",
          "text": [
            "Previsão: 121.755\n"
          ]
        }
      ]
    },
    {
      "cell_type": "markdown",
      "metadata": {
        "id": "SaWr8xqJPUrP"
      },
      "source": [
        "Podemos identificar acima que a previsão se aproxima muito bem da tabela real.\n",
        "Na tabela real o valor para 25 anos é de 122, já para 24 anos é de 121.755"
      ]
    },
    {
      "cell_type": "code",
      "metadata": {
        "colab": {
          "base_uri": "https://localhost:8080/",
          "height": 111
        },
        "id": "E_hCJfiqOvKj",
        "outputId": "4766109e-7dfc-4e9a-e760-cae109448a93"
      },
      "source": [
        "y_pred = regressor.predict(X_test)\n",
        "df = pd.DataFrame({'Esperado': y_test, 'Previsto': y_pred})\n",
        "df"
      ],
      "execution_count": null,
      "outputs": [
        {
          "output_type": "execute_result",
          "data": {
            "text/html": [
              "<div>\n",
              "<style scoped>\n",
              "    .dataframe tbody tr th:only-of-type {\n",
              "        vertical-align: middle;\n",
              "    }\n",
              "\n",
              "    .dataframe tbody tr th {\n",
              "        vertical-align: top;\n",
              "    }\n",
              "\n",
              "    .dataframe thead th {\n",
              "        text-align: right;\n",
              "    }\n",
              "</style>\n",
              "<table border=\"1\" class=\"dataframe\">\n",
              "  <thead>\n",
              "    <tr style=\"text-align: right;\">\n",
              "      <th></th>\n",
              "      <th>Esperado</th>\n",
              "      <th>Previsto</th>\n",
              "    </tr>\n",
              "  </thead>\n",
              "  <tbody>\n",
              "    <tr>\n",
              "      <th>0</th>\n",
              "      <td>199</td>\n",
              "      <td>202.239817</td>\n",
              "    </tr>\n",
              "    <tr>\n",
              "      <th>1</th>\n",
              "      <td>143</td>\n",
              "      <td>148.000270</td>\n",
              "    </tr>\n",
              "  </tbody>\n",
              "</table>\n",
              "</div>"
            ],
            "text/plain": [
              "   Esperado    Previsto\n",
              "0       199  202.239817\n",
              "1       143  148.000270"
            ]
          },
          "metadata": {},
          "execution_count": 36
        }
      ]
    },
    {
      "cell_type": "markdown",
      "metadata": {
        "id": "ZXGO-9XAH0gk"
      },
      "source": [
        "## Faça a avaliação da qualidade do modelo de regressão linear."
      ]
    },
    {
      "cell_type": "code",
      "metadata": {
        "colab": {
          "base_uri": "https://localhost:8080/"
        },
        "id": "70YfT41yH46j",
        "outputId": "9414256a-eaa1-4cc0-87ac-02bdf361aa29"
      },
      "source": [
        "from sklearn import metrics \n",
        "\n",
        "print('MAE - Mean Absolute Error: ', metrics.mean_absolute_error(y_test, y_pred))\n",
        "print('MSE - Mean Squared Error: ', metrics.mean_squared_error(y_test, y_pred))\n",
        "print('RMSE - Root Mean Squared Error: ', np.sqrt(metrics.mean_squared_error(y_test, y_pred)))\n",
        "print('R2:', metrics.r2_score(y_test, y_pred))"
      ],
      "execution_count": null,
      "outputs": [
        {
          "output_type": "stream",
          "name": "stdout",
          "text": [
            "MAE - Mean Absolute Error:  4.12004316158621\n",
            "MSE - Mean Squared Error:  17.749554517736463\n",
            "RMSE - Root Mean Squared Error:  4.213022017238512\n",
            "R2: 0.9773602620947239\n"
          ]
        }
      ]
    }
  ]
}