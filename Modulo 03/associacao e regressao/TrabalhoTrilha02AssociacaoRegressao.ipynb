{
  "nbformat": 4,
  "nbformat_minor": 0,
  "metadata": {
    "colab": {
      "name": "TrabalhoTrilha02AssociacaoRegressao.ipynb",
      "provenance": [],
      "collapsed_sections": []
    },
    "kernelspec": {
      "name": "python3",
      "display_name": "Python 3"
    },
    "language_info": {
      "name": "python"
    }
  },
  "cells": [
    {
      "cell_type": "markdown",
      "metadata": {
        "id": "dhJj1fZCCOxD"
      },
      "source": [
        "# Importando as bibliotecas\n"
      ]
    },
    {
      "cell_type": "code",
      "metadata": {
        "id": "pkygp-xG2NLU"
      },
      "source": [
        "import pandas as pd\n",
        "import numpy as np \n",
        "import matplotlib.pyplot as plt\n",
        "from sklearn import datasets"
      ],
      "execution_count": null,
      "outputs": []
    },
    {
      "cell_type": "code",
      "metadata": {
        "colab": {
          "base_uri": "https://localhost:8080/"
        },
        "id": "8_65JEAW2bs3",
        "outputId": "67db24dd-8b9c-4b90-9fcd-bf5ef9166a82"
      },
      "source": [
        "#instala e import o apriori\n",
        "!pip install apyori\n",
        "from apyori import apriori"
      ],
      "execution_count": null,
      "outputs": [
        {
          "output_type": "stream",
          "name": "stdout",
          "text": [
            "Collecting apyori\n",
            "  Downloading apyori-1.1.2.tar.gz (8.6 kB)\n",
            "Building wheels for collected packages: apyori\n",
            "  Building wheel for apyori (setup.py) ... \u001b[?25l\u001b[?25hdone\n",
            "  Created wheel for apyori: filename=apyori-1.1.2-py3-none-any.whl size=5974 sha256=08d718e59e780f27f8babced379e798cc369c908a64c3a45714fce3b6186022d\n",
            "  Stored in directory: /root/.cache/pip/wheels/cb/f6/e1/57973c631d27efd1a2f375bd6a83b2a616c4021f24aab84080\n",
            "Successfully built apyori\n",
            "Installing collected packages: apyori\n",
            "Successfully installed apyori-1.1.2\n"
          ]
        }
      ]
    },
    {
      "cell_type": "markdown",
      "metadata": {
        "id": "7cRRJgYkCW5M"
      },
      "source": [
        "# Criando o DataFrame de IRIS"
      ]
    },
    {
      "cell_type": "code",
      "metadata": {
        "colab": {
          "base_uri": "https://localhost:8080/",
          "height": 419
        },
        "id": "VfOGYOM78-Fk",
        "outputId": "0daf9ded-4c94-4b0c-a1a8-9c6e664701c5"
      },
      "source": [
        "#Obtendo o Dataset\n",
        "data = datasets.load_iris()\n",
        " \n",
        "# create sample dataset\n",
        "columns = ['sepal length','sepal width','petal length','petal width']\n",
        "dataFrameIris = pd.DataFrame(data['data'], columns=columns) \n",
        "\n",
        "# alterando os valores numericos para categoricos\n",
        "novaListaTarget = []\n",
        "for i in range(0,len(list(data['target']))):\n",
        "  if data['target'][i] == 0:\n",
        "     novaListaTarget.append(\"Iris Setosa\")\n",
        "  elif data['target'][i] == 1:\n",
        "     novaListaTarget.append(\"Iris Versicolour\")\n",
        "  else:\n",
        "     novaListaTarget.append(\"Iris Virginica\")    \n",
        "  \n",
        "dataFrameIris['class'] = novaListaTarget;\n",
        "dataFrameIris"
      ],
      "execution_count": null,
      "outputs": [
        {
          "output_type": "execute_result",
          "data": {
            "text/html": [
              "<div>\n",
              "<style scoped>\n",
              "    .dataframe tbody tr th:only-of-type {\n",
              "        vertical-align: middle;\n",
              "    }\n",
              "\n",
              "    .dataframe tbody tr th {\n",
              "        vertical-align: top;\n",
              "    }\n",
              "\n",
              "    .dataframe thead th {\n",
              "        text-align: right;\n",
              "    }\n",
              "</style>\n",
              "<table border=\"1\" class=\"dataframe\">\n",
              "  <thead>\n",
              "    <tr style=\"text-align: right;\">\n",
              "      <th></th>\n",
              "      <th>sepal length</th>\n",
              "      <th>sepal width</th>\n",
              "      <th>petal length</th>\n",
              "      <th>petal width</th>\n",
              "      <th>class</th>\n",
              "    </tr>\n",
              "  </thead>\n",
              "  <tbody>\n",
              "    <tr>\n",
              "      <th>0</th>\n",
              "      <td>5.1</td>\n",
              "      <td>3.5</td>\n",
              "      <td>1.4</td>\n",
              "      <td>0.2</td>\n",
              "      <td>Iris Setosa</td>\n",
              "    </tr>\n",
              "    <tr>\n",
              "      <th>1</th>\n",
              "      <td>4.9</td>\n",
              "      <td>3.0</td>\n",
              "      <td>1.4</td>\n",
              "      <td>0.2</td>\n",
              "      <td>Iris Setosa</td>\n",
              "    </tr>\n",
              "    <tr>\n",
              "      <th>2</th>\n",
              "      <td>4.7</td>\n",
              "      <td>3.2</td>\n",
              "      <td>1.3</td>\n",
              "      <td>0.2</td>\n",
              "      <td>Iris Setosa</td>\n",
              "    </tr>\n",
              "    <tr>\n",
              "      <th>3</th>\n",
              "      <td>4.6</td>\n",
              "      <td>3.1</td>\n",
              "      <td>1.5</td>\n",
              "      <td>0.2</td>\n",
              "      <td>Iris Setosa</td>\n",
              "    </tr>\n",
              "    <tr>\n",
              "      <th>4</th>\n",
              "      <td>5.0</td>\n",
              "      <td>3.6</td>\n",
              "      <td>1.4</td>\n",
              "      <td>0.2</td>\n",
              "      <td>Iris Setosa</td>\n",
              "    </tr>\n",
              "    <tr>\n",
              "      <th>...</th>\n",
              "      <td>...</td>\n",
              "      <td>...</td>\n",
              "      <td>...</td>\n",
              "      <td>...</td>\n",
              "      <td>...</td>\n",
              "    </tr>\n",
              "    <tr>\n",
              "      <th>145</th>\n",
              "      <td>6.7</td>\n",
              "      <td>3.0</td>\n",
              "      <td>5.2</td>\n",
              "      <td>2.3</td>\n",
              "      <td>Iris Virginica</td>\n",
              "    </tr>\n",
              "    <tr>\n",
              "      <th>146</th>\n",
              "      <td>6.3</td>\n",
              "      <td>2.5</td>\n",
              "      <td>5.0</td>\n",
              "      <td>1.9</td>\n",
              "      <td>Iris Virginica</td>\n",
              "    </tr>\n",
              "    <tr>\n",
              "      <th>147</th>\n",
              "      <td>6.5</td>\n",
              "      <td>3.0</td>\n",
              "      <td>5.2</td>\n",
              "      <td>2.0</td>\n",
              "      <td>Iris Virginica</td>\n",
              "    </tr>\n",
              "    <tr>\n",
              "      <th>148</th>\n",
              "      <td>6.2</td>\n",
              "      <td>3.4</td>\n",
              "      <td>5.4</td>\n",
              "      <td>2.3</td>\n",
              "      <td>Iris Virginica</td>\n",
              "    </tr>\n",
              "    <tr>\n",
              "      <th>149</th>\n",
              "      <td>5.9</td>\n",
              "      <td>3.0</td>\n",
              "      <td>5.1</td>\n",
              "      <td>1.8</td>\n",
              "      <td>Iris Virginica</td>\n",
              "    </tr>\n",
              "  </tbody>\n",
              "</table>\n",
              "<p>150 rows × 5 columns</p>\n",
              "</div>"
            ],
            "text/plain": [
              "     sepal length  sepal width  petal length  petal width           class\n",
              "0             5.1          3.5           1.4          0.2     Iris Setosa\n",
              "1             4.9          3.0           1.4          0.2     Iris Setosa\n",
              "2             4.7          3.2           1.3          0.2     Iris Setosa\n",
              "3             4.6          3.1           1.5          0.2     Iris Setosa\n",
              "4             5.0          3.6           1.4          0.2     Iris Setosa\n",
              "..            ...          ...           ...          ...             ...\n",
              "145           6.7          3.0           5.2          2.3  Iris Virginica\n",
              "146           6.3          2.5           5.0          1.9  Iris Virginica\n",
              "147           6.5          3.0           5.2          2.0  Iris Virginica\n",
              "148           6.2          3.4           5.4          2.3  Iris Virginica\n",
              "149           5.9          3.0           5.1          1.8  Iris Virginica\n",
              "\n",
              "[150 rows x 5 columns]"
            ]
          },
          "metadata": {},
          "execution_count": 4
        }
      ]
    },
    {
      "cell_type": "markdown",
      "metadata": {
        "id": "RmAA1ZrDRs8e"
      },
      "source": [
        "# Definindo funções "
      ]
    },
    {
      "cell_type": "code",
      "metadata": {
        "id": "_SCxltRYPgwK"
      },
      "source": [
        "from functools import partial\n",
        "\n",
        "def dataFrameToList(dataFrame):\n",
        "  linhas, cols = dataFrame.shape\n",
        "  transactions = []\n",
        "  for i in range(0, linhas):\n",
        "    transactions.append([str(dataFrame.values[i, j]) for j in range(0, cols)])\n",
        "  return transactions  \n",
        "\n",
        "\n",
        "def exibirResultado(lista):\n",
        "  for i in range(len(lista)):\n",
        "    LHS=list(lista[i][2][0][0]) #antecedente\n",
        "    RHS=list(lista[i][2][0][1]) #consequente\n",
        "    support=lista[i][1]\n",
        "    confidence=lista[i][2][0][2]\n",
        "    lift=lista[i][2][0][3]\n",
        "\n",
        "    print(LHS, \"->\", RHS)\n",
        "    print(\"Suporte\", support)\n",
        "    print(\"confianca\", confidence)\n",
        "    print(\"Lift:\", lift)\n",
        "    print(10*\"----------\")  \n",
        "\n",
        "\n",
        "def criandoFaixasDeAcordoComAMedia(dataFrame, nomeColuna):\n",
        "  valorMax = max(dataFrame[nomeColuna])\n",
        "  valorMin = min(dataFrame[nomeColuna])\n",
        "\n",
        "  mediaValores = sum([valorMax, valorMin])/2\n",
        "  novaLista = []\n",
        "  for i in range(0, len(dataFrame[nomeColuna])):\n",
        "    if dataFrame[nomeColuna][i] >= mediaValores:\n",
        "      novaLista.append('faixa_maior_media'+nomeColuna)\n",
        "    else:\n",
        "      novaLista.append('faixa_menor_media'+nomeColuna)\n",
        "  return novaLista  \n",
        "\n",
        "\n",
        "\n",
        "def criandoFaixasDeAcordoComPorcentagem(dataFrame, nomeColuna):\n",
        "  setentaCincoPorcento = dataFrame[nomeColuna].describe()[6:7][0]\n",
        "  cinquentaPorcento = dataFrame[nomeColuna].describe()[5:6][0]\n",
        "  vinteCincoPorcento = dataFrame[nomeColuna].describe()[4:5][0]\n",
        "\n",
        "  novaLista = []\n",
        "  for i in range(0, len(dataFrame[nomeColuna])):\n",
        "    if dataFrame[nomeColuna][i] >= setentaCincoPorcento:\n",
        "      novaLista.append(nomeColuna+':acima75')\n",
        "    elif dataFrame[nomeColuna][i] >= cinquentaPorcento:\n",
        "      novaLista.append(nomeColuna+':entre50e75') \n",
        "    elif dataFrame[nomeColuna][i] >= vinteCincoPorcento:\n",
        "      novaLista.append(nomeColuna+':entre25e50')  \n",
        "    else:\n",
        "      novaLista.append(nomeColuna+':menor25')\n",
        "  return novaLista   "
      ],
      "execution_count": null,
      "outputs": []
    },
    {
      "cell_type": "markdown",
      "metadata": {
        "id": "72wS0a5CCkxY"
      },
      "source": [
        "# Executando o Apriori sem transformar os dados e modificando o minsup e minconf\n"
      ]
    },
    {
      "cell_type": "code",
      "metadata": {
        "id": "LY-HQmw58-jK",
        "colab": {
          "base_uri": "https://localhost:8080/",
          "height": 142
        },
        "outputId": "b4147304-bdac-4692-e706-90ca28c35723"
      },
      "source": [
        "dataFrameIrisList = dataFrameToList(dataFrameIris) \n",
        "rules = list(apriori(dataFrameIrisList, min_support=0.3, min_confidence=0.3))\n",
        "pd.DataFrame(rules)"
      ],
      "execution_count": null,
      "outputs": [
        {
          "output_type": "execute_result",
          "data": {
            "text/html": [
              "<div>\n",
              "<style scoped>\n",
              "    .dataframe tbody tr th:only-of-type {\n",
              "        vertical-align: middle;\n",
              "    }\n",
              "\n",
              "    .dataframe tbody tr th {\n",
              "        vertical-align: top;\n",
              "    }\n",
              "\n",
              "    .dataframe thead th {\n",
              "        text-align: right;\n",
              "    }\n",
              "</style>\n",
              "<table border=\"1\" class=\"dataframe\">\n",
              "  <thead>\n",
              "    <tr style=\"text-align: right;\">\n",
              "      <th></th>\n",
              "      <th>items</th>\n",
              "      <th>support</th>\n",
              "      <th>ordered_statistics</th>\n",
              "    </tr>\n",
              "  </thead>\n",
              "  <tbody>\n",
              "    <tr>\n",
              "      <th>0</th>\n",
              "      <td>(Iris Setosa)</td>\n",
              "      <td>0.333333</td>\n",
              "      <td>[((), (Iris Setosa), 0.3333333333333333, 1.0)]</td>\n",
              "    </tr>\n",
              "    <tr>\n",
              "      <th>1</th>\n",
              "      <td>(Iris Versicolour)</td>\n",
              "      <td>0.333333</td>\n",
              "      <td>[((), (Iris Versicolour), 0.3333333333333333, ...</td>\n",
              "    </tr>\n",
              "    <tr>\n",
              "      <th>2</th>\n",
              "      <td>(Iris Virginica)</td>\n",
              "      <td>0.333333</td>\n",
              "      <td>[((), (Iris Virginica), 0.3333333333333333, 1.0)]</td>\n",
              "    </tr>\n",
              "  </tbody>\n",
              "</table>\n",
              "</div>"
            ],
            "text/plain": [
              "                items  ...                                 ordered_statistics\n",
              "0       (Iris Setosa)  ...     [((), (Iris Setosa), 0.3333333333333333, 1.0)]\n",
              "1  (Iris Versicolour)  ...  [((), (Iris Versicolour), 0.3333333333333333, ...\n",
              "2    (Iris Virginica)  ...  [((), (Iris Virginica), 0.3333333333333333, 1.0)]\n",
              "\n",
              "[3 rows x 3 columns]"
            ]
          },
          "metadata": {},
          "execution_count": 6
        }
      ]
    },
    {
      "cell_type": "code",
      "metadata": {
        "id": "Piuff0_VBQzX",
        "colab": {
          "base_uri": "https://localhost:8080/"
        },
        "outputId": "1c27d6ae-a7a6-4334-c528-a61715af046a"
      },
      "source": [
        "print(10*\"----------\")\n",
        "exibirResultado(rules)"
      ],
      "execution_count": null,
      "outputs": [
        {
          "output_type": "stream",
          "name": "stdout",
          "text": [
            "----------------------------------------------------------------------------------------------------\n",
            "[] -> ['Iris Setosa']\n",
            "Suporte 0.3333333333333333\n",
            "confianca 0.3333333333333333\n",
            "Lift: 1.0\n",
            "----------------------------------------------------------------------------------------------------\n",
            "[] -> ['Iris Versicolour']\n",
            "Suporte 0.3333333333333333\n",
            "confianca 0.3333333333333333\n",
            "Lift: 1.0\n",
            "----------------------------------------------------------------------------------------------------\n",
            "[] -> ['Iris Virginica']\n",
            "Suporte 0.3333333333333333\n",
            "confianca 0.3333333333333333\n",
            "Lift: 1.0\n",
            "----------------------------------------------------------------------------------------------------\n"
          ]
        }
      ]
    },
    {
      "cell_type": "markdown",
      "metadata": {
        "id": "zpKvdqAUTot6"
      },
      "source": [
        "Não foi localizado associação com suporte maior de 40%, quando alterado para  suporte para 30% é retornado os itens sem associação "
      ]
    },
    {
      "cell_type": "markdown",
      "metadata": {
        "id": "jvXHqJ_zzsOQ"
      },
      "source": [
        "# Executando apriori com transformação dos dados utilizando media entre valor maximo da coluna e o valor minimo\n"
      ]
    },
    {
      "cell_type": "code",
      "metadata": {
        "colab": {
          "base_uri": "https://localhost:8080/",
          "height": 419
        },
        "id": "WQDh8E1qw2xL",
        "outputId": "f204151c-3481-4b9f-d7a0-db63d4ccd6d4"
      },
      "source": [
        "#Tratando os dados e efetuando as transformacoes \n",
        "#Nesse caso optei por transforma de acordo com a media entre o valor minimo e o valor maximo\n",
        "#quem fica acima da media entra em uma faixa, quem fica abaixo entra em outra faixa\n",
        "\n",
        "dataFrameIrisTratamento = pd.DataFrame([], columns=columns)   \n",
        "\n",
        "dataFrameIrisTratamento['sepal length'] = criandoFaixasDeAcordoComAMedia(dataFrameIris,'sepal length')\n",
        "dataFrameIrisTratamento['sepal width'] = criandoFaixasDeAcordoComAMedia(dataFrameIris,'sepal width')\n",
        "dataFrameIrisTratamento['petal length'] = criandoFaixasDeAcordoComAMedia(dataFrameIris,'petal length')\n",
        "dataFrameIrisTratamento['petal width'] = criandoFaixasDeAcordoComAMedia(dataFrameIris,'petal width')\n",
        "dataFrameIrisTratamento['class'] = dataFrameIris['class']\n",
        "\n",
        "dataFrameIrisTratamento\n"
      ],
      "execution_count": null,
      "outputs": [
        {
          "output_type": "execute_result",
          "data": {
            "text/html": [
              "<div>\n",
              "<style scoped>\n",
              "    .dataframe tbody tr th:only-of-type {\n",
              "        vertical-align: middle;\n",
              "    }\n",
              "\n",
              "    .dataframe tbody tr th {\n",
              "        vertical-align: top;\n",
              "    }\n",
              "\n",
              "    .dataframe thead th {\n",
              "        text-align: right;\n",
              "    }\n",
              "</style>\n",
              "<table border=\"1\" class=\"dataframe\">\n",
              "  <thead>\n",
              "    <tr style=\"text-align: right;\">\n",
              "      <th></th>\n",
              "      <th>sepal length</th>\n",
              "      <th>sepal width</th>\n",
              "      <th>petal length</th>\n",
              "      <th>petal width</th>\n",
              "      <th>class</th>\n",
              "    </tr>\n",
              "  </thead>\n",
              "  <tbody>\n",
              "    <tr>\n",
              "      <th>0</th>\n",
              "      <td>faixa_menor_mediasepal length</td>\n",
              "      <td>faixa_maior_mediasepal width</td>\n",
              "      <td>faixa_menor_mediapetal length</td>\n",
              "      <td>faixa_menor_mediapetal width</td>\n",
              "      <td>Iris Setosa</td>\n",
              "    </tr>\n",
              "    <tr>\n",
              "      <th>1</th>\n",
              "      <td>faixa_menor_mediasepal length</td>\n",
              "      <td>faixa_menor_mediasepal width</td>\n",
              "      <td>faixa_menor_mediapetal length</td>\n",
              "      <td>faixa_menor_mediapetal width</td>\n",
              "      <td>Iris Setosa</td>\n",
              "    </tr>\n",
              "    <tr>\n",
              "      <th>2</th>\n",
              "      <td>faixa_menor_mediasepal length</td>\n",
              "      <td>faixa_maior_mediasepal width</td>\n",
              "      <td>faixa_menor_mediapetal length</td>\n",
              "      <td>faixa_menor_mediapetal width</td>\n",
              "      <td>Iris Setosa</td>\n",
              "    </tr>\n",
              "    <tr>\n",
              "      <th>3</th>\n",
              "      <td>faixa_menor_mediasepal length</td>\n",
              "      <td>faixa_menor_mediasepal width</td>\n",
              "      <td>faixa_menor_mediapetal length</td>\n",
              "      <td>faixa_menor_mediapetal width</td>\n",
              "      <td>Iris Setosa</td>\n",
              "    </tr>\n",
              "    <tr>\n",
              "      <th>4</th>\n",
              "      <td>faixa_menor_mediasepal length</td>\n",
              "      <td>faixa_maior_mediasepal width</td>\n",
              "      <td>faixa_menor_mediapetal length</td>\n",
              "      <td>faixa_menor_mediapetal width</td>\n",
              "      <td>Iris Setosa</td>\n",
              "    </tr>\n",
              "    <tr>\n",
              "      <th>...</th>\n",
              "      <td>...</td>\n",
              "      <td>...</td>\n",
              "      <td>...</td>\n",
              "      <td>...</td>\n",
              "      <td>...</td>\n",
              "    </tr>\n",
              "    <tr>\n",
              "      <th>145</th>\n",
              "      <td>faixa_maior_mediasepal length</td>\n",
              "      <td>faixa_menor_mediasepal width</td>\n",
              "      <td>faixa_maior_mediapetal length</td>\n",
              "      <td>faixa_maior_mediapetal width</td>\n",
              "      <td>Iris Virginica</td>\n",
              "    </tr>\n",
              "    <tr>\n",
              "      <th>146</th>\n",
              "      <td>faixa_maior_mediasepal length</td>\n",
              "      <td>faixa_menor_mediasepal width</td>\n",
              "      <td>faixa_maior_mediapetal length</td>\n",
              "      <td>faixa_maior_mediapetal width</td>\n",
              "      <td>Iris Virginica</td>\n",
              "    </tr>\n",
              "    <tr>\n",
              "      <th>147</th>\n",
              "      <td>faixa_maior_mediasepal length</td>\n",
              "      <td>faixa_menor_mediasepal width</td>\n",
              "      <td>faixa_maior_mediapetal length</td>\n",
              "      <td>faixa_maior_mediapetal width</td>\n",
              "      <td>Iris Virginica</td>\n",
              "    </tr>\n",
              "    <tr>\n",
              "      <th>148</th>\n",
              "      <td>faixa_maior_mediasepal length</td>\n",
              "      <td>faixa_maior_mediasepal width</td>\n",
              "      <td>faixa_maior_mediapetal length</td>\n",
              "      <td>faixa_maior_mediapetal width</td>\n",
              "      <td>Iris Virginica</td>\n",
              "    </tr>\n",
              "    <tr>\n",
              "      <th>149</th>\n",
              "      <td>faixa_menor_mediasepal length</td>\n",
              "      <td>faixa_menor_mediasepal width</td>\n",
              "      <td>faixa_maior_mediapetal length</td>\n",
              "      <td>faixa_maior_mediapetal width</td>\n",
              "      <td>Iris Virginica</td>\n",
              "    </tr>\n",
              "  </tbody>\n",
              "</table>\n",
              "<p>150 rows × 5 columns</p>\n",
              "</div>"
            ],
            "text/plain": [
              "                      sepal length  ...           class\n",
              "0    faixa_menor_mediasepal length  ...     Iris Setosa\n",
              "1    faixa_menor_mediasepal length  ...     Iris Setosa\n",
              "2    faixa_menor_mediasepal length  ...     Iris Setosa\n",
              "3    faixa_menor_mediasepal length  ...     Iris Setosa\n",
              "4    faixa_menor_mediasepal length  ...     Iris Setosa\n",
              "..                             ...  ...             ...\n",
              "145  faixa_maior_mediasepal length  ...  Iris Virginica\n",
              "146  faixa_maior_mediasepal length  ...  Iris Virginica\n",
              "147  faixa_maior_mediasepal length  ...  Iris Virginica\n",
              "148  faixa_maior_mediasepal length  ...  Iris Virginica\n",
              "149  faixa_menor_mediasepal length  ...  Iris Virginica\n",
              "\n",
              "[150 rows x 5 columns]"
            ]
          },
          "metadata": {},
          "execution_count": 8
        }
      ]
    },
    {
      "cell_type": "code",
      "metadata": {
        "colab": {
          "base_uri": "https://localhost:8080/",
          "height": 80
        },
        "id": "RrA5tSAkAIiP",
        "outputId": "d6aebcb7-d74c-454e-d5a3-ae34e76544cc"
      },
      "source": [
        "#Executando o apriori\n",
        "dataFrameIrisTratamentoList = dataFrameToList(dataFrameIrisTratamento) \n",
        "\n",
        "rulesTratamento = list(apriori(dataFrameIrisTratamentoList, min_support=0.5, min_confidence=0.9))\n",
        "pd.DataFrame(rulesTratamento)"
      ],
      "execution_count": null,
      "outputs": [
        {
          "output_type": "execute_result",
          "data": {
            "text/html": [
              "<div>\n",
              "<style scoped>\n",
              "    .dataframe tbody tr th:only-of-type {\n",
              "        vertical-align: middle;\n",
              "    }\n",
              "\n",
              "    .dataframe tbody tr th {\n",
              "        vertical-align: top;\n",
              "    }\n",
              "\n",
              "    .dataframe thead th {\n",
              "        text-align: right;\n",
              "    }\n",
              "</style>\n",
              "<table border=\"1\" class=\"dataframe\">\n",
              "  <thead>\n",
              "    <tr style=\"text-align: right;\">\n",
              "      <th></th>\n",
              "      <th>items</th>\n",
              "      <th>support</th>\n",
              "      <th>ordered_statistics</th>\n",
              "    </tr>\n",
              "  </thead>\n",
              "  <tbody>\n",
              "    <tr>\n",
              "      <th>0</th>\n",
              "      <td>(faixa_maior_mediapetal width, faixa_maior_med...</td>\n",
              "      <td>0.553333</td>\n",
              "      <td>[((faixa_maior_mediapetal length), (faixa_maio...</td>\n",
              "    </tr>\n",
              "  </tbody>\n",
              "</table>\n",
              "</div>"
            ],
            "text/plain": [
              "                                               items  ...                                 ordered_statistics\n",
              "0  (faixa_maior_mediapetal width, faixa_maior_med...  ...  [((faixa_maior_mediapetal length), (faixa_maio...\n",
              "\n",
              "[1 rows x 3 columns]"
            ]
          },
          "metadata": {},
          "execution_count": 9
        }
      ]
    },
    {
      "cell_type": "code",
      "metadata": {
        "colab": {
          "base_uri": "https://localhost:8080/"
        },
        "id": "tLFO2os4w2rc",
        "outputId": "8250af5d-ef97-4c29-af65-5a024bb30b5c"
      },
      "source": [
        "exibirResultado(rulesTratamento)"
      ],
      "execution_count": null,
      "outputs": [
        {
          "output_type": "stream",
          "name": "stdout",
          "text": [
            "['faixa_maior_mediapetal length'] -> ['faixa_maior_mediapetal width']\n",
            "Suporte 0.5533333333333333\n",
            "confianca 0.9325842696629213\n",
            "Lift: 1.6457369464639788\n",
            "----------------------------------------------------------------------------------------------------\n"
          ]
        }
      ]
    },
    {
      "cell_type": "markdown",
      "metadata": {
        "id": "Ns32QRUOUCw_"
      },
      "source": [
        "Nesse caso o retorno foi ao menos estranho hahaha a ideia era separar em duas faixas, acima da media e abaixo da media, a media foi calculado de acordo com o valor min e o valor maximo de cada coluna. Utilizando o suporte maior de 50% e a confiança de 90% é retornado os valores das faixas e não os itens."
      ]
    },
    {
      "cell_type": "markdown",
      "metadata": {
        "id": "OuvYII3LJtAi"
      },
      "source": [
        "# Executando apriori com transformação dos dados utilizando faixas de porcentagem do describe()\n",
        "\n"
      ]
    },
    {
      "cell_type": "code",
      "metadata": {
        "colab": {
          "base_uri": "https://localhost:8080/",
          "height": 419
        },
        "id": "kTJiN3I6JyVQ",
        "outputId": "a70a275b-e2ec-46d3-e3ee-e15d3efbf378"
      },
      "source": [
        "#Tratando os dados e efetuando as transformacoes \n",
        "#Nesse caso optei por transforma de acordo as porcentagem de 25%, 50% e 75%.\n",
        "#Ao todo foram criado 4 faixas\n",
        "# 1 - Acima de 75%\n",
        "# 2 - Entre 50% e 75%\n",
        "# 3 - Entre 25% e 50%\n",
        "# 4 - Abaixo de 25%\n",
        "\n",
        "dataFrameTratamentoPorcentagem = pd.DataFrame([], columns=columns)   \n",
        "\n",
        "dataFrameTratamentoPorcentagem['sepal length'] = criandoFaixasDeAcordoComPorcentagem(dataFrameIris,'sepal length')\n",
        "dataFrameTratamentoPorcentagem['sepal width'] = criandoFaixasDeAcordoComPorcentagem(dataFrameIris,'sepal width')\n",
        "dataFrameTratamentoPorcentagem['petal length'] = criandoFaixasDeAcordoComPorcentagem(dataFrameIris,'petal length')\n",
        "dataFrameTratamentoPorcentagem['petal width'] = criandoFaixasDeAcordoComPorcentagem(dataFrameIris,'petal width')\n",
        "dataFrameTratamentoPorcentagem['class'] = dataFrameIris['class']\n",
        "\n",
        "dataFrameTratamentoPorcentagem"
      ],
      "execution_count": null,
      "outputs": [
        {
          "output_type": "execute_result",
          "data": {
            "text/html": [
              "<div>\n",
              "<style scoped>\n",
              "    .dataframe tbody tr th:only-of-type {\n",
              "        vertical-align: middle;\n",
              "    }\n",
              "\n",
              "    .dataframe tbody tr th {\n",
              "        vertical-align: top;\n",
              "    }\n",
              "\n",
              "    .dataframe thead th {\n",
              "        text-align: right;\n",
              "    }\n",
              "</style>\n",
              "<table border=\"1\" class=\"dataframe\">\n",
              "  <thead>\n",
              "    <tr style=\"text-align: right;\">\n",
              "      <th></th>\n",
              "      <th>sepal length</th>\n",
              "      <th>sepal width</th>\n",
              "      <th>petal length</th>\n",
              "      <th>petal width</th>\n",
              "      <th>class</th>\n",
              "    </tr>\n",
              "  </thead>\n",
              "  <tbody>\n",
              "    <tr>\n",
              "      <th>0</th>\n",
              "      <td>sepal length:entre25e50</td>\n",
              "      <td>sepal width:acima75</td>\n",
              "      <td>petal length:menor25</td>\n",
              "      <td>petal width:menor25</td>\n",
              "      <td>Iris Setosa</td>\n",
              "    </tr>\n",
              "    <tr>\n",
              "      <th>1</th>\n",
              "      <td>sepal length:menor25</td>\n",
              "      <td>sepal width:entre50e75</td>\n",
              "      <td>petal length:menor25</td>\n",
              "      <td>petal width:menor25</td>\n",
              "      <td>Iris Setosa</td>\n",
              "    </tr>\n",
              "    <tr>\n",
              "      <th>2</th>\n",
              "      <td>sepal length:menor25</td>\n",
              "      <td>sepal width:entre50e75</td>\n",
              "      <td>petal length:menor25</td>\n",
              "      <td>petal width:menor25</td>\n",
              "      <td>Iris Setosa</td>\n",
              "    </tr>\n",
              "    <tr>\n",
              "      <th>3</th>\n",
              "      <td>sepal length:menor25</td>\n",
              "      <td>sepal width:entre50e75</td>\n",
              "      <td>petal length:menor25</td>\n",
              "      <td>petal width:menor25</td>\n",
              "      <td>Iris Setosa</td>\n",
              "    </tr>\n",
              "    <tr>\n",
              "      <th>4</th>\n",
              "      <td>sepal length:menor25</td>\n",
              "      <td>sepal width:acima75</td>\n",
              "      <td>petal length:menor25</td>\n",
              "      <td>petal width:menor25</td>\n",
              "      <td>Iris Setosa</td>\n",
              "    </tr>\n",
              "    <tr>\n",
              "      <th>...</th>\n",
              "      <td>...</td>\n",
              "      <td>...</td>\n",
              "      <td>...</td>\n",
              "      <td>...</td>\n",
              "      <td>...</td>\n",
              "    </tr>\n",
              "    <tr>\n",
              "      <th>145</th>\n",
              "      <td>sepal length:acima75</td>\n",
              "      <td>sepal width:entre50e75</td>\n",
              "      <td>petal length:acima75</td>\n",
              "      <td>petal width:acima75</td>\n",
              "      <td>Iris Virginica</td>\n",
              "    </tr>\n",
              "    <tr>\n",
              "      <th>146</th>\n",
              "      <td>sepal length:entre50e75</td>\n",
              "      <td>sepal width:menor25</td>\n",
              "      <td>petal length:entre50e75</td>\n",
              "      <td>petal width:acima75</td>\n",
              "      <td>Iris Virginica</td>\n",
              "    </tr>\n",
              "    <tr>\n",
              "      <th>147</th>\n",
              "      <td>sepal length:acima75</td>\n",
              "      <td>sepal width:entre50e75</td>\n",
              "      <td>petal length:acima75</td>\n",
              "      <td>petal width:acima75</td>\n",
              "      <td>Iris Virginica</td>\n",
              "    </tr>\n",
              "    <tr>\n",
              "      <th>148</th>\n",
              "      <td>sepal length:entre50e75</td>\n",
              "      <td>sepal width:acima75</td>\n",
              "      <td>petal length:acima75</td>\n",
              "      <td>petal width:acima75</td>\n",
              "      <td>Iris Virginica</td>\n",
              "    </tr>\n",
              "    <tr>\n",
              "      <th>149</th>\n",
              "      <td>sepal length:entre50e75</td>\n",
              "      <td>sepal width:entre50e75</td>\n",
              "      <td>petal length:acima75</td>\n",
              "      <td>petal width:acima75</td>\n",
              "      <td>Iris Virginica</td>\n",
              "    </tr>\n",
              "  </tbody>\n",
              "</table>\n",
              "<p>150 rows × 5 columns</p>\n",
              "</div>"
            ],
            "text/plain": [
              "                sepal length  ...           class\n",
              "0    sepal length:entre25e50  ...     Iris Setosa\n",
              "1       sepal length:menor25  ...     Iris Setosa\n",
              "2       sepal length:menor25  ...     Iris Setosa\n",
              "3       sepal length:menor25  ...     Iris Setosa\n",
              "4       sepal length:menor25  ...     Iris Setosa\n",
              "..                       ...  ...             ...\n",
              "145     sepal length:acima75  ...  Iris Virginica\n",
              "146  sepal length:entre50e75  ...  Iris Virginica\n",
              "147     sepal length:acima75  ...  Iris Virginica\n",
              "148  sepal length:entre50e75  ...  Iris Virginica\n",
              "149  sepal length:entre50e75  ...  Iris Virginica\n",
              "\n",
              "[150 rows x 5 columns]"
            ]
          },
          "metadata": {},
          "execution_count": 11
        }
      ]
    },
    {
      "cell_type": "code",
      "metadata": {
        "colab": {
          "base_uri": "https://localhost:8080/",
          "height": 80
        },
        "id": "s4j0CPnzKA-6",
        "outputId": "63f72ad3-6f2b-4128-ae4b-e572b174c818"
      },
      "source": [
        "#Executando o apriori\n",
        "dataFrameTratamentoPorcentagemList = dataFrameToList(dataFrameTratamentoPorcentagem) \n",
        "\n",
        "rulesTratamentoPorcentagemList = list(apriori(dataFrameTratamentoPorcentagemList, min_support=0.3, min_confidence=0.4))\n",
        "pd.DataFrame(rulesTratamentoPorcentagemList)"
      ],
      "execution_count": null,
      "outputs": [
        {
          "output_type": "execute_result",
          "data": {
            "text/html": [
              "<div>\n",
              "<style scoped>\n",
              "    .dataframe tbody tr th:only-of-type {\n",
              "        vertical-align: middle;\n",
              "    }\n",
              "\n",
              "    .dataframe tbody tr th {\n",
              "        vertical-align: top;\n",
              "    }\n",
              "\n",
              "    .dataframe thead th {\n",
              "        text-align: right;\n",
              "    }\n",
              "</style>\n",
              "<table border=\"1\" class=\"dataframe\">\n",
              "  <thead>\n",
              "    <tr style=\"text-align: right;\">\n",
              "      <th></th>\n",
              "      <th>items</th>\n",
              "      <th>support</th>\n",
              "      <th>ordered_statistics</th>\n",
              "    </tr>\n",
              "  </thead>\n",
              "  <tbody>\n",
              "    <tr>\n",
              "      <th>0</th>\n",
              "      <td>(Iris Virginica, petal width:acima75)</td>\n",
              "      <td>0.3</td>\n",
              "      <td>[((Iris Virginica), (petal width:acima75), 0.9...</td>\n",
              "    </tr>\n",
              "  </tbody>\n",
              "</table>\n",
              "</div>"
            ],
            "text/plain": [
              "                                   items  ...                                 ordered_statistics\n",
              "0  (Iris Virginica, petal width:acima75)  ...  [((Iris Virginica), (petal width:acima75), 0.9...\n",
              "\n",
              "[1 rows x 3 columns]"
            ]
          },
          "metadata": {},
          "execution_count": 12
        }
      ]
    },
    {
      "cell_type": "code",
      "metadata": {
        "id": "DD53R8c6VxYu",
        "colab": {
          "base_uri": "https://localhost:8080/"
        },
        "outputId": "a54273e1-2852-43f2-bc27-bea0ba72f61f"
      },
      "source": [
        "exibirResultado(rulesTratamentoPorcentagemList)"
      ],
      "execution_count": null,
      "outputs": [
        {
          "output_type": "stream",
          "name": "stdout",
          "text": [
            "['Iris Virginica'] -> ['petal width:acima75']\n",
            "Suporte 0.3\n",
            "confianca 0.9\n",
            "Lift: 2.9347826086956523\n",
            "----------------------------------------------------------------------------------------------------\n"
          ]
        }
      ]
    },
    {
      "cell_type": "markdown",
      "metadata": {
        "id": "O4B1WHTZUxmu"
      },
      "source": [
        "Aqui já tivemos um retorno melhor, a ideia era separar em 4 faixas:\n",
        "\n",
        "1.   Acima de 75%\n",
        "2.   Entre 50% e 75%\n",
        "3.   Entre 25% e 50% \n",
        "4.   Abaixo de 25%\n",
        "\n",
        "Utilizando um suporte de 30% e uma confiança de 40%, foi retornado que:\n",
        "\n",
        "```\n",
        "# Iris Virginica -> petal width:acima75\n",
        "```"
      ]
    },
    {
      "cell_type": "code",
      "metadata": {
        "id": "UozcU63bU8TJ"
      },
      "source": [
        ""
      ],
      "execution_count": null,
      "outputs": []
    }
  ]
}