{
  "nbformat": 4,
  "nbformat_minor": 0,
  "metadata": {
    "colab": {
      "name": "tarefaAnaliseNaoSupervisionadaTrilha02.ipynb",
      "provenance": []
    },
    "kernelspec": {
      "name": "python3",
      "display_name": "Python 3"
    },
    "language_info": {
      "name": "python"
    }
  },
  "cells": [
    {
      "cell_type": "code",
      "metadata": {
        "colab": {
          "resources": {
            "http://localhost:8080/nbextensions/google.colab/files.js": {
              "data": "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",
              "ok": true,
              "headers": [
                [
                  "content-type",
                  "application/javascript"
                ]
              ],
              "status": 200,
              "status_text": ""
            }
          },
          "base_uri": "https://localhost:8080/",
          "height": 73
        },
        "id": "Oytxsz9h3vn3",
        "outputId": "76fbe5b4-c996-400a-e54c-fc34b680faa0"
      },
      "source": [
        "import numpy as np\n",
        "import pandas as pd\n",
        "import matplotlib.pyplot as plt\n",
        "import seaborn as sns\n",
        "from google.colab import files\n",
        "uploaded = files.upload()"
      ],
      "execution_count": null,
      "outputs": [
        {
          "output_type": "display_data",
          "data": {
            "text/html": [
              "\n",
              "     <input type=\"file\" id=\"files-6250b879-2bdc-4ece-90d2-c669649d8781\" name=\"files[]\" multiple disabled\n",
              "        style=\"border:none\" />\n",
              "     <output id=\"result-6250b879-2bdc-4ece-90d2-c669649d8781\">\n",
              "      Upload widget is only available when the cell has been executed in the\n",
              "      current browser session. Please rerun this cell to enable.\n",
              "      </output>\n",
              "      <script src=\"/nbextensions/google.colab/files.js\"></script> "
            ],
            "text/plain": [
              "<IPython.core.display.HTML object>"
            ]
          },
          "metadata": {}
        },
        {
          "output_type": "stream",
          "text": [
            "Saving Composicao_AglomUrbanas_2020_06_30.xlsx to Composicao_AglomUrbanas_2020_06_30 (1).xlsx\n"
          ],
          "name": "stdout"
        }
      ]
    },
    {
      "cell_type": "code",
      "metadata": {
        "id": "t_RGoAjG32Gc"
      },
      "source": [
        "# importando io para carregar o arquivo\n",
        "import io\n",
        "\n",
        "#comando para importar arquivo CSV: read_csv e salvar os dados \n",
        "data = pd.read_excel(io.BytesIO(uploaded['Composicao_AglomUrbanas_2020_06_30.xlsx']))"
      ],
      "execution_count": null,
      "outputs": []
    },
    {
      "cell_type": "code",
      "metadata": {
        "colab": {
          "base_uri": "https://localhost:8080/",
          "height": 287
        },
        "id": "ie63UkXT34KQ",
        "outputId": "aa6a6b96-aa10-4fb4-ebdf-5c9b93031853"
      },
      "source": [
        "data.head()"
      ],
      "execution_count": null,
      "outputs": [
        {
          "output_type": "execute_result",
          "data": {
            "text/html": [
              "<div>\n",
              "<style scoped>\n",
              "    .dataframe tbody tr th:only-of-type {\n",
              "        vertical-align: middle;\n",
              "    }\n",
              "\n",
              "    .dataframe tbody tr th {\n",
              "        vertical-align: top;\n",
              "    }\n",
              "\n",
              "    .dataframe thead th {\n",
              "        text-align: right;\n",
              "    }\n",
              "</style>\n",
              "<table border=\"1\" class=\"dataframe\">\n",
              "  <thead>\n",
              "    <tr style=\"text-align: right;\">\n",
              "      <th></th>\n",
              "      <th>GRANDE_REG</th>\n",
              "      <th>COD_UF</th>\n",
              "      <th>SIGLA_UF</th>\n",
              "      <th>COD</th>\n",
              "      <th>NOME</th>\n",
              "      <th>TIPO</th>\n",
              "      <th>COD_CAT_ASSOC</th>\n",
              "      <th>CAT_ASSOC</th>\n",
              "      <th>COD_MUN</th>\n",
              "      <th>NOME_MUN</th>\n",
              "      <th>LEG</th>\n",
              "      <th>DATA</th>\n",
              "    </tr>\n",
              "  </thead>\n",
              "  <tbody>\n",
              "    <tr>\n",
              "      <th>0</th>\n",
              "      <td>Centro-Oeste</td>\n",
              "      <td>53</td>\n",
              "      <td>DF</td>\n",
              "      <td>5301</td>\n",
              "      <td>Região Integrada de Desenvolvimento do Distrit...</td>\n",
              "      <td>RIDE</td>\n",
              "      <td>530101</td>\n",
              "      <td>NÃO TEM</td>\n",
              "      <td>5300108</td>\n",
              "      <td>BRASÍLIA</td>\n",
              "      <td>DECRETO Nº 7469 - 04.05.2011 Regulamenta a Lei...</td>\n",
              "      <td>1998-02-19</td>\n",
              "    </tr>\n",
              "    <tr>\n",
              "      <th>1</th>\n",
              "      <td>Centro-Oeste</td>\n",
              "      <td>52</td>\n",
              "      <td>GO</td>\n",
              "      <td>5202</td>\n",
              "      <td>Região Integrada de Desenvolvimento do Distrit...</td>\n",
              "      <td>RIDE</td>\n",
              "      <td>520201</td>\n",
              "      <td>NÃO TEM</td>\n",
              "      <td>5200100</td>\n",
              "      <td>ABADIÂNIA</td>\n",
              "      <td>DECRETO Nº 7469 - 04.05.2011 Regulamenta a Lei...</td>\n",
              "      <td>1998-02-19</td>\n",
              "    </tr>\n",
              "    <tr>\n",
              "      <th>2</th>\n",
              "      <td>Centro-Oeste</td>\n",
              "      <td>52</td>\n",
              "      <td>GO</td>\n",
              "      <td>5202</td>\n",
              "      <td>Região Integrada de Desenvolvimento do Distrit...</td>\n",
              "      <td>RIDE</td>\n",
              "      <td>520201</td>\n",
              "      <td>NÃO TEM</td>\n",
              "      <td>5200175</td>\n",
              "      <td>ÁGUA FRIA DE GOIÁS</td>\n",
              "      <td>DECRETO Nº 7469 - 04.05.2011 Regulamenta a Lei...</td>\n",
              "      <td>1998-02-19</td>\n",
              "    </tr>\n",
              "    <tr>\n",
              "      <th>3</th>\n",
              "      <td>Centro-Oeste</td>\n",
              "      <td>52</td>\n",
              "      <td>GO</td>\n",
              "      <td>5202</td>\n",
              "      <td>Região Integrada de Desenvolvimento do Distrit...</td>\n",
              "      <td>RIDE</td>\n",
              "      <td>520201</td>\n",
              "      <td>NÃO TEM</td>\n",
              "      <td>5200258</td>\n",
              "      <td>ÁGUAS LINDAS DE GOIÁS</td>\n",
              "      <td>DECRETO Nº 7469 - 04.05.2011 Regulamenta a Lei...</td>\n",
              "      <td>1998-02-19</td>\n",
              "    </tr>\n",
              "    <tr>\n",
              "      <th>4</th>\n",
              "      <td>Centro-Oeste</td>\n",
              "      <td>52</td>\n",
              "      <td>GO</td>\n",
              "      <td>5202</td>\n",
              "      <td>Região Integrada de Desenvolvimento do Distrit...</td>\n",
              "      <td>RIDE</td>\n",
              "      <td>520201</td>\n",
              "      <td>NÃO TEM</td>\n",
              "      <td>5200308</td>\n",
              "      <td>ALEXÂNIA</td>\n",
              "      <td>DECRETO Nº 7469 - 04.05.2011 Regulamenta a Lei...</td>\n",
              "      <td>1998-02-19</td>\n",
              "    </tr>\n",
              "  </tbody>\n",
              "</table>\n",
              "</div>"
            ],
            "text/plain": [
              "     GRANDE_REG  ...       DATA\n",
              "0  Centro-Oeste  ... 1998-02-19\n",
              "1  Centro-Oeste  ... 1998-02-19\n",
              "2  Centro-Oeste  ... 1998-02-19\n",
              "3  Centro-Oeste  ... 1998-02-19\n",
              "4  Centro-Oeste  ... 1998-02-19\n",
              "\n",
              "[5 rows x 12 columns]"
            ]
          },
          "metadata": {},
          "execution_count": 30
        }
      ]
    },
    {
      "cell_type": "code",
      "metadata": {
        "colab": {
          "base_uri": "https://localhost:8080/"
        },
        "id": "leeulIvw6aoy",
        "outputId": "91aadb8a-ea82-4807-fc06-c0cfc18677ce"
      },
      "source": [
        "data.info"
      ],
      "execution_count": null,
      "outputs": [
        {
          "output_type": "execute_result",
          "data": {
            "text/plain": [
              "<bound method DataFrame.info of         GRANDE_REG  ...       DATA\n",
              "0     Centro-Oeste  ... 1998-02-19\n",
              "1     Centro-Oeste  ... 1998-02-19\n",
              "2     Centro-Oeste  ... 1998-02-19\n",
              "3     Centro-Oeste  ... 1998-02-19\n",
              "4     Centro-Oeste  ... 1998-02-19\n",
              "...            ...  ...        ...\n",
              "1415           Sul  ... 1998-01-06\n",
              "1416           Sul  ... 1998-01-06\n",
              "1417           Sul  ... 1998-01-06\n",
              "1418           Sul  ... 1998-01-06\n",
              "1419           Sul  ... 1998-01-06\n",
              "\n",
              "[1420 rows x 12 columns]>"
            ]
          },
          "metadata": {},
          "execution_count": 31
        }
      ]
    },
    {
      "cell_type": "markdown",
      "metadata": {
        "id": "427qddpD8X6Z"
      },
      "source": [
        "No código abaixo estou verificando a porcentagem de campos que estão nulos e com base nessas informações verificar a tem a necessidade de tratar esses dados."
      ]
    },
    {
      "cell_type": "code",
      "metadata": {
        "colab": {
          "base_uri": "https://localhost:8080/"
        },
        "id": "tQlfmKkZ8Ubh",
        "outputId": "dd46992c-fde1-4a17-a82e-c1a9ef3f5c90"
      },
      "source": [
        "(data.isnull().sum() / data.shape[0]).sort_values()"
      ],
      "execution_count": null,
      "outputs": [
        {
          "output_type": "execute_result",
          "data": {
            "text/plain": [
              "GRANDE_REG       0.0\n",
              "COD_UF           0.0\n",
              "SIGLA_UF         0.0\n",
              "COD              0.0\n",
              "NOME             0.0\n",
              "TIPO             0.0\n",
              "COD_CAT_ASSOC    0.0\n",
              "CAT_ASSOC        0.0\n",
              "COD_MUN          0.0\n",
              "NOME_MUN         0.0\n",
              "LEG              0.0\n",
              "DATA             0.0\n",
              "dtype: float64"
            ]
          },
          "metadata": {},
          "execution_count": 32
        }
      ]
    },
    {
      "cell_type": "markdown",
      "metadata": {
        "id": "nzv9BZg18vpq"
      },
      "source": [
        "Com o código acima podemos verificar que não é preciso efetuar nenhum tratamento de campos nulos."
      ]
    },
    {
      "cell_type": "markdown",
      "metadata": {
        "id": "zlqH2h5_4nG6"
      },
      "source": [
        "# Excluir as colunas: SIGLA_UF, NOME, NOME_MUN, LEG "
      ]
    },
    {
      "cell_type": "code",
      "metadata": {
        "colab": {
          "base_uri": "https://localhost:8080/",
          "height": 417
        },
        "id": "kRDmgoSX4pBY",
        "outputId": "0a06982a-bd04-4ce6-dfd0-58a7486b9d5d"
      },
      "source": [
        "data=data.drop(columns=['SIGLA_UF', 'NOME', 'NOME_MUN', 'LEG'])\n",
        "data.head(len(data))"
      ],
      "execution_count": null,
      "outputs": [
        {
          "output_type": "execute_result",
          "data": {
            "text/html": [
              "<div>\n",
              "<style scoped>\n",
              "    .dataframe tbody tr th:only-of-type {\n",
              "        vertical-align: middle;\n",
              "    }\n",
              "\n",
              "    .dataframe tbody tr th {\n",
              "        vertical-align: top;\n",
              "    }\n",
              "\n",
              "    .dataframe thead th {\n",
              "        text-align: right;\n",
              "    }\n",
              "</style>\n",
              "<table border=\"1\" class=\"dataframe\">\n",
              "  <thead>\n",
              "    <tr style=\"text-align: right;\">\n",
              "      <th></th>\n",
              "      <th>GRANDE_REG</th>\n",
              "      <th>COD_UF</th>\n",
              "      <th>COD</th>\n",
              "      <th>TIPO</th>\n",
              "      <th>COD_CAT_ASSOC</th>\n",
              "      <th>CAT_ASSOC</th>\n",
              "      <th>COD_MUN</th>\n",
              "      <th>DATA</th>\n",
              "    </tr>\n",
              "  </thead>\n",
              "  <tbody>\n",
              "    <tr>\n",
              "      <th>0</th>\n",
              "      <td>Centro-Oeste</td>\n",
              "      <td>53</td>\n",
              "      <td>5301</td>\n",
              "      <td>RIDE</td>\n",
              "      <td>530101</td>\n",
              "      <td>NÃO TEM</td>\n",
              "      <td>5300108</td>\n",
              "      <td>1998-02-19</td>\n",
              "    </tr>\n",
              "    <tr>\n",
              "      <th>1</th>\n",
              "      <td>Centro-Oeste</td>\n",
              "      <td>52</td>\n",
              "      <td>5202</td>\n",
              "      <td>RIDE</td>\n",
              "      <td>520201</td>\n",
              "      <td>NÃO TEM</td>\n",
              "      <td>5200100</td>\n",
              "      <td>1998-02-19</td>\n",
              "    </tr>\n",
              "    <tr>\n",
              "      <th>2</th>\n",
              "      <td>Centro-Oeste</td>\n",
              "      <td>52</td>\n",
              "      <td>5202</td>\n",
              "      <td>RIDE</td>\n",
              "      <td>520201</td>\n",
              "      <td>NÃO TEM</td>\n",
              "      <td>5200175</td>\n",
              "      <td>1998-02-19</td>\n",
              "    </tr>\n",
              "    <tr>\n",
              "      <th>3</th>\n",
              "      <td>Centro-Oeste</td>\n",
              "      <td>52</td>\n",
              "      <td>5202</td>\n",
              "      <td>RIDE</td>\n",
              "      <td>520201</td>\n",
              "      <td>NÃO TEM</td>\n",
              "      <td>5200258</td>\n",
              "      <td>1998-02-19</td>\n",
              "    </tr>\n",
              "    <tr>\n",
              "      <th>4</th>\n",
              "      <td>Centro-Oeste</td>\n",
              "      <td>52</td>\n",
              "      <td>5202</td>\n",
              "      <td>RIDE</td>\n",
              "      <td>520201</td>\n",
              "      <td>NÃO TEM</td>\n",
              "      <td>5200308</td>\n",
              "      <td>1998-02-19</td>\n",
              "    </tr>\n",
              "    <tr>\n",
              "      <th>...</th>\n",
              "      <td>...</td>\n",
              "      <td>...</td>\n",
              "      <td>...</td>\n",
              "      <td>...</td>\n",
              "      <td>...</td>\n",
              "      <td>...</td>\n",
              "      <td>...</td>\n",
              "      <td>...</td>\n",
              "    </tr>\n",
              "    <tr>\n",
              "      <th>1415</th>\n",
              "      <td>Sul</td>\n",
              "      <td>42</td>\n",
              "      <td>4202</td>\n",
              "      <td>RM</td>\n",
              "      <td>420201</td>\n",
              "      <td>Núcleo Metropolitano</td>\n",
              "      <td>4202404</td>\n",
              "      <td>1998-01-06</td>\n",
              "    </tr>\n",
              "    <tr>\n",
              "      <th>1416</th>\n",
              "      <td>Sul</td>\n",
              "      <td>42</td>\n",
              "      <td>4202</td>\n",
              "      <td>RM</td>\n",
              "      <td>420201</td>\n",
              "      <td>Núcleo Metropolitano</td>\n",
              "      <td>4205902</td>\n",
              "      <td>1998-01-06</td>\n",
              "    </tr>\n",
              "    <tr>\n",
              "      <th>1417</th>\n",
              "      <td>Sul</td>\n",
              "      <td>42</td>\n",
              "      <td>4202</td>\n",
              "      <td>RM</td>\n",
              "      <td>420201</td>\n",
              "      <td>Núcleo Metropolitano</td>\n",
              "      <td>4207502</td>\n",
              "      <td>1998-01-06</td>\n",
              "    </tr>\n",
              "    <tr>\n",
              "      <th>1418</th>\n",
              "      <td>Sul</td>\n",
              "      <td>42</td>\n",
              "      <td>4202</td>\n",
              "      <td>RM</td>\n",
              "      <td>420201</td>\n",
              "      <td>Núcleo Metropolitano</td>\n",
              "      <td>4213203</td>\n",
              "      <td>1998-01-06</td>\n",
              "    </tr>\n",
              "    <tr>\n",
              "      <th>1419</th>\n",
              "      <td>Sul</td>\n",
              "      <td>42</td>\n",
              "      <td>4202</td>\n",
              "      <td>RM</td>\n",
              "      <td>420201</td>\n",
              "      <td>Núcleo Metropolitano</td>\n",
              "      <td>4218202</td>\n",
              "      <td>1998-01-06</td>\n",
              "    </tr>\n",
              "  </tbody>\n",
              "</table>\n",
              "<p>1420 rows × 8 columns</p>\n",
              "</div>"
            ],
            "text/plain": [
              "        GRANDE_REG  COD_UF   COD  ...             CAT_ASSOC  COD_MUN       DATA\n",
              "0     Centro-Oeste      53  5301  ...               NÃO TEM  5300108 1998-02-19\n",
              "1     Centro-Oeste      52  5202  ...               NÃO TEM  5200100 1998-02-19\n",
              "2     Centro-Oeste      52  5202  ...               NÃO TEM  5200175 1998-02-19\n",
              "3     Centro-Oeste      52  5202  ...               NÃO TEM  5200258 1998-02-19\n",
              "4     Centro-Oeste      52  5202  ...               NÃO TEM  5200308 1998-02-19\n",
              "...            ...     ...   ...  ...                   ...      ...        ...\n",
              "1415           Sul      42  4202  ...  Núcleo Metropolitano  4202404 1998-01-06\n",
              "1416           Sul      42  4202  ...  Núcleo Metropolitano  4205902 1998-01-06\n",
              "1417           Sul      42  4202  ...  Núcleo Metropolitano  4207502 1998-01-06\n",
              "1418           Sul      42  4202  ...  Núcleo Metropolitano  4213203 1998-01-06\n",
              "1419           Sul      42  4202  ...  Núcleo Metropolitano  4218202 1998-01-06\n",
              "\n",
              "[1420 rows x 8 columns]"
            ]
          },
          "metadata": {},
          "execution_count": 33
        }
      ]
    },
    {
      "cell_type": "markdown",
      "metadata": {
        "id": "g02yyodo4p4z"
      },
      "source": [
        "# Discretizar os valores do campo: GRANDE_REG "
      ]
    },
    {
      "cell_type": "markdown",
      "metadata": {
        "id": "NjnEHEE57xFY"
      },
      "source": [
        "A coluna GRANDE_REG eu entendo que já está discretizada (por favor me corrija se eu estiver errado), a ideia aqui foi discretizar novamente as regiões em valores numericos, pois muitos algoritimos trabalham somente com numeros"
      ]
    },
    {
      "cell_type": "code",
      "metadata": {
        "id": "4CrVO3744r_o"
      },
      "source": [
        "data = data.replace(\"Norte\", 1).replace(\"Nordeste\", 2).replace(\"Centro-Oeste\", 3).replace(\"Sudeste\", 4).replace(\"Sul\", 5)"
      ],
      "execution_count": null,
      "outputs": []
    },
    {
      "cell_type": "markdown",
      "metadata": {
        "id": "Znk2t41g4sXz"
      },
      "source": [
        "# Exibir o novo arquivo após modificações  "
      ]
    },
    {
      "cell_type": "code",
      "metadata": {
        "colab": {
          "base_uri": "https://localhost:8080/",
          "height": 417
        },
        "id": "VDV2AKUl4wdy",
        "outputId": "45cd6292-e46a-4011-a434-ca1dbe7dc51f"
      },
      "source": [
        "data.head(len(data))"
      ],
      "execution_count": null,
      "outputs": [
        {
          "output_type": "execute_result",
          "data": {
            "text/html": [
              "<div>\n",
              "<style scoped>\n",
              "    .dataframe tbody tr th:only-of-type {\n",
              "        vertical-align: middle;\n",
              "    }\n",
              "\n",
              "    .dataframe tbody tr th {\n",
              "        vertical-align: top;\n",
              "    }\n",
              "\n",
              "    .dataframe thead th {\n",
              "        text-align: right;\n",
              "    }\n",
              "</style>\n",
              "<table border=\"1\" class=\"dataframe\">\n",
              "  <thead>\n",
              "    <tr style=\"text-align: right;\">\n",
              "      <th></th>\n",
              "      <th>GRANDE_REG</th>\n",
              "      <th>COD_UF</th>\n",
              "      <th>COD</th>\n",
              "      <th>TIPO</th>\n",
              "      <th>COD_CAT_ASSOC</th>\n",
              "      <th>CAT_ASSOC</th>\n",
              "      <th>COD_MUN</th>\n",
              "      <th>DATA</th>\n",
              "    </tr>\n",
              "  </thead>\n",
              "  <tbody>\n",
              "    <tr>\n",
              "      <th>0</th>\n",
              "      <td>3</td>\n",
              "      <td>53</td>\n",
              "      <td>5301</td>\n",
              "      <td>RIDE</td>\n",
              "      <td>530101</td>\n",
              "      <td>NÃO TEM</td>\n",
              "      <td>5300108</td>\n",
              "      <td>1998-02-19</td>\n",
              "    </tr>\n",
              "    <tr>\n",
              "      <th>1</th>\n",
              "      <td>3</td>\n",
              "      <td>52</td>\n",
              "      <td>5202</td>\n",
              "      <td>RIDE</td>\n",
              "      <td>520201</td>\n",
              "      <td>NÃO TEM</td>\n",
              "      <td>5200100</td>\n",
              "      <td>1998-02-19</td>\n",
              "    </tr>\n",
              "    <tr>\n",
              "      <th>2</th>\n",
              "      <td>3</td>\n",
              "      <td>52</td>\n",
              "      <td>5202</td>\n",
              "      <td>RIDE</td>\n",
              "      <td>520201</td>\n",
              "      <td>NÃO TEM</td>\n",
              "      <td>5200175</td>\n",
              "      <td>1998-02-19</td>\n",
              "    </tr>\n",
              "    <tr>\n",
              "      <th>3</th>\n",
              "      <td>3</td>\n",
              "      <td>52</td>\n",
              "      <td>5202</td>\n",
              "      <td>RIDE</td>\n",
              "      <td>520201</td>\n",
              "      <td>NÃO TEM</td>\n",
              "      <td>5200258</td>\n",
              "      <td>1998-02-19</td>\n",
              "    </tr>\n",
              "    <tr>\n",
              "      <th>4</th>\n",
              "      <td>3</td>\n",
              "      <td>52</td>\n",
              "      <td>5202</td>\n",
              "      <td>RIDE</td>\n",
              "      <td>520201</td>\n",
              "      <td>NÃO TEM</td>\n",
              "      <td>5200308</td>\n",
              "      <td>1998-02-19</td>\n",
              "    </tr>\n",
              "    <tr>\n",
              "      <th>...</th>\n",
              "      <td>...</td>\n",
              "      <td>...</td>\n",
              "      <td>...</td>\n",
              "      <td>...</td>\n",
              "      <td>...</td>\n",
              "      <td>...</td>\n",
              "      <td>...</td>\n",
              "      <td>...</td>\n",
              "    </tr>\n",
              "    <tr>\n",
              "      <th>1415</th>\n",
              "      <td>5</td>\n",
              "      <td>42</td>\n",
              "      <td>4202</td>\n",
              "      <td>RM</td>\n",
              "      <td>420201</td>\n",
              "      <td>Núcleo Metropolitano</td>\n",
              "      <td>4202404</td>\n",
              "      <td>1998-01-06</td>\n",
              "    </tr>\n",
              "    <tr>\n",
              "      <th>1416</th>\n",
              "      <td>5</td>\n",
              "      <td>42</td>\n",
              "      <td>4202</td>\n",
              "      <td>RM</td>\n",
              "      <td>420201</td>\n",
              "      <td>Núcleo Metropolitano</td>\n",
              "      <td>4205902</td>\n",
              "      <td>1998-01-06</td>\n",
              "    </tr>\n",
              "    <tr>\n",
              "      <th>1417</th>\n",
              "      <td>5</td>\n",
              "      <td>42</td>\n",
              "      <td>4202</td>\n",
              "      <td>RM</td>\n",
              "      <td>420201</td>\n",
              "      <td>Núcleo Metropolitano</td>\n",
              "      <td>4207502</td>\n",
              "      <td>1998-01-06</td>\n",
              "    </tr>\n",
              "    <tr>\n",
              "      <th>1418</th>\n",
              "      <td>5</td>\n",
              "      <td>42</td>\n",
              "      <td>4202</td>\n",
              "      <td>RM</td>\n",
              "      <td>420201</td>\n",
              "      <td>Núcleo Metropolitano</td>\n",
              "      <td>4213203</td>\n",
              "      <td>1998-01-06</td>\n",
              "    </tr>\n",
              "    <tr>\n",
              "      <th>1419</th>\n",
              "      <td>5</td>\n",
              "      <td>42</td>\n",
              "      <td>4202</td>\n",
              "      <td>RM</td>\n",
              "      <td>420201</td>\n",
              "      <td>Núcleo Metropolitano</td>\n",
              "      <td>4218202</td>\n",
              "      <td>1998-01-06</td>\n",
              "    </tr>\n",
              "  </tbody>\n",
              "</table>\n",
              "<p>1420 rows × 8 columns</p>\n",
              "</div>"
            ],
            "text/plain": [
              "      GRANDE_REG  COD_UF   COD  ...             CAT_ASSOC  COD_MUN       DATA\n",
              "0              3      53  5301  ...               NÃO TEM  5300108 1998-02-19\n",
              "1              3      52  5202  ...               NÃO TEM  5200100 1998-02-19\n",
              "2              3      52  5202  ...               NÃO TEM  5200175 1998-02-19\n",
              "3              3      52  5202  ...               NÃO TEM  5200258 1998-02-19\n",
              "4              3      52  5202  ...               NÃO TEM  5200308 1998-02-19\n",
              "...          ...     ...   ...  ...                   ...      ...        ...\n",
              "1415           5      42  4202  ...  Núcleo Metropolitano  4202404 1998-01-06\n",
              "1416           5      42  4202  ...  Núcleo Metropolitano  4205902 1998-01-06\n",
              "1417           5      42  4202  ...  Núcleo Metropolitano  4207502 1998-01-06\n",
              "1418           5      42  4202  ...  Núcleo Metropolitano  4213203 1998-01-06\n",
              "1419           5      42  4202  ...  Núcleo Metropolitano  4218202 1998-01-06\n",
              "\n",
              "[1420 rows x 8 columns]"
            ]
          },
          "metadata": {},
          "execution_count": 35
        }
      ]
    }
  ]
}