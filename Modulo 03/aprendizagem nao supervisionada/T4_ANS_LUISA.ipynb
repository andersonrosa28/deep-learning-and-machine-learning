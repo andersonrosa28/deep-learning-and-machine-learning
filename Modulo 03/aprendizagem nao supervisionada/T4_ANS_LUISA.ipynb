{
  "nbformat": 4,
  "nbformat_minor": 0,
  "metadata": {
    "colab": {
      "name": "T4.ANS.LUISA",
      "provenance": [],
      "collapsed_sections": []
    },
    "kernelspec": {
      "name": "python3",
      "display_name": "Python 3"
    },
    "language_info": {
      "name": "python"
    }
  },
  "cells": [
    {
      "cell_type": "markdown",
      "metadata": {
        "id": "QIHtc4WE7n70"
      },
      "source": [
        "Tarefa de aprofundamento - trilha 4 - Luisa Centofanti - 92101399"
      ]
    },
    {
      "cell_type": "markdown",
      "metadata": {
        "id": "YSQP2EYR6gR_"
      },
      "source": [
        "Inicialmente transformou-se o arquivo de extensão .ods em excel"
      ]
    },
    {
      "cell_type": "code",
      "metadata": {
        "id": "otAdbHeH6kjB"
      },
      "source": [
        "import numpy as np\n",
        "import pandas as pd\n",
        "import matplotlib.pyplot as plt\n",
        "import seaborn as sns"
      ],
      "execution_count": 80,
      "outputs": []
    },
    {
      "cell_type": "code",
      "metadata": {
        "colab": {
          "resources": {
            "http://localhost:8080/nbextensions/google.colab/files.js": {
              "data": "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",
              "ok": true,
              "headers": [
                [
                  "content-type",
                  "application/javascript"
                ]
              ],
              "status": 200,
              "status_text": ""
            }
          },
          "base_uri": "https://localhost:8080/",
          "height": 74
        },
        "id": "HAnJ-dVd7wjT",
        "outputId": "b9209699-ea7a-41ee-9a4e-9ac95a65bd97"
      },
      "source": [
        "from google.colab import files\n",
        "uploaded = files.upload()"
      ],
      "execution_count": 81,
      "outputs": [
        {
          "output_type": "display_data",
          "data": {
            "text/html": [
              "\n",
              "     <input type=\"file\" id=\"files-eb093b0b-2218-46a2-b2df-b3e262e8bf64\" name=\"files[]\" multiple disabled\n",
              "        style=\"border:none\" />\n",
              "     <output id=\"result-eb093b0b-2218-46a2-b2df-b3e262e8bf64\">\n",
              "      Upload widget is only available when the cell has been executed in the\n",
              "      current browser session. Please rerun this cell to enable.\n",
              "      </output>\n",
              "      <script src=\"/nbextensions/google.colab/files.js\"></script> "
            ],
            "text/plain": [
              "<IPython.core.display.HTML object>"
            ]
          },
          "metadata": {}
        },
        {
          "output_type": "stream",
          "name": "stdout",
          "text": [
            "Saving tab.T4.xlsm to tab.T4 (4).xlsm\n"
          ]
        }
      ]
    },
    {
      "cell_type": "code",
      "metadata": {
        "id": "LLcnEBUv7wgr"
      },
      "source": [
        "# importando io para carregar o arquivo\n",
        "import io"
      ],
      "execution_count": 82,
      "outputs": []
    },
    {
      "cell_type": "code",
      "metadata": {
        "id": "m7DTpOi87wet"
      },
      "source": [
        "#importando arquivo\n",
        "data = pd.read_excel(io.BytesIO(uploaded['tab.T4.xlsm']))"
      ],
      "execution_count": 83,
      "outputs": []
    },
    {
      "cell_type": "code",
      "metadata": {
        "colab": {
          "base_uri": "https://localhost:8080/",
          "height": 293
        },
        "id": "csn76PVU7wcK",
        "outputId": "d4eb77ab-5021-4e67-dbb0-6b7d25f7134e"
      },
      "source": [
        "data.head()"
      ],
      "execution_count": 84,
      "outputs": [
        {
          "output_type": "execute_result",
          "data": {
            "text/html": [
              "<div>\n",
              "<style scoped>\n",
              "    .dataframe tbody tr th:only-of-type {\n",
              "        vertical-align: middle;\n",
              "    }\n",
              "\n",
              "    .dataframe tbody tr th {\n",
              "        vertical-align: top;\n",
              "    }\n",
              "\n",
              "    .dataframe thead th {\n",
              "        text-align: right;\n",
              "    }\n",
              "</style>\n",
              "<table border=\"1\" class=\"dataframe\">\n",
              "  <thead>\n",
              "    <tr style=\"text-align: right;\">\n",
              "      <th></th>\n",
              "      <th>GRANDE_REG</th>\n",
              "      <th>COD_UF</th>\n",
              "      <th>SIGLA_UF</th>\n",
              "      <th>COD</th>\n",
              "      <th>NOME</th>\n",
              "      <th>TIPO</th>\n",
              "      <th>COD_CAT_ASSOC</th>\n",
              "      <th>CAT_ASSOC</th>\n",
              "      <th>COD_MUN</th>\n",
              "      <th>NOME_MUN</th>\n",
              "      <th>LEG</th>\n",
              "      <th>DATA</th>\n",
              "    </tr>\n",
              "  </thead>\n",
              "  <tbody>\n",
              "    <tr>\n",
              "      <th>0</th>\n",
              "      <td>Centro-Oeste</td>\n",
              "      <td>53</td>\n",
              "      <td>DF</td>\n",
              "      <td>5301</td>\n",
              "      <td>Região Integrada de Desenvolvimento do Distrit...</td>\n",
              "      <td>RIDE</td>\n",
              "      <td>530101</td>\n",
              "      <td>NÃO TEM</td>\n",
              "      <td>5300108</td>\n",
              "      <td>BRASÍLIA</td>\n",
              "      <td>DECRETO Nº 7469 - 04.05.2011 Regulamenta a Lei...</td>\n",
              "      <td>1998-02-19</td>\n",
              "    </tr>\n",
              "    <tr>\n",
              "      <th>1</th>\n",
              "      <td>Centro-Oeste</td>\n",
              "      <td>52</td>\n",
              "      <td>GO</td>\n",
              "      <td>5202</td>\n",
              "      <td>Região Integrada de Desenvolvimento do Distrit...</td>\n",
              "      <td>RIDE</td>\n",
              "      <td>520201</td>\n",
              "      <td>NÃO TEM</td>\n",
              "      <td>5200100</td>\n",
              "      <td>ABADIÂNIA</td>\n",
              "      <td>DECRETO Nº 7469 - 04.05.2011 Regulamenta a Lei...</td>\n",
              "      <td>1998-02-19</td>\n",
              "    </tr>\n",
              "    <tr>\n",
              "      <th>2</th>\n",
              "      <td>Centro-Oeste</td>\n",
              "      <td>52</td>\n",
              "      <td>GO</td>\n",
              "      <td>5202</td>\n",
              "      <td>Região Integrada de Desenvolvimento do Distrit...</td>\n",
              "      <td>RIDE</td>\n",
              "      <td>520201</td>\n",
              "      <td>NÃO TEM</td>\n",
              "      <td>5200175</td>\n",
              "      <td>ÁGUA FRIA DE GOIÁS</td>\n",
              "      <td>DECRETO Nº 7469 - 04.05.2011 Regulamenta a Lei...</td>\n",
              "      <td>1998-02-19</td>\n",
              "    </tr>\n",
              "    <tr>\n",
              "      <th>3</th>\n",
              "      <td>Centro-Oeste</td>\n",
              "      <td>52</td>\n",
              "      <td>GO</td>\n",
              "      <td>5202</td>\n",
              "      <td>Região Integrada de Desenvolvimento do Distrit...</td>\n",
              "      <td>RIDE</td>\n",
              "      <td>520201</td>\n",
              "      <td>NÃO TEM</td>\n",
              "      <td>5200258</td>\n",
              "      <td>ÁGUAS LINDAS DE GOIÁS</td>\n",
              "      <td>DECRETO Nº 7469 - 04.05.2011 Regulamenta a Lei...</td>\n",
              "      <td>1998-02-19</td>\n",
              "    </tr>\n",
              "    <tr>\n",
              "      <th>4</th>\n",
              "      <td>Centro-Oeste</td>\n",
              "      <td>52</td>\n",
              "      <td>GO</td>\n",
              "      <td>5202</td>\n",
              "      <td>Região Integrada de Desenvolvimento do Distrit...</td>\n",
              "      <td>RIDE</td>\n",
              "      <td>520201</td>\n",
              "      <td>NÃO TEM</td>\n",
              "      <td>5200308</td>\n",
              "      <td>ALEXÂNIA</td>\n",
              "      <td>DECRETO Nº 7469 - 04.05.2011 Regulamenta a Lei...</td>\n",
              "      <td>1998-02-19</td>\n",
              "    </tr>\n",
              "  </tbody>\n",
              "</table>\n",
              "</div>"
            ],
            "text/plain": [
              "     GRANDE_REG  ...       DATA\n",
              "0  Centro-Oeste  ... 1998-02-19\n",
              "1  Centro-Oeste  ... 1998-02-19\n",
              "2  Centro-Oeste  ... 1998-02-19\n",
              "3  Centro-Oeste  ... 1998-02-19\n",
              "4  Centro-Oeste  ... 1998-02-19\n",
              "\n",
              "[5 rows x 12 columns]"
            ]
          },
          "metadata": {},
          "execution_count": 84
        }
      ]
    },
    {
      "cell_type": "code",
      "metadata": {
        "colab": {
          "base_uri": "https://localhost:8080/",
          "height": 293
        },
        "id": "d8VN1PC0DT8L",
        "outputId": "da36a8e0-7194-4560-8680-c8e95e1b6767"
      },
      "source": [
        "#apagando coluna data\n",
        "data=data.drop(columns=['DATA'])\n",
        "data.head()"
      ],
      "execution_count": 86,
      "outputs": [
        {
          "output_type": "execute_result",
          "data": {
            "text/html": [
              "<div>\n",
              "<style scoped>\n",
              "    .dataframe tbody tr th:only-of-type {\n",
              "        vertical-align: middle;\n",
              "    }\n",
              "\n",
              "    .dataframe tbody tr th {\n",
              "        vertical-align: top;\n",
              "    }\n",
              "\n",
              "    .dataframe thead th {\n",
              "        text-align: right;\n",
              "    }\n",
              "</style>\n",
              "<table border=\"1\" class=\"dataframe\">\n",
              "  <thead>\n",
              "    <tr style=\"text-align: right;\">\n",
              "      <th></th>\n",
              "      <th>GRANDE_REG</th>\n",
              "      <th>COD_UF</th>\n",
              "      <th>SIGLA_UF</th>\n",
              "      <th>COD</th>\n",
              "      <th>NOME</th>\n",
              "      <th>TIPO</th>\n",
              "      <th>COD_CAT_ASSOC</th>\n",
              "      <th>CAT_ASSOC</th>\n",
              "      <th>COD_MUN</th>\n",
              "      <th>NOME_MUN</th>\n",
              "      <th>LEG</th>\n",
              "    </tr>\n",
              "  </thead>\n",
              "  <tbody>\n",
              "    <tr>\n",
              "      <th>0</th>\n",
              "      <td>Centro-Oeste</td>\n",
              "      <td>53</td>\n",
              "      <td>DF</td>\n",
              "      <td>5301</td>\n",
              "      <td>Região Integrada de Desenvolvimento do Distrit...</td>\n",
              "      <td>RIDE</td>\n",
              "      <td>530101</td>\n",
              "      <td>NÃO TEM</td>\n",
              "      <td>5300108</td>\n",
              "      <td>BRASÍLIA</td>\n",
              "      <td>DECRETO Nº 7469 - 04.05.2011 Regulamenta a Lei...</td>\n",
              "    </tr>\n",
              "    <tr>\n",
              "      <th>1</th>\n",
              "      <td>Centro-Oeste</td>\n",
              "      <td>52</td>\n",
              "      <td>GO</td>\n",
              "      <td>5202</td>\n",
              "      <td>Região Integrada de Desenvolvimento do Distrit...</td>\n",
              "      <td>RIDE</td>\n",
              "      <td>520201</td>\n",
              "      <td>NÃO TEM</td>\n",
              "      <td>5200100</td>\n",
              "      <td>ABADIÂNIA</td>\n",
              "      <td>DECRETO Nº 7469 - 04.05.2011 Regulamenta a Lei...</td>\n",
              "    </tr>\n",
              "    <tr>\n",
              "      <th>2</th>\n",
              "      <td>Centro-Oeste</td>\n",
              "      <td>52</td>\n",
              "      <td>GO</td>\n",
              "      <td>5202</td>\n",
              "      <td>Região Integrada de Desenvolvimento do Distrit...</td>\n",
              "      <td>RIDE</td>\n",
              "      <td>520201</td>\n",
              "      <td>NÃO TEM</td>\n",
              "      <td>5200175</td>\n",
              "      <td>ÁGUA FRIA DE GOIÁS</td>\n",
              "      <td>DECRETO Nº 7469 - 04.05.2011 Regulamenta a Lei...</td>\n",
              "    </tr>\n",
              "    <tr>\n",
              "      <th>3</th>\n",
              "      <td>Centro-Oeste</td>\n",
              "      <td>52</td>\n",
              "      <td>GO</td>\n",
              "      <td>5202</td>\n",
              "      <td>Região Integrada de Desenvolvimento do Distrit...</td>\n",
              "      <td>RIDE</td>\n",
              "      <td>520201</td>\n",
              "      <td>NÃO TEM</td>\n",
              "      <td>5200258</td>\n",
              "      <td>ÁGUAS LINDAS DE GOIÁS</td>\n",
              "      <td>DECRETO Nº 7469 - 04.05.2011 Regulamenta a Lei...</td>\n",
              "    </tr>\n",
              "    <tr>\n",
              "      <th>4</th>\n",
              "      <td>Centro-Oeste</td>\n",
              "      <td>52</td>\n",
              "      <td>GO</td>\n",
              "      <td>5202</td>\n",
              "      <td>Região Integrada de Desenvolvimento do Distrit...</td>\n",
              "      <td>RIDE</td>\n",
              "      <td>520201</td>\n",
              "      <td>NÃO TEM</td>\n",
              "      <td>5200308</td>\n",
              "      <td>ALEXÂNIA</td>\n",
              "      <td>DECRETO Nº 7469 - 04.05.2011 Regulamenta a Lei...</td>\n",
              "    </tr>\n",
              "  </tbody>\n",
              "</table>\n",
              "</div>"
            ],
            "text/plain": [
              "     GRANDE_REG  ...                                                LEG\n",
              "0  Centro-Oeste  ...  DECRETO Nº 7469 - 04.05.2011 Regulamenta a Lei...\n",
              "1  Centro-Oeste  ...  DECRETO Nº 7469 - 04.05.2011 Regulamenta a Lei...\n",
              "2  Centro-Oeste  ...  DECRETO Nº 7469 - 04.05.2011 Regulamenta a Lei...\n",
              "3  Centro-Oeste  ...  DECRETO Nº 7469 - 04.05.2011 Regulamenta a Lei...\n",
              "4  Centro-Oeste  ...  DECRETO Nº 7469 - 04.05.2011 Regulamenta a Lei...\n",
              "\n",
              "[5 rows x 11 columns]"
            ]
          },
          "metadata": {},
          "execution_count": 86
        }
      ]
    },
    {
      "cell_type": "code",
      "metadata": {
        "colab": {
          "base_uri": "https://localhost:8080/"
        },
        "id": "GU8lS-gi7wZi",
        "outputId": "79bbef13-ff1e-4f55-ef29-954e4b29f1e6"
      },
      "source": [
        "# mostrando informações do conjunto de dados importado\n",
        "data.info"
      ],
      "execution_count": 87,
      "outputs": [
        {
          "output_type": "execute_result",
          "data": {
            "text/plain": [
              "<bound method DataFrame.info of         GRANDE_REG  ...                                                LEG\n",
              "0     Centro-Oeste  ...  DECRETO Nº 7469 - 04.05.2011 Regulamenta a Lei...\n",
              "1     Centro-Oeste  ...  DECRETO Nº 7469 - 04.05.2011 Regulamenta a Lei...\n",
              "2     Centro-Oeste  ...  DECRETO Nº 7469 - 04.05.2011 Regulamenta a Lei...\n",
              "3     Centro-Oeste  ...  DECRETO Nº 7469 - 04.05.2011 Regulamenta a Lei...\n",
              "4     Centro-Oeste  ...  DECRETO Nº 7469 - 04.05.2011 Regulamenta a Lei...\n",
              "...            ...  ...                                                ...\n",
              "1415           Sul  ...                               Lei Complementar 162\n",
              "1416           Sul  ...                               Lei Complementar 162\n",
              "1417           Sul  ...                               Lei Complementar 162\n",
              "1418           Sul  ...                               Lei Complementar 162\n",
              "1419           Sul  ...                               Lei Complementar 162\n",
              "\n",
              "[1420 rows x 11 columns]>"
            ]
          },
          "metadata": {},
          "execution_count": 87
        }
      ]
    },
    {
      "cell_type": "code",
      "metadata": {
        "colab": {
          "base_uri": "https://localhost:8080/",
          "height": 226
        },
        "id": "I4tZ-wjT7wVC",
        "outputId": "cd76a388-9be4-482f-847a-b987262fee64"
      },
      "source": [
        "# mostrando tipo do conjunto de dados\n",
        "display(data.dtypes)"
      ],
      "execution_count": 88,
      "outputs": [
        {
          "output_type": "display_data",
          "data": {
            "text/plain": [
              "GRANDE_REG       object\n",
              "COD_UF            int64\n",
              "SIGLA_UF         object\n",
              "COD               int64\n",
              "NOME             object\n",
              "TIPO             object\n",
              "COD_CAT_ASSOC    object\n",
              "CAT_ASSOC        object\n",
              "COD_MUN           int64\n",
              "NOME_MUN         object\n",
              "LEG              object\n",
              "dtype: object"
            ]
          },
          "metadata": {}
        }
      ]
    },
    {
      "cell_type": "code",
      "metadata": {
        "colab": {
          "base_uri": "https://localhost:8080/"
        },
        "id": "JKnHVSkU7wS7",
        "outputId": "34cc4036-5fc5-4de9-90ee-22b53448d692"
      },
      "source": [
        "#porcentagem de faltantes\n",
        "(data.isnull().sum() / data.shape[0]).sort_values(ascending=False)"
      ],
      "execution_count": 89,
      "outputs": [
        {
          "output_type": "execute_result",
          "data": {
            "text/plain": [
              "LEG              0.0\n",
              "NOME_MUN         0.0\n",
              "COD_MUN          0.0\n",
              "CAT_ASSOC        0.0\n",
              "COD_CAT_ASSOC    0.0\n",
              "TIPO             0.0\n",
              "NOME             0.0\n",
              "COD              0.0\n",
              "SIGLA_UF         0.0\n",
              "COD_UF           0.0\n",
              "GRANDE_REG       0.0\n",
              "dtype: float64"
            ]
          },
          "metadata": {},
          "execution_count": 89
        }
      ]
    },
    {
      "cell_type": "markdown",
      "metadata": {
        "id": "4knBB7hZ82ks"
      },
      "source": [
        "#Nenhum dado faltante!"
      ]
    },
    {
      "cell_type": "code",
      "metadata": {
        "colab": {
          "base_uri": "https://localhost:8080/"
        },
        "id": "SiLrd4rb484t",
        "outputId": "38e1e84c-acac-4282-9d94-fa87fb211e1b"
      },
      "source": [
        "# Remove linhas duplicadas\n",
        "data = data.drop_duplicates()\n",
        "data.info()"
      ],
      "execution_count": 90,
      "outputs": [
        {
          "output_type": "stream",
          "name": "stdout",
          "text": [
            "<class 'pandas.core.frame.DataFrame'>\n",
            "Int64Index: 1420 entries, 0 to 1419\n",
            "Data columns (total 11 columns):\n",
            " #   Column         Non-Null Count  Dtype \n",
            "---  ------         --------------  ----- \n",
            " 0   GRANDE_REG     1420 non-null   object\n",
            " 1   COD_UF         1420 non-null   int64 \n",
            " 2   SIGLA_UF       1420 non-null   object\n",
            " 3   COD            1420 non-null   int64 \n",
            " 4   NOME           1420 non-null   object\n",
            " 5   TIPO           1420 non-null   object\n",
            " 6   COD_CAT_ASSOC  1420 non-null   object\n",
            " 7   CAT_ASSOC      1420 non-null   object\n",
            " 8   COD_MUN        1420 non-null   int64 \n",
            " 9   NOME_MUN       1420 non-null   object\n",
            " 10  LEG            1420 non-null   object\n",
            "dtypes: int64(3), object(8)\n",
            "memory usage: 133.1+ KB\n"
          ]
        }
      ]
    },
    {
      "cell_type": "code",
      "metadata": {
        "colab": {
          "base_uri": "https://localhost:8080/"
        },
        "id": "wYCjKWGO48zB",
        "outputId": "c5ad18df-c775-413a-ac46-c159f9c3ffe6"
      },
      "source": [
        "#Cria coluna para indicar non-null\n",
        "data = pd.get_dummies(data, columns=['GRANDE_REG'])\n",
        "data = pd.get_dummies(data, columns=['SIGLA_UF'])\n",
        "data = pd.get_dummies(data, columns=['NOME'])\n",
        "data = pd.get_dummies(data, columns=['TIPO'])\n",
        "data = pd.get_dummies(data, columns=['CAT_ASSOC'])\n",
        "data = pd.get_dummies(data, columns=['COD_CAT_ASSOC'])\n",
        "data = pd.get_dummies(data, columns=['NOME_MUN'])\n",
        "data = pd.get_dummies(data, columns=['LEG'])\n",
        "data.info()"
      ],
      "execution_count": 91,
      "outputs": [
        {
          "output_type": "stream",
          "name": "stdout",
          "text": [
            "<class 'pandas.core.frame.DataFrame'>\n",
            "Int64Index: 1420 entries, 0 to 1419\n",
            "Columns: 1782 entries, COD_UF to LEG_inclusão de município - Lei Complementar  78 de 25.03.2010\n",
            "dtypes: int64(3), uint8(1779)\n",
            "memory usage: 2.5 MB\n"
          ]
        }
      ]
    },
    {
      "cell_type": "code",
      "metadata": {
        "colab": {
          "base_uri": "https://localhost:8080/"
        },
        "id": "9U1z76We481l",
        "outputId": "fcd888e9-bd87-4034-86e5-7135b83e8483"
      },
      "source": [
        "# Remove linhas com non-null\n",
        "data = data.dropna()\n",
        "data.info()"
      ],
      "execution_count": 92,
      "outputs": [
        {
          "output_type": "stream",
          "name": "stdout",
          "text": [
            "<class 'pandas.core.frame.DataFrame'>\n",
            "Int64Index: 1420 entries, 0 to 1419\n",
            "Columns: 1782 entries, COD_UF to LEG_inclusão de município - Lei Complementar  78 de 25.03.2010\n",
            "dtypes: int64(3), uint8(1779)\n",
            "memory usage: 2.5 MB\n"
          ]
        }
      ]
    },
    {
      "cell_type": "code",
      "metadata": {
        "colab": {
          "base_uri": "https://localhost:8080/"
        },
        "id": "ukwaaf1N5jYV",
        "outputId": "3facfe5d-94d4-43b3-a198-2dd6ff83bcca"
      },
      "source": [
        "X=data.values\n",
        "X.shape"
      ],
      "execution_count": 93,
      "outputs": [
        {
          "output_type": "execute_result",
          "data": {
            "text/plain": [
              "(1420, 1782)"
            ]
          },
          "metadata": {},
          "execution_count": 93
        }
      ]
    },
    {
      "cell_type": "code",
      "metadata": {
        "colab": {
          "base_uri": "https://localhost:8080/",
          "height": 471
        },
        "id": "9VquB5K0HTuw",
        "outputId": "84db44b0-c431-4f38-fa83-3a902e2b661d"
      },
      "source": [
        "#distribuição estatística\n",
        "data.describe()"
      ],
      "execution_count": 94,
      "outputs": [
        {
          "output_type": "execute_result",
          "data": {
            "text/html": [
              "<div>\n",
              "<style scoped>\n",
              "    .dataframe tbody tr th:only-of-type {\n",
              "        vertical-align: middle;\n",
              "    }\n",
              "\n",
              "    .dataframe tbody tr th {\n",
              "        vertical-align: top;\n",
              "    }\n",
              "\n",
              "    .dataframe thead th {\n",
              "        text-align: right;\n",
              "    }\n",
              "</style>\n",
              "<table border=\"1\" class=\"dataframe\">\n",
              "  <thead>\n",
              "    <tr style=\"text-align: right;\">\n",
              "      <th></th>\n",
              "      <th>COD_UF</th>\n",
              "      <th>COD</th>\n",
              "      <th>COD_MUN</th>\n",
              "      <th>GRANDE_REG_Centro-Oeste</th>\n",
              "      <th>GRANDE_REG_Nordeste</th>\n",
              "      <th>GRANDE_REG_Norte</th>\n",
              "      <th>GRANDE_REG_Sudeste</th>\n",
              "      <th>GRANDE_REG_Sul</th>\n",
              "      <th>SIGLA_UF_AL</th>\n",
              "      <th>SIGLA_UF_AM</th>\n",
              "      <th>SIGLA_UF_AP</th>\n",
              "      <th>SIGLA_UF_BA</th>\n",
              "      <th>SIGLA_UF_CE</th>\n",
              "      <th>SIGLA_UF_DF</th>\n",
              "      <th>SIGLA_UF_ES</th>\n",
              "      <th>SIGLA_UF_GO</th>\n",
              "      <th>SIGLA_UF_MA</th>\n",
              "      <th>SIGLA_UF_MG</th>\n",
              "      <th>SIGLA_UF_MT</th>\n",
              "      <th>SIGLA_UF_PA</th>\n",
              "      <th>SIGLA_UF_PB</th>\n",
              "      <th>SIGLA_UF_PE</th>\n",
              "      <th>SIGLA_UF_PI</th>\n",
              "      <th>SIGLA_UF_PR</th>\n",
              "      <th>SIGLA_UF_RJ</th>\n",
              "      <th>SIGLA_UF_RN</th>\n",
              "      <th>SIGLA_UF_RO</th>\n",
              "      <th>SIGLA_UF_RR</th>\n",
              "      <th>SIGLA_UF_RS</th>\n",
              "      <th>SIGLA_UF_SC</th>\n",
              "      <th>SIGLA_UF_SE</th>\n",
              "      <th>SIGLA_UF_SP</th>\n",
              "      <th>SIGLA_UF_TO</th>\n",
              "      <th>NOME_Aglomeração Urbana de Franca</th>\n",
              "      <th>NOME_Aglomeração Urbana de Jundiaí</th>\n",
              "      <th>NOME_Aglomeração Urbana de Piracicaba-AU- Piracicaba</th>\n",
              "      <th>NOME_Aglomeração Urbana do Litoral Norte</th>\n",
              "      <th>NOME_Aglomeração Urbana do Sul</th>\n",
              "      <th>NOME_Região Administrativa Integrada de Desenvolvimento do Polo Petrolina/PE e Juazeiro/BA</th>\n",
              "      <th>NOME_Região Integrada de Desenvolvimento da Grande Teresina</th>\n",
              "      <th>...</th>\n",
              "      <th>LEG_Lei Complementar 31</th>\n",
              "      <th>LEG_Lei Complementar 318</th>\n",
              "      <th>LEG_Lei Complementar 32</th>\n",
              "      <th>LEG_Lei Complementar 33</th>\n",
              "      <th>LEG_Lei Complementar 35</th>\n",
              "      <th>LEG_Lei Complementar 359</th>\n",
              "      <th>LEG_Lei Complementar 36</th>\n",
              "      <th>LEG_Lei Complementar 39</th>\n",
              "      <th>LEG_Lei Complementar 40</th>\n",
              "      <th>LEG_Lei Complementar 48</th>\n",
              "      <th>LEG_Lei Complementar 49</th>\n",
              "      <th>LEG_Lei Complementar 523</th>\n",
              "      <th>LEG_Lei Complementar 540</th>\n",
              "      <th>LEG_Lei Complementar 56</th>\n",
              "      <th>LEG_Lei Complementar 571</th>\n",
              "      <th>LEG_Lei Complementar 577</th>\n",
              "      <th>LEG_Lei Complementar 580</th>\n",
              "      <th>LEG_Lei Complementar 59</th>\n",
              "      <th>LEG_Lei Complementar 63</th>\n",
              "      <th>LEG_Lei Complementar 636</th>\n",
              "      <th>LEG_Lei Complementar 64</th>\n",
              "      <th>LEG_Lei Complementar 640</th>\n",
              "      <th>LEG_Lei Complementar 648</th>\n",
              "      <th>LEG_Lei Complementar 72</th>\n",
              "      <th>LEG_Lei Complementar 81</th>\n",
              "      <th>LEG_Lei Complementar 815</th>\n",
              "      <th>LEG_Lei Complementar 83</th>\n",
              "      <th>LEG_Lei Complementar 870</th>\n",
              "      <th>LEG_Lei Complementar 89</th>\n",
              "      <th>LEG_Lei Complementar 90</th>\n",
              "      <th>LEG_Lei Complementar 91</th>\n",
              "      <th>LEG_Lei Complementar 9184</th>\n",
              "      <th>LEG_Lei Complementar 92</th>\n",
              "      <th>LEG_Lei Complementar 93</th>\n",
              "      <th>LEG_Lei Complementar 95</th>\n",
              "      <th>LEG_Lei Complementar Promulgada 495</th>\n",
              "      <th>LEG_Lei Complementar n° 27 - Alterada pela Lei Complementar n° 78 de 25.03.2010</th>\n",
              "      <th>LEG_Lei Complementar nº 163 (Federal)</th>\n",
              "      <th>LEG_Lei complem. 026 - Alterada p/ Lei Comp. 056 13.01.2000</th>\n",
              "      <th>LEG_inclusão de município - Lei Complementar  78 de 25.03.2010</th>\n",
              "    </tr>\n",
              "  </thead>\n",
              "  <tbody>\n",
              "    <tr>\n",
              "      <th>count</th>\n",
              "      <td>1420.000000</td>\n",
              "      <td>1420.000000</td>\n",
              "      <td>1.420000e+03</td>\n",
              "      <td>1420.000000</td>\n",
              "      <td>1420.000000</td>\n",
              "      <td>1420.000000</td>\n",
              "      <td>1420.000000</td>\n",
              "      <td>1420.000000</td>\n",
              "      <td>1420.000000</td>\n",
              "      <td>1420.000000</td>\n",
              "      <td>1420.000000</td>\n",
              "      <td>1420.000000</td>\n",
              "      <td>1420.000000</td>\n",
              "      <td>1420.000000</td>\n",
              "      <td>1420.000000</td>\n",
              "      <td>1420.000000</td>\n",
              "      <td>1420.000000</td>\n",
              "      <td>1420.000000</td>\n",
              "      <td>1420.000000</td>\n",
              "      <td>1420.000000</td>\n",
              "      <td>1420.000000</td>\n",
              "      <td>1420.000000</td>\n",
              "      <td>1420.000000</td>\n",
              "      <td>1420.000000</td>\n",
              "      <td>1420.000000</td>\n",
              "      <td>1420.000000</td>\n",
              "      <td>1420.000000</td>\n",
              "      <td>1420.000000</td>\n",
              "      <td>1420.000000</td>\n",
              "      <td>1420.000000</td>\n",
              "      <td>1420.000000</td>\n",
              "      <td>1420.000000</td>\n",
              "      <td>1420.000000</td>\n",
              "      <td>1420.000000</td>\n",
              "      <td>1420.000000</td>\n",
              "      <td>1420.000000</td>\n",
              "      <td>1420.000000</td>\n",
              "      <td>1420.000000</td>\n",
              "      <td>1420.000000</td>\n",
              "      <td>1420.000000</td>\n",
              "      <td>...</td>\n",
              "      <td>1420.000000</td>\n",
              "      <td>1420.000000</td>\n",
              "      <td>1420.000000</td>\n",
              "      <td>1420.000000</td>\n",
              "      <td>1420.000000</td>\n",
              "      <td>1420.000000</td>\n",
              "      <td>1420.000000</td>\n",
              "      <td>1420.000000</td>\n",
              "      <td>1420.000000</td>\n",
              "      <td>1420.000000</td>\n",
              "      <td>1420.000000</td>\n",
              "      <td>1420.000000</td>\n",
              "      <td>1420.000000</td>\n",
              "      <td>1420.000000</td>\n",
              "      <td>1420.000000</td>\n",
              "      <td>1420.000000</td>\n",
              "      <td>1420.000000</td>\n",
              "      <td>1420.000000</td>\n",
              "      <td>1420.000000</td>\n",
              "      <td>1420.000000</td>\n",
              "      <td>1420.000000</td>\n",
              "      <td>1420.000000</td>\n",
              "      <td>1420.000000</td>\n",
              "      <td>1420.000000</td>\n",
              "      <td>1420.000000</td>\n",
              "      <td>1420.000000</td>\n",
              "      <td>1420.000000</td>\n",
              "      <td>1420.000000</td>\n",
              "      <td>1420.000000</td>\n",
              "      <td>1420.000000</td>\n",
              "      <td>1420.000000</td>\n",
              "      <td>1420.000000</td>\n",
              "      <td>1420.000000</td>\n",
              "      <td>1420.000000</td>\n",
              "      <td>1420.000000</td>\n",
              "      <td>1420.000000</td>\n",
              "      <td>1420.000000</td>\n",
              "      <td>1420.000000</td>\n",
              "      <td>1420.000000</td>\n",
              "      <td>1420.000000</td>\n",
              "    </tr>\n",
              "    <tr>\n",
              "      <th>mean</th>\n",
              "      <td>34.454930</td>\n",
              "      <td>3449.743662</td>\n",
              "      <td>3.459478e+06</td>\n",
              "      <td>0.045070</td>\n",
              "      <td>0.276761</td>\n",
              "      <td>0.051408</td>\n",
              "      <td>0.230986</td>\n",
              "      <td>0.395775</td>\n",
              "      <td>0.058451</td>\n",
              "      <td>0.009155</td>\n",
              "      <td>0.002113</td>\n",
              "      <td>0.023239</td>\n",
              "      <td>0.032394</td>\n",
              "      <td>0.000704</td>\n",
              "      <td>0.004930</td>\n",
              "      <td>0.035211</td>\n",
              "      <td>0.015493</td>\n",
              "      <td>0.057746</td>\n",
              "      <td>0.009155</td>\n",
              "      <td>0.007042</td>\n",
              "      <td>0.111972</td>\n",
              "      <td>0.012676</td>\n",
              "      <td>0.009155</td>\n",
              "      <td>0.136620</td>\n",
              "      <td>0.015493</td>\n",
              "      <td>0.010563</td>\n",
              "      <td>0.001408</td>\n",
              "      <td>0.007746</td>\n",
              "      <td>0.051408</td>\n",
              "      <td>0.207746</td>\n",
              "      <td>0.002817</td>\n",
              "      <td>0.152817</td>\n",
              "      <td>0.023944</td>\n",
              "      <td>0.013380</td>\n",
              "      <td>0.004930</td>\n",
              "      <td>0.016197</td>\n",
              "      <td>0.014085</td>\n",
              "      <td>0.003521</td>\n",
              "      <td>0.005634</td>\n",
              "      <td>0.009859</td>\n",
              "      <td>...</td>\n",
              "      <td>0.011268</td>\n",
              "      <td>0.004930</td>\n",
              "      <td>0.002817</td>\n",
              "      <td>0.003521</td>\n",
              "      <td>0.012676</td>\n",
              "      <td>0.007746</td>\n",
              "      <td>0.004930</td>\n",
              "      <td>0.006338</td>\n",
              "      <td>0.000704</td>\n",
              "      <td>0.004225</td>\n",
              "      <td>0.004225</td>\n",
              "      <td>0.042958</td>\n",
              "      <td>0.000704</td>\n",
              "      <td>0.014789</td>\n",
              "      <td>0.066197</td>\n",
              "      <td>0.001408</td>\n",
              "      <td>0.002817</td>\n",
              "      <td>0.006338</td>\n",
              "      <td>0.000704</td>\n",
              "      <td>0.015493</td>\n",
              "      <td>0.000704</td>\n",
              "      <td>0.000704</td>\n",
              "      <td>0.000704</td>\n",
              "      <td>0.000704</td>\n",
              "      <td>0.004225</td>\n",
              "      <td>0.006338</td>\n",
              "      <td>0.005634</td>\n",
              "      <td>0.013380</td>\n",
              "      <td>0.005634</td>\n",
              "      <td>0.014085</td>\n",
              "      <td>0.001408</td>\n",
              "      <td>0.001408</td>\n",
              "      <td>0.010563</td>\n",
              "      <td>0.012676</td>\n",
              "      <td>0.002817</td>\n",
              "      <td>0.028169</td>\n",
              "      <td>0.007746</td>\n",
              "      <td>0.008451</td>\n",
              "      <td>0.001408</td>\n",
              "      <td>0.003521</td>\n",
              "    </tr>\n",
              "    <tr>\n",
              "      <th>std</th>\n",
              "      <td>8.909937</td>\n",
              "      <td>891.706631</td>\n",
              "      <td>8.920921e+05</td>\n",
              "      <td>0.207532</td>\n",
              "      <td>0.447555</td>\n",
              "      <td>0.220907</td>\n",
              "      <td>0.421612</td>\n",
              "      <td>0.489189</td>\n",
              "      <td>0.234676</td>\n",
              "      <td>0.095276</td>\n",
              "      <td>0.045931</td>\n",
              "      <td>0.150716</td>\n",
              "      <td>0.177107</td>\n",
              "      <td>0.026537</td>\n",
              "      <td>0.070062</td>\n",
              "      <td>0.184378</td>\n",
              "      <td>0.123546</td>\n",
              "      <td>0.233346</td>\n",
              "      <td>0.095276</td>\n",
              "      <td>0.083652</td>\n",
              "      <td>0.315443</td>\n",
              "      <td>0.111912</td>\n",
              "      <td>0.095276</td>\n",
              "      <td>0.343566</td>\n",
              "      <td>0.123546</td>\n",
              "      <td>0.102270</td>\n",
              "      <td>0.037516</td>\n",
              "      <td>0.087703</td>\n",
              "      <td>0.220907</td>\n",
              "      <td>0.405837</td>\n",
              "      <td>0.053018</td>\n",
              "      <td>0.359938</td>\n",
              "      <td>0.152928</td>\n",
              "      <td>0.114937</td>\n",
              "      <td>0.070062</td>\n",
              "      <td>0.126278</td>\n",
              "      <td>0.117881</td>\n",
              "      <td>0.059255</td>\n",
              "      <td>0.074873</td>\n",
              "      <td>0.098837</td>\n",
              "      <td>...</td>\n",
              "      <td>0.105586</td>\n",
              "      <td>0.070062</td>\n",
              "      <td>0.053018</td>\n",
              "      <td>0.059255</td>\n",
              "      <td>0.111912</td>\n",
              "      <td>0.087703</td>\n",
              "      <td>0.070062</td>\n",
              "      <td>0.079387</td>\n",
              "      <td>0.026537</td>\n",
              "      <td>0.064888</td>\n",
              "      <td>0.064888</td>\n",
              "      <td>0.202833</td>\n",
              "      <td>0.026537</td>\n",
              "      <td>0.120749</td>\n",
              "      <td>0.248714</td>\n",
              "      <td>0.037516</td>\n",
              "      <td>0.053018</td>\n",
              "      <td>0.079387</td>\n",
              "      <td>0.026537</td>\n",
              "      <td>0.123546</td>\n",
              "      <td>0.026537</td>\n",
              "      <td>0.026537</td>\n",
              "      <td>0.026537</td>\n",
              "      <td>0.026537</td>\n",
              "      <td>0.064888</td>\n",
              "      <td>0.079387</td>\n",
              "      <td>0.074873</td>\n",
              "      <td>0.114937</td>\n",
              "      <td>0.074873</td>\n",
              "      <td>0.117881</td>\n",
              "      <td>0.037516</td>\n",
              "      <td>0.037516</td>\n",
              "      <td>0.102270</td>\n",
              "      <td>0.111912</td>\n",
              "      <td>0.053018</td>\n",
              "      <td>0.165514</td>\n",
              "      <td>0.087703</td>\n",
              "      <td>0.091571</td>\n",
              "      <td>0.037516</td>\n",
              "      <td>0.059255</td>\n",
              "    </tr>\n",
              "    <tr>\n",
              "      <th>min</th>\n",
              "      <td>11.000000</td>\n",
              "      <td>1101.000000</td>\n",
              "      <td>1.100205e+06</td>\n",
              "      <td>0.000000</td>\n",
              "      <td>0.000000</td>\n",
              "      <td>0.000000</td>\n",
              "      <td>0.000000</td>\n",
              "      <td>0.000000</td>\n",
              "      <td>0.000000</td>\n",
              "      <td>0.000000</td>\n",
              "      <td>0.000000</td>\n",
              "      <td>0.000000</td>\n",
              "      <td>0.000000</td>\n",
              "      <td>0.000000</td>\n",
              "      <td>0.000000</td>\n",
              "      <td>0.000000</td>\n",
              "      <td>0.000000</td>\n",
              "      <td>0.000000</td>\n",
              "      <td>0.000000</td>\n",
              "      <td>0.000000</td>\n",
              "      <td>0.000000</td>\n",
              "      <td>0.000000</td>\n",
              "      <td>0.000000</td>\n",
              "      <td>0.000000</td>\n",
              "      <td>0.000000</td>\n",
              "      <td>0.000000</td>\n",
              "      <td>0.000000</td>\n",
              "      <td>0.000000</td>\n",
              "      <td>0.000000</td>\n",
              "      <td>0.000000</td>\n",
              "      <td>0.000000</td>\n",
              "      <td>0.000000</td>\n",
              "      <td>0.000000</td>\n",
              "      <td>0.000000</td>\n",
              "      <td>0.000000</td>\n",
              "      <td>0.000000</td>\n",
              "      <td>0.000000</td>\n",
              "      <td>0.000000</td>\n",
              "      <td>0.000000</td>\n",
              "      <td>0.000000</td>\n",
              "      <td>...</td>\n",
              "      <td>0.000000</td>\n",
              "      <td>0.000000</td>\n",
              "      <td>0.000000</td>\n",
              "      <td>0.000000</td>\n",
              "      <td>0.000000</td>\n",
              "      <td>0.000000</td>\n",
              "      <td>0.000000</td>\n",
              "      <td>0.000000</td>\n",
              "      <td>0.000000</td>\n",
              "      <td>0.000000</td>\n",
              "      <td>0.000000</td>\n",
              "      <td>0.000000</td>\n",
              "      <td>0.000000</td>\n",
              "      <td>0.000000</td>\n",
              "      <td>0.000000</td>\n",
              "      <td>0.000000</td>\n",
              "      <td>0.000000</td>\n",
              "      <td>0.000000</td>\n",
              "      <td>0.000000</td>\n",
              "      <td>0.000000</td>\n",
              "      <td>0.000000</td>\n",
              "      <td>0.000000</td>\n",
              "      <td>0.000000</td>\n",
              "      <td>0.000000</td>\n",
              "      <td>0.000000</td>\n",
              "      <td>0.000000</td>\n",
              "      <td>0.000000</td>\n",
              "      <td>0.000000</td>\n",
              "      <td>0.000000</td>\n",
              "      <td>0.000000</td>\n",
              "      <td>0.000000</td>\n",
              "      <td>0.000000</td>\n",
              "      <td>0.000000</td>\n",
              "      <td>0.000000</td>\n",
              "      <td>0.000000</td>\n",
              "      <td>0.000000</td>\n",
              "      <td>0.000000</td>\n",
              "      <td>0.000000</td>\n",
              "      <td>0.000000</td>\n",
              "      <td>0.000000</td>\n",
              "    </tr>\n",
              "    <tr>\n",
              "      <th>25%</th>\n",
              "      <td>27.000000</td>\n",
              "      <td>2701.000000</td>\n",
              "      <td>2.701283e+06</td>\n",
              "      <td>0.000000</td>\n",
              "      <td>0.000000</td>\n",
              "      <td>0.000000</td>\n",
              "      <td>0.000000</td>\n",
              "      <td>0.000000</td>\n",
              "      <td>0.000000</td>\n",
              "      <td>0.000000</td>\n",
              "      <td>0.000000</td>\n",
              "      <td>0.000000</td>\n",
              "      <td>0.000000</td>\n",
              "      <td>0.000000</td>\n",
              "      <td>0.000000</td>\n",
              "      <td>0.000000</td>\n",
              "      <td>0.000000</td>\n",
              "      <td>0.000000</td>\n",
              "      <td>0.000000</td>\n",
              "      <td>0.000000</td>\n",
              "      <td>0.000000</td>\n",
              "      <td>0.000000</td>\n",
              "      <td>0.000000</td>\n",
              "      <td>0.000000</td>\n",
              "      <td>0.000000</td>\n",
              "      <td>0.000000</td>\n",
              "      <td>0.000000</td>\n",
              "      <td>0.000000</td>\n",
              "      <td>0.000000</td>\n",
              "      <td>0.000000</td>\n",
              "      <td>0.000000</td>\n",
              "      <td>0.000000</td>\n",
              "      <td>0.000000</td>\n",
              "      <td>0.000000</td>\n",
              "      <td>0.000000</td>\n",
              "      <td>0.000000</td>\n",
              "      <td>0.000000</td>\n",
              "      <td>0.000000</td>\n",
              "      <td>0.000000</td>\n",
              "      <td>0.000000</td>\n",
              "      <td>...</td>\n",
              "      <td>0.000000</td>\n",
              "      <td>0.000000</td>\n",
              "      <td>0.000000</td>\n",
              "      <td>0.000000</td>\n",
              "      <td>0.000000</td>\n",
              "      <td>0.000000</td>\n",
              "      <td>0.000000</td>\n",
              "      <td>0.000000</td>\n",
              "      <td>0.000000</td>\n",
              "      <td>0.000000</td>\n",
              "      <td>0.000000</td>\n",
              "      <td>0.000000</td>\n",
              "      <td>0.000000</td>\n",
              "      <td>0.000000</td>\n",
              "      <td>0.000000</td>\n",
              "      <td>0.000000</td>\n",
              "      <td>0.000000</td>\n",
              "      <td>0.000000</td>\n",
              "      <td>0.000000</td>\n",
              "      <td>0.000000</td>\n",
              "      <td>0.000000</td>\n",
              "      <td>0.000000</td>\n",
              "      <td>0.000000</td>\n",
              "      <td>0.000000</td>\n",
              "      <td>0.000000</td>\n",
              "      <td>0.000000</td>\n",
              "      <td>0.000000</td>\n",
              "      <td>0.000000</td>\n",
              "      <td>0.000000</td>\n",
              "      <td>0.000000</td>\n",
              "      <td>0.000000</td>\n",
              "      <td>0.000000</td>\n",
              "      <td>0.000000</td>\n",
              "      <td>0.000000</td>\n",
              "      <td>0.000000</td>\n",
              "      <td>0.000000</td>\n",
              "      <td>0.000000</td>\n",
              "      <td>0.000000</td>\n",
              "      <td>0.000000</td>\n",
              "      <td>0.000000</td>\n",
              "    </tr>\n",
              "    <tr>\n",
              "      <th>50%</th>\n",
              "      <td>35.000000</td>\n",
              "      <td>3506.000000</td>\n",
              "      <td>3.537354e+06</td>\n",
              "      <td>0.000000</td>\n",
              "      <td>0.000000</td>\n",
              "      <td>0.000000</td>\n",
              "      <td>0.000000</td>\n",
              "      <td>0.000000</td>\n",
              "      <td>0.000000</td>\n",
              "      <td>0.000000</td>\n",
              "      <td>0.000000</td>\n",
              "      <td>0.000000</td>\n",
              "      <td>0.000000</td>\n",
              "      <td>0.000000</td>\n",
              "      <td>0.000000</td>\n",
              "      <td>0.000000</td>\n",
              "      <td>0.000000</td>\n",
              "      <td>0.000000</td>\n",
              "      <td>0.000000</td>\n",
              "      <td>0.000000</td>\n",
              "      <td>0.000000</td>\n",
              "      <td>0.000000</td>\n",
              "      <td>0.000000</td>\n",
              "      <td>0.000000</td>\n",
              "      <td>0.000000</td>\n",
              "      <td>0.000000</td>\n",
              "      <td>0.000000</td>\n",
              "      <td>0.000000</td>\n",
              "      <td>0.000000</td>\n",
              "      <td>0.000000</td>\n",
              "      <td>0.000000</td>\n",
              "      <td>0.000000</td>\n",
              "      <td>0.000000</td>\n",
              "      <td>0.000000</td>\n",
              "      <td>0.000000</td>\n",
              "      <td>0.000000</td>\n",
              "      <td>0.000000</td>\n",
              "      <td>0.000000</td>\n",
              "      <td>0.000000</td>\n",
              "      <td>0.000000</td>\n",
              "      <td>...</td>\n",
              "      <td>0.000000</td>\n",
              "      <td>0.000000</td>\n",
              "      <td>0.000000</td>\n",
              "      <td>0.000000</td>\n",
              "      <td>0.000000</td>\n",
              "      <td>0.000000</td>\n",
              "      <td>0.000000</td>\n",
              "      <td>0.000000</td>\n",
              "      <td>0.000000</td>\n",
              "      <td>0.000000</td>\n",
              "      <td>0.000000</td>\n",
              "      <td>0.000000</td>\n",
              "      <td>0.000000</td>\n",
              "      <td>0.000000</td>\n",
              "      <td>0.000000</td>\n",
              "      <td>0.000000</td>\n",
              "      <td>0.000000</td>\n",
              "      <td>0.000000</td>\n",
              "      <td>0.000000</td>\n",
              "      <td>0.000000</td>\n",
              "      <td>0.000000</td>\n",
              "      <td>0.000000</td>\n",
              "      <td>0.000000</td>\n",
              "      <td>0.000000</td>\n",
              "      <td>0.000000</td>\n",
              "      <td>0.000000</td>\n",
              "      <td>0.000000</td>\n",
              "      <td>0.000000</td>\n",
              "      <td>0.000000</td>\n",
              "      <td>0.000000</td>\n",
              "      <td>0.000000</td>\n",
              "      <td>0.000000</td>\n",
              "      <td>0.000000</td>\n",
              "      <td>0.000000</td>\n",
              "      <td>0.000000</td>\n",
              "      <td>0.000000</td>\n",
              "      <td>0.000000</td>\n",
              "      <td>0.000000</td>\n",
              "      <td>0.000000</td>\n",
              "      <td>0.000000</td>\n",
              "    </tr>\n",
              "    <tr>\n",
              "      <th>75%</th>\n",
              "      <td>42.000000</td>\n",
              "      <td>4204.000000</td>\n",
              "      <td>4.204768e+06</td>\n",
              "      <td>0.000000</td>\n",
              "      <td>1.000000</td>\n",
              "      <td>0.000000</td>\n",
              "      <td>0.000000</td>\n",
              "      <td>1.000000</td>\n",
              "      <td>0.000000</td>\n",
              "      <td>0.000000</td>\n",
              "      <td>0.000000</td>\n",
              "      <td>0.000000</td>\n",
              "      <td>0.000000</td>\n",
              "      <td>0.000000</td>\n",
              "      <td>0.000000</td>\n",
              "      <td>0.000000</td>\n",
              "      <td>0.000000</td>\n",
              "      <td>0.000000</td>\n",
              "      <td>0.000000</td>\n",
              "      <td>0.000000</td>\n",
              "      <td>0.000000</td>\n",
              "      <td>0.000000</td>\n",
              "      <td>0.000000</td>\n",
              "      <td>0.000000</td>\n",
              "      <td>0.000000</td>\n",
              "      <td>0.000000</td>\n",
              "      <td>0.000000</td>\n",
              "      <td>0.000000</td>\n",
              "      <td>0.000000</td>\n",
              "      <td>0.000000</td>\n",
              "      <td>0.000000</td>\n",
              "      <td>0.000000</td>\n",
              "      <td>0.000000</td>\n",
              "      <td>0.000000</td>\n",
              "      <td>0.000000</td>\n",
              "      <td>0.000000</td>\n",
              "      <td>0.000000</td>\n",
              "      <td>0.000000</td>\n",
              "      <td>0.000000</td>\n",
              "      <td>0.000000</td>\n",
              "      <td>...</td>\n",
              "      <td>0.000000</td>\n",
              "      <td>0.000000</td>\n",
              "      <td>0.000000</td>\n",
              "      <td>0.000000</td>\n",
              "      <td>0.000000</td>\n",
              "      <td>0.000000</td>\n",
              "      <td>0.000000</td>\n",
              "      <td>0.000000</td>\n",
              "      <td>0.000000</td>\n",
              "      <td>0.000000</td>\n",
              "      <td>0.000000</td>\n",
              "      <td>0.000000</td>\n",
              "      <td>0.000000</td>\n",
              "      <td>0.000000</td>\n",
              "      <td>0.000000</td>\n",
              "      <td>0.000000</td>\n",
              "      <td>0.000000</td>\n",
              "      <td>0.000000</td>\n",
              "      <td>0.000000</td>\n",
              "      <td>0.000000</td>\n",
              "      <td>0.000000</td>\n",
              "      <td>0.000000</td>\n",
              "      <td>0.000000</td>\n",
              "      <td>0.000000</td>\n",
              "      <td>0.000000</td>\n",
              "      <td>0.000000</td>\n",
              "      <td>0.000000</td>\n",
              "      <td>0.000000</td>\n",
              "      <td>0.000000</td>\n",
              "      <td>0.000000</td>\n",
              "      <td>0.000000</td>\n",
              "      <td>0.000000</td>\n",
              "      <td>0.000000</td>\n",
              "      <td>0.000000</td>\n",
              "      <td>0.000000</td>\n",
              "      <td>0.000000</td>\n",
              "      <td>0.000000</td>\n",
              "      <td>0.000000</td>\n",
              "      <td>0.000000</td>\n",
              "      <td>0.000000</td>\n",
              "    </tr>\n",
              "    <tr>\n",
              "      <th>max</th>\n",
              "      <td>53.000000</td>\n",
              "      <td>5301.000000</td>\n",
              "      <td>5.300108e+06</td>\n",
              "      <td>1.000000</td>\n",
              "      <td>1.000000</td>\n",
              "      <td>1.000000</td>\n",
              "      <td>1.000000</td>\n",
              "      <td>1.000000</td>\n",
              "      <td>1.000000</td>\n",
              "      <td>1.000000</td>\n",
              "      <td>1.000000</td>\n",
              "      <td>1.000000</td>\n",
              "      <td>1.000000</td>\n",
              "      <td>1.000000</td>\n",
              "      <td>1.000000</td>\n",
              "      <td>1.000000</td>\n",
              "      <td>1.000000</td>\n",
              "      <td>1.000000</td>\n",
              "      <td>1.000000</td>\n",
              "      <td>1.000000</td>\n",
              "      <td>1.000000</td>\n",
              "      <td>1.000000</td>\n",
              "      <td>1.000000</td>\n",
              "      <td>1.000000</td>\n",
              "      <td>1.000000</td>\n",
              "      <td>1.000000</td>\n",
              "      <td>1.000000</td>\n",
              "      <td>1.000000</td>\n",
              "      <td>1.000000</td>\n",
              "      <td>1.000000</td>\n",
              "      <td>1.000000</td>\n",
              "      <td>1.000000</td>\n",
              "      <td>1.000000</td>\n",
              "      <td>1.000000</td>\n",
              "      <td>1.000000</td>\n",
              "      <td>1.000000</td>\n",
              "      <td>1.000000</td>\n",
              "      <td>1.000000</td>\n",
              "      <td>1.000000</td>\n",
              "      <td>1.000000</td>\n",
              "      <td>...</td>\n",
              "      <td>1.000000</td>\n",
              "      <td>1.000000</td>\n",
              "      <td>1.000000</td>\n",
              "      <td>1.000000</td>\n",
              "      <td>1.000000</td>\n",
              "      <td>1.000000</td>\n",
              "      <td>1.000000</td>\n",
              "      <td>1.000000</td>\n",
              "      <td>1.000000</td>\n",
              "      <td>1.000000</td>\n",
              "      <td>1.000000</td>\n",
              "      <td>1.000000</td>\n",
              "      <td>1.000000</td>\n",
              "      <td>1.000000</td>\n",
              "      <td>1.000000</td>\n",
              "      <td>1.000000</td>\n",
              "      <td>1.000000</td>\n",
              "      <td>1.000000</td>\n",
              "      <td>1.000000</td>\n",
              "      <td>1.000000</td>\n",
              "      <td>1.000000</td>\n",
              "      <td>1.000000</td>\n",
              "      <td>1.000000</td>\n",
              "      <td>1.000000</td>\n",
              "      <td>1.000000</td>\n",
              "      <td>1.000000</td>\n",
              "      <td>1.000000</td>\n",
              "      <td>1.000000</td>\n",
              "      <td>1.000000</td>\n",
              "      <td>1.000000</td>\n",
              "      <td>1.000000</td>\n",
              "      <td>1.000000</td>\n",
              "      <td>1.000000</td>\n",
              "      <td>1.000000</td>\n",
              "      <td>1.000000</td>\n",
              "      <td>1.000000</td>\n",
              "      <td>1.000000</td>\n",
              "      <td>1.000000</td>\n",
              "      <td>1.000000</td>\n",
              "      <td>1.000000</td>\n",
              "    </tr>\n",
              "  </tbody>\n",
              "</table>\n",
              "<p>8 rows × 1782 columns</p>\n",
              "</div>"
            ],
            "text/plain": [
              "            COD_UF  ...  LEG_inclusão de município - Lei Complementar  78 de 25.03.2010\n",
              "count  1420.000000  ...                                        1420.000000             \n",
              "mean     34.454930  ...                                           0.003521             \n",
              "std       8.909937  ...                                           0.059255             \n",
              "min      11.000000  ...                                           0.000000             \n",
              "25%      27.000000  ...                                           0.000000             \n",
              "50%      35.000000  ...                                           0.000000             \n",
              "75%      42.000000  ...                                           0.000000             \n",
              "max      53.000000  ...                                           1.000000             \n",
              "\n",
              "[8 rows x 1782 columns]"
            ]
          },
          "metadata": {},
          "execution_count": 94
        }
      ]
    },
    {
      "cell_type": "markdown",
      "metadata": {
        "id": "Vb905TI9-PXV"
      },
      "source": [
        "Técnica linear para redução da dimensionalidade escolhida: PCA"
      ]
    },
    {
      "cell_type": "code",
      "metadata": {
        "colab": {
          "base_uri": "https://localhost:8080/"
        },
        "id": "MEA2kiG9CPX6",
        "outputId": "6475fcdf-783f-4f53-d0ab-72d9e938ebe6"
      },
      "source": [
        "X= data.values\n",
        "X"
      ],
      "execution_count": 95,
      "outputs": [
        {
          "output_type": "execute_result",
          "data": {
            "text/plain": [
              "array([[     53,    5301, 5300108, ...,       0,       0,       0],\n",
              "       [     52,    5202, 5200100, ...,       0,       0,       0],\n",
              "       [     52,    5202, 5200175, ...,       0,       0,       0],\n",
              "       ...,\n",
              "       [     42,    4202, 4207502, ...,       0,       0,       0],\n",
              "       [     42,    4202, 4213203, ...,       0,       0,       0],\n",
              "       [     42,    4202, 4218202, ...,       0,       0,       0]])"
            ]
          },
          "metadata": {},
          "execution_count": 95
        }
      ]
    },
    {
      "cell_type": "code",
      "metadata": {
        "id": "FbPDGOdg7wQT"
      },
      "source": [
        "#importando biblioteca\n",
        "from sklearn.decomposition import PCA"
      ],
      "execution_count": 96,
      "outputs": []
    },
    {
      "cell_type": "code",
      "metadata": {
        "colab": {
          "base_uri": "https://localhost:8080/"
        },
        "id": "XK0oInzACudN",
        "outputId": "c86d1ad7-f71e-4653-80bb-d02a95f4b21b"
      },
      "source": [
        "from sklearn.preprocessing import StandardScaler\n",
        "\n",
        "scaler = StandardScaler()\n",
        "scaler.fit(X)\n",
        "X_scaler = scaler.transform(X)\n",
        "X_scaler"
      ],
      "execution_count": 97,
      "outputs": [
        {
          "output_type": "execute_result",
          "data": {
            "text/plain": [
              "array([[ 2.08212519,  2.07681368,  2.06400012, ..., -0.09231862,\n",
              "        -0.03755579, -0.05944383],\n",
              "       [ 1.96985141,  1.96575151,  1.95185561, ..., -0.09231862,\n",
              "        -0.03755579, -0.05944383],\n",
              "       [ 1.96985141,  1.96575151,  1.95193972, ..., -0.09231862,\n",
              "        -0.03755579, -0.05944383],\n",
              "       ...,\n",
              "       [ 0.84711359,  0.84391136,  0.83880051, ..., -0.09231862,\n",
              "        -0.03755579, -0.05944383],\n",
              "       [ 0.84711359,  0.84391136,  0.84519336, ..., -0.09231862,\n",
              "        -0.03755579, -0.05944383],\n",
              "       [ 0.84711359,  0.84391136,  0.85079901, ..., -0.09231862,\n",
              "        -0.03755579, -0.05944383]])"
            ]
          },
          "metadata": {},
          "execution_count": 97
        }
      ]
    },
    {
      "cell_type": "code",
      "metadata": {
        "id": "qkbc8-vE7vAD"
      },
      "source": [
        "#componentes principais do conjunto\n",
        "X_centered = X - X.mean(axis=0) \n",
        "U, s, Vt = np.linalg.svd(X_centered) \n",
        "c1 = Vt.T[:, 0] \n",
        "c2 = Vt.T[:, 1]\n"
      ],
      "execution_count": 98,
      "outputs": []
    },
    {
      "cell_type": "code",
      "metadata": {
        "id": "6_NR9OeBBlNR"
      },
      "source": [
        "#projeta conjunto\n",
        "W2 = Vt.T[:, :2]\n",
        "X2D = X_centered.dot(W2)"
      ],
      "execution_count": 99,
      "outputs": []
    },
    {
      "cell_type": "code",
      "metadata": {
        "id": "BXnDA5jxBlKL",
        "colab": {
          "base_uri": "https://localhost:8080/"
        },
        "outputId": "b954d714-3e07-450b-e8df-71d1872b2994"
      },
      "source": [
        "#Calculando variância por PCA\n",
        "pca = PCA(random_state=2020)\n",
        "pca.fit(X)\n",
        "X_pca = pca.transform(X_scaler)\n",
        "print(\"variancia todos compontes =\", sum(pca.explained_variance_ratio_ * 100))"
      ],
      "execution_count": 108,
      "outputs": [
        {
          "output_type": "stream",
          "name": "stdout",
          "text": [
            "variancia todos compontes = 99.99999999999613\n"
          ]
        }
      ]
    },
    {
      "cell_type": "code",
      "metadata": {
        "colab": {
          "base_uri": "https://localhost:8080/",
          "height": 307
        },
        "id": "OcdVFRxsEqiC",
        "outputId": "b006d6b8-510f-4cfd-f03a-a2a9d1e074c1"
      },
      "source": [
        "import matplotlib.pyplot as plt \n",
        "\n",
        "plt.plot(np.cumsum(pca.explained_variance_ratio_))\n",
        "plt.xlabel('nº do componente')\n",
        "plt.ylabel('variancia')"
      ],
      "execution_count": 109,
      "outputs": [
        {
          "output_type": "execute_result",
          "data": {
            "text/plain": [
              "Text(0, 0.5, 'variancia')"
            ]
          },
          "metadata": {},
          "execution_count": 109
        },
        {
          "output_type": "display_data",
          "data": {
            "image/png": "[encoded data removed]",
            "text/plain": [
              "<Figure size 432x288 with 1 Axes>"
            ]
          },
          "metadata": {
            "needs_background": "light"
          }
        }
      ]
    },
    {
      "cell_type": "code",
      "metadata": {
        "id": "K_E5UEg9BlH7",
        "colab": {
          "base_uri": "https://localhost:8080/"
        },
        "outputId": "4b5a1f11-ca41-40d1-e770-312cdc9e2b4e"
      },
      "source": [
        "pca2Components = PCA(n_components=2, random_state=2020)\n",
        "pca2Components.fit(X)\n",
        "X_pca2Components = pca2Components.transform(X_scaler)\n",
        "valor = sum(pca2Components.explained_variance_ratio_ * 100)\n",
        "print(\"Variância 2 componentes: \", valor)"
      ],
      "execution_count": 110,
      "outputs": [
        {
          "output_type": "stream",
          "name": "stdout",
          "text": [
            "Variância 2 componentes:  99.99999999927691\n"
          ]
        }
      ]
    },
    {
      "cell_type": "code",
      "metadata": {
        "id": "cSech7PfBlFj",
        "colab": {
          "base_uri": "https://localhost:8080/",
          "height": 307
        },
        "outputId": "84ec48bf-afcf-46aa-86cb-a5f32d9d0cca"
      },
      "source": [
        "plt.plot(np.cumsum(pca2Components.explained_variance_ratio_))\n",
        "plt.xlabel('nº do componente')\n",
        "plt.ylabel('variância')"
      ],
      "execution_count": 111,
      "outputs": [
        {
          "output_type": "execute_result",
          "data": {
            "text/plain": [
              "Text(0, 0.5, 'variância')"
            ]
          },
          "metadata": {},
          "execution_count": 111
        },
        {
          "output_type": "display_data",
          "data": {
            "image/png": "[encoded data removed]",
            "text/plain": [
              "<Figure size 432x288 with 1 Axes>"
            ]
          },
          "metadata": {
            "needs_background": "light"
          }
        }
      ]
    },
    {
      "cell_type": "markdown",
      "metadata": {
        "id": "bK1MsjXhCPUj"
      },
      "source": [
        "Técnica não linear para redução da dimensionalidade escolhida: Kernel PCA\n",
        "\n",
        "---\n",
        "\n",
        "Exemplo"
      ]
    },
    {
      "cell_type": "code",
      "metadata": {
        "id": "ncVF0I0fBlDP"
      },
      "source": [
        "import pylab as pl\n",
        "\n",
        "from sklearn.decomposition import PCA, KernelPCA\n",
        "from sklearn.datasets import make_circles\n",
        "\n",
        "np.random.seed(0)"
      ],
      "execution_count": 114,
      "outputs": []
    },
    {
      "cell_type": "code",
      "metadata": {
        "id": "iQSAfLv8Bk-g"
      },
      "source": [
        "X, y = make_circles(n_samples=400, factor=.3, noise=.05)"
      ],
      "execution_count": 126,
      "outputs": []
    },
    {
      "cell_type": "code",
      "metadata": {
        "id": "65679KUDBk8I"
      },
      "source": [
        "kpca = KernelPCA(kernel=\"rbf\", fit_inverse_transform=True, gamma=10)\n",
        "X_kpca = kpca.fit_transform(X)\n",
        "X_back = kpca.inverse_transform(X_kpca)\n",
        "pca = PCA()\n",
        "X_pca = pca.fit_transform(X)"
      ],
      "execution_count": 116,
      "outputs": []
    },
    {
      "cell_type": "code",
      "metadata": {
        "id": "zq3UtbQ6BjmC",
        "colab": {
          "base_uri": "https://localhost:8080/",
          "height": 196
        },
        "outputId": "4905e05f-95f3-4633-e160-89d75b30fc5d"
      },
      "source": [
        "pl.figure()\n",
        "pl.subplot(2, 2, 1, aspect='equal')\n",
        "pl.title(\"Original space\")\n",
        "reds = y == 0\n",
        "blues = y == 1\n",
        "pl.plot(X[reds, 0], X[reds, 1], \"ro\")\n",
        "pl.plot(X[blues, 0], X[blues, 1], \"bo\")\n",
        "pl.xlabel(\"$x_1$\")\n",
        "pl.ylabel(\"$x_2$\")"
      ],
      "execution_count": 118,
      "outputs": [
        {
          "output_type": "execute_result",
          "data": {
            "text/plain": [
              "Text(0, 0.5, '$x_2$')"
            ]
          },
          "metadata": {},
          "execution_count": 118
        },
        {
          "output_type": "display_data",
          "data": {
            "image/png": "[encoded data removed]",
            "text/plain": [
              "<Figure size 432x288 with 1 Axes>"
            ]
          },
          "metadata": {
            "needs_background": "light"
          }
        }
      ]
    },
    {
      "cell_type": "code",
      "metadata": {
        "colab": {
          "base_uri": "https://localhost:8080/",
          "height": 286
        },
        "id": "5gj23EQ8GrI-",
        "outputId": "9bf4e17c-7293-4ae8-edb1-6ecd5da08be1"
      },
      "source": [
        "X1, X2 = np.meshgrid(np.linspace(-1.5, 1.5, 50), np.linspace(-1.5, 1.5, 50))\n",
        "X_grid = np.array([np.ravel(X1), np.ravel(X2)]).T\n",
        "# projection on the first principal component (in the phi space)\n",
        "Z_grid = kpca.transform(X_grid)[:, 0].reshape(X1.shape)\n",
        "pl.contour(X1, X2, Z_grid, colors='grey', linewidths=1, origin='lower')"
      ],
      "execution_count": 119,
      "outputs": [
        {
          "output_type": "execute_result",
          "data": {
            "text/plain": [
              "<matplotlib.contour.QuadContourSet at 0x7f8eb81fe990>"
            ]
          },
          "metadata": {},
          "execution_count": 119
        },
        {
          "output_type": "display_data",
          "data": {
            "image/png": "[encoded data removed]",
            "text/plain": [
              "<Figure size 432x288 with 1 Axes>"
            ]
          },
          "metadata": {
            "needs_background": "light"
          }
        }
      ]
    },
    {
      "cell_type": "code",
      "metadata": {
        "colab": {
          "base_uri": "https://localhost:8080/",
          "height": 194
        },
        "id": "i3laZ2U7Gyv2",
        "outputId": "7e8ba5e4-ce98-4429-f29d-d6d58b22fb3f"
      },
      "source": [
        "pl.subplot(2, 2, 2, aspect='equal')\n",
        "pl.plot(X_pca[reds, 0], X_pca[reds, 1], \"ro\")\n",
        "pl.plot(X_pca[blues, 0], X_pca[blues, 1], \"bo\")\n",
        "pl.title(\"Projection by PCA\")\n",
        "pl.xlabel(\"1st principal component\")\n",
        "pl.ylabel(\"2nd component\")"
      ],
      "execution_count": 120,
      "outputs": [
        {
          "output_type": "execute_result",
          "data": {
            "text/plain": [
              "Text(0, 0.5, '2nd component')"
            ]
          },
          "metadata": {},
          "execution_count": 120
        },
        {
          "output_type": "display_data",
          "data": {
            "image/png": "[encoded data removed]",
            "text/plain": [
              "<Figure size 432x288 with 1 Axes>"
            ]
          },
          "metadata": {
            "needs_background": "light"
          }
        }
      ]
    },
    {
      "cell_type": "code",
      "metadata": {
        "colab": {
          "base_uri": "https://localhost:8080/",
          "height": 194
        },
        "id": "54b_Yl8bG1eu",
        "outputId": "180da5dc-2c7f-4e83-a4dc-809cf59b6772"
      },
      "source": [
        "pl.subplot(2, 2, 3, aspect='equal')\n",
        "pl.plot(X_kpca[reds, 0], X_kpca[reds, 1], \"ro\")\n",
        "pl.plot(X_kpca[blues, 0], X_kpca[blues, 1], \"bo\")\n",
        "pl.title(\"Projection by KPCA\")\n",
        "pl.xlabel(\"1st principal component in space induced by $\\phi$\")\n",
        "pl.ylabel(\"2nd component\")"
      ],
      "execution_count": 121,
      "outputs": [
        {
          "output_type": "execute_result",
          "data": {
            "text/plain": [
              "Text(0, 0.5, '2nd component')"
            ]
          },
          "metadata": {},
          "execution_count": 121
        },
        {
          "output_type": "display_data",
          "data": {
            "image/png": "[encoded data removed]",
            "text/plain": [
              "<Figure size 432x288 with 1 Axes>"
            ]
          },
          "metadata": {
            "needs_background": "light"
          }
        }
      ]
    },
    {
      "cell_type": "code",
      "metadata": {
        "colab": {
          "base_uri": "https://localhost:8080/",
          "height": 196
        },
        "id": "TGVkCo4mG4L2",
        "outputId": "6ba85295-6776-47e4-d05b-fd1e36e11ea0"
      },
      "source": [
        "pl.subplot(2, 2, 4, aspect='equal')\n",
        "pl.plot(X_back[reds, 0], X_back[reds, 1], \"ro\")\n",
        "pl.plot(X_back[blues, 0], X_back[blues, 1], \"bo\")\n",
        "pl.title(\"Original space after inverse transform\")\n",
        "pl.xlabel(\"$x_1$\")\n",
        "pl.ylabel(\"$x_2$\")"
      ],
      "execution_count": 122,
      "outputs": [
        {
          "output_type": "execute_result",
          "data": {
            "text/plain": [
              "Text(0, 0.5, '$x_2$')"
            ]
          },
          "metadata": {},
          "execution_count": 122
        },
        {
          "output_type": "display_data",
          "data": {
            "image/png": "[encoded data removed]",
            "text/plain": [
              "<Figure size 432x288 with 1 Axes>"
            ]
          },
          "metadata": {
            "needs_background": "light"
          }
        }
      ]
    },
    {
      "cell_type": "code",
      "metadata": {
        "colab": {
          "base_uri": "https://localhost:8080/",
          "height": 34
        },
        "id": "OsnWPHaLG6c9",
        "outputId": "07945e4f-7b74-4d3c-fb86-50058aa1230f"
      },
      "source": [
        "pl.subplots_adjust(0.02, 0.10, 0.98, 0.94, 0.04, 0.35)\n",
        "\n",
        "pl.show()"
      ],
      "execution_count": 123,
      "outputs": [
        {
          "output_type": "display_data",
          "data": {
            "text/plain": [
              "<Figure size 432x288 with 0 Axes>"
            ]
          },
          "metadata": {}
        }
      ]
    }
  ]
}