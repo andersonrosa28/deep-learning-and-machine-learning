{
  "nbformat": 4,
  "nbformat_minor": 0,
  "metadata": {
    "colab": {
      "name": "RecomendacaoUsandoEucliadiana.ipynb",
      "provenance": []
    },
    "kernelspec": {
      "name": "python3",
      "display_name": "Python 3"
    },
    "language_info": {
      "name": "python"
    }
  },
  "cells": [
    {
      "cell_type": "code",
      "metadata": {
        "id": "PbEiGYJEgoqs"
      },
      "source": [
        "from google.colab import files\n",
        "from math import sqrt\n",
        "import io\n"
      ],
      "execution_count": null,
      "outputs": []
    },
    {
      "cell_type": "code",
      "metadata": {
        "id": "AYWEWQ7Rhb9s"
      },
      "source": [
        "#uploaded = files.upload()\n",
        "# comando para importar arquivo CSV: read_csv e salvar os dados no dataframe casa\n",
        "#data = pd.read_csv(io.BytesIO(uploaded['netflix_titles.csv']))"
      ],
      "execution_count": null,
      "outputs": []
    },
    {
      "cell_type": "code",
      "metadata": {
        "id": "g3QKUbGMhX1U"
      },
      "source": [
        "avaliacoes = {\n",
        "    'Ana': {'Freddy x Jason': 2.5, 'O Ultimato Bourne': 3.5, 'Star Trek': 3.0,  'Exterminador do Futuro': 3.5, 'Norbit': 2.5,  'Star Wars': 3.0},\n",
        "\t  'Marcos': {'Freddy x Jason': 3.0, 'O Ultimato Bourne': 3.5, 'Star Trek': 1.5, 'Exterminador do Futuro': 5.0, 'Star Wars': 3.0, 'Norbit': 3.5}, \n",
        "\t  'Pedro': {'Freddy x Jason': 2.5, 'O Ultimato Bourne': 3.0, 'Exterminador do Futuro': 3.5, 'Star Wars': 4.0},\t\t\t \n",
        "\t  'Claudia': {'O Ultimato Bourne': 3.5, 'Star Trek': 3.0, 'Star Wars': 4.5, 'Exterminador do Futuro': 4.0, 'Norbit': 2.5},\t\t\t\t \n",
        "\t  'Adriano': {'Freddy x Jason': 3.0, 'O Ultimato Bourne': 4.0, 'Star Trek': 2.0, 'Exterminador do Futuro': 3.0, 'Star Wars': 3.0,'Norbit': 2.0}, \n",
        "\t  'Janaina': {'Freddy x Jason': 3.0, 'O Ultimato Bourne': 4.0, 'Star Wars': 3.0, 'Exterminador do Futuro': 5.0, 'Norbit': 3.5},\t \n",
        "\t  'Leonardo': {'O Ultimato Bourne':4.5, 'Norbit':1.0, 'Exterminador do Futuro':4.0}\n",
        "}"
      ],
      "execution_count": null,
      "outputs": []
    },
    {
      "cell_type": "code",
      "metadata": {
        "colab": {
          "base_uri": "https://localhost:8080/"
        },
        "id": "WZ8nN9UXkZ53",
        "outputId": "cc294b24-741d-46c4-c439-fc2fb28ed036"
      },
      "source": [
        "#Calculo da distância euclidiana para encontrar similaridade entre dois usuarios\n",
        "#passo 1: subtrai , passo 2: eleva ao quadrado, passo 3: soma os valores, passo 4: tira a raiz quadrada\n",
        "\n",
        "avaliacaoStarTrek1 = avaliacoes['Ana']['Star Trek']\n",
        "avaliacaoStarTrek2 = avaliacoes['Marcos']['Star Trek']\n",
        "\n",
        "avaliacaoStarExterminador1 = avaliacoes['Ana']['Exterminador do Futuro']\n",
        "avaliacaoStarExterminador2 = avaliacoes['Marcos']['Exterminador do Futuro'] \n",
        "\n",
        "sqrt(pow(avaliacaoStarTrek1 - avaliacaoStarTrek2, 2) + pow(avaliacaoStarExterminador1 - avaliacaoStarExterminador2, 2))"
      ],
      "execution_count": null,
      "outputs": [
        {
          "output_type": "execute_result",
          "data": {
            "text/plain": [
              "2.1213203435596424"
            ]
          },
          "metadata": {
            "tags": []
          },
          "execution_count": 55
        }
      ]
    },
    {
      "cell_type": "code",
      "metadata": {
        "colab": {
          "base_uri": "https://localhost:8080/"
        },
        "id": "k023x0_hpN6Q",
        "outputId": "dbffdffe-902a-4320-b72f-f78facba3ce4"
      },
      "source": [
        "#Colocando na escala entre 1 e 0, para pegarmos as porcentagem \n",
        "#quanto mais proximo de 1, mas similares são\n",
        "1/(1+sqrt(pow(avaliacaoStarTrek1 - avaliacaoStarTrek2, 2) + pow(avaliacaoStarExterminador1 - avaliacaoStarExterminador2, 2)))"
      ],
      "execution_count": null,
      "outputs": [
        {
          "output_type": "execute_result",
          "data": {
            "text/plain": [
              "0.32037724101704074"
            ]
          },
          "metadata": {
            "tags": []
          },
          "execution_count": 56
        }
      ]
    },
    {
      "cell_type": "code",
      "metadata": {
        "id": "ub-rzEujpyvp"
      },
      "source": [
        "def calcularDistanciaEuclidiana(usuario1, usuario2):\n",
        "  filmesEmComum = {}\n",
        "\n",
        "  for item in avaliacoes[usuario1]:\n",
        "    if item in avaliacoes[usuario2]:\n",
        "      filmesEmComum[item] = 1\n",
        "\n",
        "  if len(filmesEmComum) == 0: return 0\n",
        "\n",
        "  somatoria = sum([pow(avaliacoes[usuario1][item] - avaliacoes[usuario2][item], 2)\n",
        "                    for item in avaliacoes[usuario1] if item in avaliacoes[usuario2]])\n",
        "\n",
        "  return 1/(1+sqrt(somatoria))"
      ],
      "execution_count": null,
      "outputs": []
    },
    {
      "cell_type": "code",
      "metadata": {
        "colab": {
          "base_uri": "https://localhost:8080/"
        },
        "id": "k9qyzqIJmEaK",
        "outputId": "d6701aa1-a36d-456a-8e4a-f59daff6e8a6"
      },
      "source": [
        "calcularDistanciaEuclidiana('Ana', 'Leonardo')"
      ],
      "execution_count": null,
      "outputs": [
        {
          "output_type": "execute_result",
          "data": {
            "text/plain": [
              "0.3483314773547883"
            ]
          },
          "metadata": {
            "tags": []
          },
          "execution_count": 4
        }
      ]
    },
    {
      "cell_type": "code",
      "metadata": {
        "id": "-tf6o1Vxs1Y6"
      },
      "source": [
        "def getUsuariosSimilares(usuario) :\n",
        "  similaridade = [(calcularDistanciaEuclidiana(usuario, outro), outro)\n",
        "                    for outro in avaliacoes if outro != usuario ]\n",
        "  similaridade.sort()\n",
        "  similaridade.reverse()\n",
        "  return similaridade"
      ],
      "execution_count": null,
      "outputs": []
    },
    {
      "cell_type": "code",
      "metadata": {
        "colab": {
          "base_uri": "https://localhost:8080/"
        },
        "id": "IrNje-tEtidM",
        "outputId": "08c30b53-7026-4e43-bba8-42a693357803"
      },
      "source": [
        "getUsuariosSimilares('Claudia')"
      ],
      "execution_count": null,
      "outputs": [
        {
          "output_type": "execute_result",
          "data": {
            "text/plain": [
              "[(0.5358983848622454, 'Pedro'),\n",
              " (0.38742588672279304, 'Ana'),\n",
              " (0.3567891723253309, 'Leonardo'),\n",
              " (0.32037724101704074, 'Janaina'),\n",
              " (0.31451985913875646, 'Adriano'),\n",
              " (0.28172904669025317, 'Marcos')]"
            ]
          },
          "metadata": {
            "tags": []
          },
          "execution_count": 8
        }
      ]
    }
  ]
}